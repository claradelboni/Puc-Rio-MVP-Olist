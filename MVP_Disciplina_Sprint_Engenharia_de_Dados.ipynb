{
  "cells": [
    {
      "cell_type": "markdown",
      "metadata": {
        "application/vnd.databricks.v1+cell": {
          "cellMetadata": {},
          "inputWidgets": {},
          "nuid": "36fdc9f6-7622-44bb-8e6e-228393d36c7e",
          "showTitle": false,
          "tableResultSettingsMap": {},
          "title": ""
        },
        "id": "I22JW18xwppW"
      },
      "source": [
        "# Todo o relatório deste MVP consta anexado no diretório do Github."
      ]
    },
    {
      "cell_type": "markdown",
      "metadata": {
        "application/vnd.databricks.v1+cell": {
          "cellMetadata": {},
          "inputWidgets": {},
          "nuid": "441d0fe8-7969-4669-a3f8-538ed06367ff",
          "showTitle": false,
          "tableResultSettingsMap": {},
          "title": ""
        },
        "id": "GRVOooKqwppX"
      },
      "source": [
        "###Carga de arquivos CSV"
      ]
    },
    {
      "cell_type": "markdown",
      "metadata": {
        "application/vnd.databricks.v1+cell": {
          "cellMetadata": {},
          "inputWidgets": {},
          "nuid": "272426bc-fd57-47b3-bb1f-f97fbacf17bd",
          "showTitle": false,
          "tableResultSettingsMap": {},
          "title": ""
        },
        "id": "padBMTBnwppX"
      },
      "source": [
        "Comando que cria diretório no DBFS"
      ]
    },
    {
      "cell_type": "code",
      "execution_count": null,
      "metadata": {
        "application/vnd.databricks.v1+cell": {
          "cellMetadata": {
            "byteLimit": 2048000,
            "rowLimit": 10000
          },
          "inputWidgets": {},
          "nuid": "fd436886-8d45-45e6-ba9b-46a282786c25",
          "showTitle": false,
          "tableResultSettingsMap": {},
          "title": ""
        },
        "id": "QUNJ4pOVwppY",
        "outputId": "5877bafa-f856-48b4-a0b0-755f7ff6b50b"
      },
      "outputs": [
        {
          "output_type": "stream",
          "name": "stdout",
          "text": [
            "Out[1]: True"
          ]
        }
      ],
      "source": [
        "dbutils.fs.mkdirs('/FileStore/tables/Orders')"
      ]
    },
    {
      "cell_type": "code",
      "execution_count": null,
      "metadata": {
        "application/vnd.databricks.v1+cell": {
          "cellMetadata": {
            "byteLimit": 2048000,
            "rowLimit": 10000
          },
          "inputWidgets": {},
          "nuid": "a3d4045b-6989-4d6c-929a-dab759146000",
          "showTitle": false,
          "tableResultSettingsMap": {},
          "title": ""
        },
        "id": "j11nM9YxwppZ",
        "outputId": "3ad519a4-24b3-4129-ec1a-89886ad8db25"
      },
      "outputs": [
        {
          "output_type": "display_data",
          "data": {
            "text/html": [
              "<style scoped>\n",
              "  .table-result-container {\n",
              "    max-height: 300px;\n",
              "    overflow: auto;\n",
              "  }\n",
              "  table, th, td {\n",
              "    border: 1px solid black;\n",
              "    border-collapse: collapse;\n",
              "  }\n",
              "  th, td {\n",
              "    padding: 5px;\n",
              "  }\n",
              "  th {\n",
              "    text-align: left;\n",
              "  }\n",
              "</style><div class='table-result-container'><table class='table-result'><thead style='background-color: white'><tr><th>path</th><th>name</th><th>size</th><th>modificationTime</th></tr></thead><tbody><tr><td>dbfs:/FileStore/tables/Orders/olist_customers_dataset.csv</td><td>olist_customers_dataset.csv</td><td>9033957</td><td>1742396044000</td></tr><tr><td>dbfs:/FileStore/tables/Orders/olist_geolocation_dataset.csv</td><td>olist_geolocation_dataset.csv</td><td>61273883</td><td>1742396058000</td></tr><tr><td>dbfs:/FileStore/tables/Orders/olist_order_items_dataset.csv</td><td>olist_order_items_dataset.csv</td><td>15438671</td><td>1742396049000</td></tr><tr><td>dbfs:/FileStore/tables/Orders/olist_order_payments_dataset.csv</td><td>olist_order_payments_dataset.csv</td><td>5777138</td><td>1742396050000</td></tr><tr><td>dbfs:/FileStore/tables/Orders/olist_order_reviews_dataset.csv</td><td>olist_order_reviews_dataset.csv</td><td>14451670</td><td>1742396055000</td></tr><tr><td>dbfs:/FileStore/tables/Orders/olist_orders_dataset.csv</td><td>olist_orders_dataset.csv</td><td>17654914</td><td>1742396060000</td></tr><tr><td>dbfs:/FileStore/tables/Orders/olist_products_dataset.csv</td><td>olist_products_dataset.csv</td><td>2379446</td><td>1742396059000</td></tr><tr><td>dbfs:/FileStore/tables/Orders/olist_sellers_dataset.csv</td><td>olist_sellers_dataset.csv</td><td>174703</td><td>1742396060000</td></tr><tr><td>dbfs:/FileStore/tables/Orders/product_category_name_translation.csv</td><td>product_category_name_translation.csv</td><td>2613</td><td>1742396060000</td></tr></tbody></table></div>"
            ]
          },
          "metadata": {
            "application/vnd.databricks.v1+output": {
              "addedWidgets": {},
              "aggData": [],
              "aggError": "",
              "aggOverflow": false,
              "aggSchema": [],
              "aggSeriesLimitReached": false,
              "aggType": "",
              "arguments": {},
              "columnCustomDisplayInfos": {},
              "data": [
                [
                  "dbfs:/FileStore/tables/Orders/olist_customers_dataset.csv",
                  "olist_customers_dataset.csv",
                  9033957,
                  1742396044000
                ],
                [
                  "dbfs:/FileStore/tables/Orders/olist_geolocation_dataset.csv",
                  "olist_geolocation_dataset.csv",
                  61273883,
                  1742396058000
                ],
                [
                  "dbfs:/FileStore/tables/Orders/olist_order_items_dataset.csv",
                  "olist_order_items_dataset.csv",
                  15438671,
                  1742396049000
                ],
                [
                  "dbfs:/FileStore/tables/Orders/olist_order_payments_dataset.csv",
                  "olist_order_payments_dataset.csv",
                  5777138,
                  1742396050000
                ],
                [
                  "dbfs:/FileStore/tables/Orders/olist_order_reviews_dataset.csv",
                  "olist_order_reviews_dataset.csv",
                  14451670,
                  1742396055000
                ],
                [
                  "dbfs:/FileStore/tables/Orders/olist_orders_dataset.csv",
                  "olist_orders_dataset.csv",
                  17654914,
                  1742396060000
                ],
                [
                  "dbfs:/FileStore/tables/Orders/olist_products_dataset.csv",
                  "olist_products_dataset.csv",
                  2379446,
                  1742396059000
                ],
                [
                  "dbfs:/FileStore/tables/Orders/olist_sellers_dataset.csv",
                  "olist_sellers_dataset.csv",
                  174703,
                  1742396060000
                ],
                [
                  "dbfs:/FileStore/tables/Orders/product_category_name_translation.csv",
                  "product_category_name_translation.csv",
                  2613,
                  1742396060000
                ]
              ],
              "datasetInfos": [],
              "dbfsResultPath": null,
              "isJsonSchema": true,
              "metadata": {},
              "overflow": false,
              "plotOptions": {
                "customPlotOptions": {},
                "displayType": "table",
                "pivotAggregation": null,
                "pivotColumns": null,
                "xColumns": null,
                "yColumns": null
              },
              "removedWidgets": [],
              "schema": [
                {
                  "metadata": "{}",
                  "name": "path",
                  "type": "\"string\""
                },
                {
                  "metadata": "{}",
                  "name": "name",
                  "type": "\"string\""
                },
                {
                  "metadata": "{}",
                  "name": "size",
                  "type": "\"long\""
                },
                {
                  "metadata": "{}",
                  "name": "modificationTime",
                  "type": "\"long\""
                }
              ],
              "type": "table"
            }
          }
        }
      ],
      "source": [
        "display(dbutils.fs.ls('dbfs:/FileStore/tables/Orders'))"
      ]
    },
    {
      "cell_type": "markdown",
      "metadata": {
        "application/vnd.databricks.v1+cell": {
          "cellMetadata": {},
          "inputWidgets": {},
          "nuid": "48067ca8-ad8d-44ec-8dae-3208135d81a2",
          "showTitle": false,
          "tableResultSettingsMap": {},
          "title": ""
        },
        "id": "yOYAf8vxwppa"
      },
      "source": [
        "Criando banco de dados no sistema de gerenciamento de dados - Camada **Bronze**"
      ]
    },
    {
      "cell_type": "code",
      "execution_count": null,
      "metadata": {
        "application/vnd.databricks.v1+cell": {
          "cellMetadata": {
            "byteLimit": 2048000,
            "implicitDf": true,
            "rowLimit": 10000
          },
          "inputWidgets": {},
          "nuid": "9e8c7966-7623-4d79-bf87-26944ff74a3b",
          "showTitle": false,
          "tableResultSettingsMap": {},
          "title": ""
        },
        "id": "x5no8wDLwppa",
        "outputId": "cdf0c55d-4fbd-47b5-9582-258835796d02"
      },
      "outputs": [
        {
          "output_type": "display_data",
          "data": {
            "text/html": [
              "<style scoped>\n",
              "  .table-result-container {\n",
              "    max-height: 300px;\n",
              "    overflow: auto;\n",
              "  }\n",
              "  table, th, td {\n",
              "    border: 1px solid black;\n",
              "    border-collapse: collapse;\n",
              "  }\n",
              "  th, td {\n",
              "    padding: 5px;\n",
              "  }\n",
              "  th {\n",
              "    text-align: left;\n",
              "  }\n",
              "</style><div class='table-result-container'><table class='table-result'><thead style='background-color: white'><tr></tr></thead><tbody></tbody></table></div>"
            ]
          },
          "metadata": {
            "application/vnd.databricks.v1+output": {
              "addedWidgets": {},
              "aggData": [],
              "aggError": "",
              "aggOverflow": false,
              "aggSchema": [],
              "aggSeriesLimitReached": false,
              "aggType": "",
              "arguments": {},
              "columnCustomDisplayInfos": {},
              "data": [],
              "datasetInfos": [],
              "dbfsResultPath": null,
              "isJsonSchema": true,
              "metadata": {},
              "overflow": false,
              "plotOptions": {
                "customPlotOptions": {},
                "displayType": "table",
                "pivotAggregation": null,
                "pivotColumns": null,
                "xColumns": null,
                "yColumns": null
              },
              "removedWidgets": [],
              "schema": [],
              "type": "table"
            }
          }
        }
      ],
      "source": [
        "%sql\n",
        "CREATE DATABASE IF NOT EXISTS Bronze;"
      ]
    },
    {
      "cell_type": "markdown",
      "metadata": {
        "application/vnd.databricks.v1+cell": {
          "cellMetadata": {},
          "inputWidgets": {},
          "nuid": "d9722af2-a08f-4160-9cf9-afae3da0b05f",
          "showTitle": false,
          "tableResultSettingsMap": {},
          "title": ""
        },
        "id": "-Vinl5bDwppb"
      },
      "source": [
        "Criando tabelas no banco Bronze, que lêem diretamente os dados dos CSVs localizados no caminho especificado\n"
      ]
    },
    {
      "cell_type": "code",
      "execution_count": null,
      "metadata": {
        "application/vnd.databricks.v1+cell": {
          "cellMetadata": {
            "byteLimit": 2048000,
            "implicitDf": true,
            "rowLimit": 10000
          },
          "inputWidgets": {},
          "nuid": "2d822ffc-7a06-40cb-9f60-2d28d9b4d0ee",
          "showTitle": false,
          "tableResultSettingsMap": {},
          "title": ""
        },
        "id": "yaXdiljrwppb",
        "outputId": "aaf37600-356f-4279-8ab2-c76038eb9812"
      },
      "outputs": [
        {
          "output_type": "display_data",
          "data": {
            "text/html": [
              "<style scoped>\n",
              "  .table-result-container {\n",
              "    max-height: 300px;\n",
              "    overflow: auto;\n",
              "  }\n",
              "  table, th, td {\n",
              "    border: 1px solid black;\n",
              "    border-collapse: collapse;\n",
              "  }\n",
              "  th, td {\n",
              "    padding: 5px;\n",
              "  }\n",
              "  th {\n",
              "    text-align: left;\n",
              "  }\n",
              "</style><div class='table-result-container'><table class='table-result'><thead style='background-color: white'><tr></tr></thead><tbody></tbody></table></div>"
            ]
          },
          "metadata": {
            "application/vnd.databricks.v1+output": {
              "addedWidgets": {},
              "aggData": [],
              "aggError": "",
              "aggOverflow": false,
              "aggSchema": [],
              "aggSeriesLimitReached": false,
              "aggType": "",
              "arguments": {},
              "columnCustomDisplayInfos": {},
              "data": [],
              "datasetInfos": [],
              "dbfsResultPath": null,
              "isJsonSchema": true,
              "metadata": {},
              "overflow": false,
              "plotOptions": {
                "customPlotOptions": {},
                "displayType": "table",
                "pivotAggregation": null,
                "pivotColumns": null,
                "xColumns": null,
                "yColumns": null
              },
              "removedWidgets": [],
              "schema": [],
              "type": "table"
            }
          }
        }
      ],
      "source": [
        "%sql\n",
        "\n",
        "use Bronze;\n",
        "CREATE table IF NOT EXISTS FatoPedidos\n",
        "USING csv OPTIONS ('path' '/FileStore/tables/Orders/olist_orders_dataset.csv', 'header' 'true');\n",
        "\n",
        "CREATE table IF NOT EXISTS DimReviews_Pedidos\n",
        "USING csv OPTIONS ('path' '/FileStore/tables/Orders/olist_order_reviews_dataset.csv', 'header' 'true');\n",
        "\n",
        "CREATE table IF NOT EXISTS DimClientes\n",
        "USING csv OPTIONS ('path' '/FileStore/tables/Orders/olist_customers_dataset.csv', 'header' 'true');\n",
        "\n",
        "CREATE table IF NOT EXISTS DimGeolocalizacao\n",
        "USING csv OPTIONS ('path' '/FileStore/tables/Orders/olist_geolocation_dataset.csv', 'header' 'true');\n",
        "\n",
        "CREATE table IF NOT EXISTS DimItens_Pedidos\n",
        "USING csv OPTIONS ('path' '/FileStore/tables/Orders/olist_order_items_dataset.csv', 'header' 'true');\n",
        "\n",
        "CREATE table IF NOT EXISTS DimPagamentos_Pedidos\n",
        "USING csv OPTIONS ('path' '/FileStore/tables/Orders/olist_order_payments_dataset.csv', 'header' 'true');\n",
        "\n",
        "CREATE table IF NOT EXISTS DimProdutos\n",
        "USING csv OPTIONS ('path' '/FileStore/tables/Orders/olist_products_dataset.csv', 'header' 'true');\n",
        "\n",
        "CREATE table IF NOT EXISTS DimVendedores\n",
        "USING csv OPTIONS ('path' '/FileStore/tables/Orders/olist_sellers_dataset.csv', 'header' 'true');"
      ]
    },
    {
      "cell_type": "code",
      "execution_count": null,
      "metadata": {
        "application/vnd.databricks.v1+cell": {
          "cellMetadata": {
            "byteLimit": 2048000,
            "implicitDf": true,
            "rowLimit": 10000
          },
          "inputWidgets": {},
          "nuid": "2e89e99f-7f29-4c88-b9c2-ca630352d93c",
          "showTitle": false,
          "tableResultSettingsMap": {},
          "title": ""
        },
        "id": "A85-p89Owppc",
        "outputId": "c4bbcc72-fdee-4e99-ed86-ca69a2e0e273"
      },
      "outputs": [
        {
          "output_type": "display_data",
          "data": {
            "text/html": [
              "<style scoped>\n",
              "  .table-result-container {\n",
              "    max-height: 300px;\n",
              "    overflow: auto;\n",
              "  }\n",
              "  table, th, td {\n",
              "    border: 1px solid black;\n",
              "    border-collapse: collapse;\n",
              "  }\n",
              "  th, td {\n",
              "    padding: 5px;\n",
              "  }\n",
              "  th {\n",
              "    text-align: left;\n",
              "  }\n",
              "</style><div class='table-result-container'><table class='table-result'><thead style='background-color: white'><tr><th>order_id</th><th>customer_id</th><th>order_status</th><th>order_purchase_timestamp</th><th>order_approved_at</th><th>order_delivered_carrier_date</th><th>order_delivered_customer_date</th><th>order_estimated_delivery_date</th></tr></thead><tbody><tr><td>e481f51cbdc54678b7cc49136f2d6af7</td><td>9ef432eb6251297304e76186b10a928d</td><td>delivered</td><td>2017-10-02 10:56:33</td><td>2017-10-02 11:07:15</td><td>2017-10-04 19:55:00</td><td>2017-10-10 21:25:13</td><td>2017-10-18 00:00:00</td></tr><tr><td>53cdb2fc8bc7dce0b6741e2150273451</td><td>b0830fb4747a6c6d20dea0b8c802d7ef</td><td>delivered</td><td>2018-07-24 20:41:37</td><td>2018-07-26 03:24:27</td><td>2018-07-26 14:31:00</td><td>2018-08-07 15:27:45</td><td>2018-08-13 00:00:00</td></tr><tr><td>47770eb9100c2d0c44946d9cf07ec65d</td><td>41ce2a54c0b03bf3443c3d931a367089</td><td>delivered</td><td>2018-08-08 08:38:49</td><td>2018-08-08 08:55:23</td><td>2018-08-08 13:50:00</td><td>2018-08-17 18:06:29</td><td>2018-09-04 00:00:00</td></tr><tr><td>949d5b44dbf5de918fe9c16f97b45f8a</td><td>f88197465ea7920adcdbec7375364d82</td><td>delivered</td><td>2017-11-18 19:28:06</td><td>2017-11-18 19:45:59</td><td>2017-11-22 13:39:59</td><td>2017-12-02 00:28:42</td><td>2017-12-15 00:00:00</td></tr><tr><td>ad21c59c0840e6cb83a9ceb5573f8159</td><td>8ab97904e6daea8866dbdbc4fb7aad2c</td><td>delivered</td><td>2018-02-13 21:18:39</td><td>2018-02-13 22:20:29</td><td>2018-02-14 19:46:34</td><td>2018-02-16 18:17:02</td><td>2018-02-26 00:00:00</td></tr></tbody></table></div>"
            ]
          },
          "metadata": {
            "application/vnd.databricks.v1+output": {
              "addedWidgets": {},
              "aggData": [],
              "aggError": "",
              "aggOverflow": false,
              "aggSchema": [],
              "aggSeriesLimitReached": false,
              "aggType": "",
              "arguments": {},
              "columnCustomDisplayInfos": {},
              "data": [
                [
                  "e481f51cbdc54678b7cc49136f2d6af7",
                  "9ef432eb6251297304e76186b10a928d",
                  "delivered",
                  "2017-10-02 10:56:33",
                  "2017-10-02 11:07:15",
                  "2017-10-04 19:55:00",
                  "2017-10-10 21:25:13",
                  "2017-10-18 00:00:00"
                ],
                [
                  "53cdb2fc8bc7dce0b6741e2150273451",
                  "b0830fb4747a6c6d20dea0b8c802d7ef",
                  "delivered",
                  "2018-07-24 20:41:37",
                  "2018-07-26 03:24:27",
                  "2018-07-26 14:31:00",
                  "2018-08-07 15:27:45",
                  "2018-08-13 00:00:00"
                ],
                [
                  "47770eb9100c2d0c44946d9cf07ec65d",
                  "41ce2a54c0b03bf3443c3d931a367089",
                  "delivered",
                  "2018-08-08 08:38:49",
                  "2018-08-08 08:55:23",
                  "2018-08-08 13:50:00",
                  "2018-08-17 18:06:29",
                  "2018-09-04 00:00:00"
                ],
                [
                  "949d5b44dbf5de918fe9c16f97b45f8a",
                  "f88197465ea7920adcdbec7375364d82",
                  "delivered",
                  "2017-11-18 19:28:06",
                  "2017-11-18 19:45:59",
                  "2017-11-22 13:39:59",
                  "2017-12-02 00:28:42",
                  "2017-12-15 00:00:00"
                ],
                [
                  "ad21c59c0840e6cb83a9ceb5573f8159",
                  "8ab97904e6daea8866dbdbc4fb7aad2c",
                  "delivered",
                  "2018-02-13 21:18:39",
                  "2018-02-13 22:20:29",
                  "2018-02-14 19:46:34",
                  "2018-02-16 18:17:02",
                  "2018-02-26 00:00:00"
                ]
              ],
              "datasetInfos": [],
              "dbfsResultPath": null,
              "isJsonSchema": true,
              "metadata": {},
              "overflow": false,
              "plotOptions": {
                "customPlotOptions": {},
                "displayType": "table",
                "pivotAggregation": null,
                "pivotColumns": null,
                "xColumns": null,
                "yColumns": null
              },
              "removedWidgets": [],
              "schema": [
                {
                  "metadata": "{}",
                  "name": "order_id",
                  "type": "\"string\""
                },
                {
                  "metadata": "{}",
                  "name": "customer_id",
                  "type": "\"string\""
                },
                {
                  "metadata": "{}",
                  "name": "order_status",
                  "type": "\"string\""
                },
                {
                  "metadata": "{}",
                  "name": "order_purchase_timestamp",
                  "type": "\"string\""
                },
                {
                  "metadata": "{}",
                  "name": "order_approved_at",
                  "type": "\"string\""
                },
                {
                  "metadata": "{}",
                  "name": "order_delivered_carrier_date",
                  "type": "\"string\""
                },
                {
                  "metadata": "{}",
                  "name": "order_delivered_customer_date",
                  "type": "\"string\""
                },
                {
                  "metadata": "{}",
                  "name": "order_estimated_delivery_date",
                  "type": "\"string\""
                }
              ],
              "type": "table"
            }
          }
        }
      ],
      "source": [
        "%sql SELECT * FROM Bronze.FatoPedidos LIMIT 5"
      ]
    },
    {
      "cell_type": "markdown",
      "metadata": {
        "application/vnd.databricks.v1+cell": {
          "cellMetadata": {},
          "inputWidgets": {},
          "nuid": "11561641-27d0-4ea5-ab11-22d0feee9d04",
          "showTitle": false,
          "tableResultSettingsMap": {},
          "title": ""
        },
        "id": "wcTIuujnwppc"
      },
      "source": [
        "Criando banco de dados no sistema de gerenciamento de dados - Camada **Silver**"
      ]
    },
    {
      "cell_type": "code",
      "execution_count": null,
      "metadata": {
        "application/vnd.databricks.v1+cell": {
          "cellMetadata": {
            "byteLimit": 2048000,
            "implicitDf": true,
            "rowLimit": 10000
          },
          "inputWidgets": {},
          "nuid": "f0728ee2-70c4-4aa5-a55f-2a3f3fa0d28d",
          "showTitle": false,
          "tableResultSettingsMap": {},
          "title": ""
        },
        "id": "u_mMiVfIwppc",
        "outputId": "debc606b-b731-48ff-e7a3-600626333c07"
      },
      "outputs": [
        {
          "output_type": "display_data",
          "data": {
            "text/html": [
              "<style scoped>\n",
              "  .table-result-container {\n",
              "    max-height: 300px;\n",
              "    overflow: auto;\n",
              "  }\n",
              "  table, th, td {\n",
              "    border: 1px solid black;\n",
              "    border-collapse: collapse;\n",
              "  }\n",
              "  th, td {\n",
              "    padding: 5px;\n",
              "  }\n",
              "  th {\n",
              "    text-align: left;\n",
              "  }\n",
              "</style><div class='table-result-container'><table class='table-result'><thead style='background-color: white'><tr></tr></thead><tbody></tbody></table></div>"
            ]
          },
          "metadata": {
            "application/vnd.databricks.v1+output": {
              "addedWidgets": {},
              "aggData": [],
              "aggError": "",
              "aggOverflow": false,
              "aggSchema": [],
              "aggSeriesLimitReached": false,
              "aggType": "",
              "arguments": {},
              "columnCustomDisplayInfos": {},
              "data": [],
              "datasetInfos": [],
              "dbfsResultPath": null,
              "isJsonSchema": true,
              "metadata": {},
              "overflow": false,
              "plotOptions": {
                "customPlotOptions": {},
                "displayType": "table",
                "pivotAggregation": null,
                "pivotColumns": null,
                "xColumns": null,
                "yColumns": null
              },
              "removedWidgets": [],
              "schema": [],
              "type": "table"
            }
          }
        }
      ],
      "source": [
        "%sql\n",
        "CREATE DATABASE IF NOT EXISTS Silver;"
      ]
    },
    {
      "cell_type": "code",
      "execution_count": null,
      "metadata": {
        "application/vnd.databricks.v1+cell": {
          "cellMetadata": {
            "byteLimit": 2048000,
            "rowLimit": 10000
          },
          "inputWidgets": {},
          "nuid": "f6e7d9bd-cabb-4d22-bac5-559fb29f98de",
          "showTitle": false,
          "tableResultSettingsMap": {},
          "title": ""
        },
        "id": "5OmMNkT6wppd"
      },
      "outputs": [],
      "source": [
        "clientes_df = spark.read.format(\"csv\").option(\"header\", \"true\").option(\"inferschema\", \"true\").load(\"dbfs:/FileStore/tables/Orders/olist_customers_dataset.csv\")\n",
        "localizacao_df = spark.read.format(\"csv\").option(\"header\", \"true\").option(\"inferschema\", \"true\").load(\"dbfs:/FileStore/tables/Orders/olist_geolocation_dataset.csv\")\n",
        "itens_df = spark.read.format(\"csv\").option(\"header\", \"true\").option(\"inferschema\", \"true\").load(\"dbfs:/FileStore/tables/Orders/olist_order_items_dataset.csv\")\n",
        "pagamentos_df = spark.read.format(\"csv\").option(\"header\", \"true\").option(\"inferschema\", \"true\").load(\"dbfs:/FileStore/tables/Orders/olist_order_payments_dataset.csv\")\n",
        "reviews_df = spark.read.format(\"csv\").option(\"header\", \"true\").option(\"inferschema\", \"true\").load(\"dbfs:/FileStore/tables/Orders/olist_order_reviews_dataset.csv\")\n",
        "pedidos_df = spark.read.format(\"csv\").option(\"header\", \"true\").option(\"inferschema\", \"true\").load(\"dbfs:/FileStore/tables/Orders/olist_orders_dataset.csv\")\n",
        "produtos_df = spark.read.format(\"csv\").option(\"header\", \"true\").option(\"inferschema\", \"true\").load(\"dbfs:/FileStore/tables/Orders/olist_products_dataset.csv\")\n",
        "vendedores_df = spark.read.format(\"csv\").option(\"header\", \"true\").option(\"inferschema\", \"true\").load(\"dbfs:/FileStore/tables/Orders/olist_sellers_dataset.csv\")"
      ]
    },
    {
      "cell_type": "code",
      "execution_count": null,
      "metadata": {
        "application/vnd.databricks.v1+cell": {
          "cellMetadata": {
            "byteLimit": 2048000,
            "rowLimit": 10000
          },
          "inputWidgets": {},
          "nuid": "f1beba79-ce40-4b31-8b7b-c4e8c10b15e4",
          "showTitle": false,
          "tableResultSettingsMap": {},
          "title": ""
        },
        "id": "YoUSiIZfwppd"
      },
      "outputs": [],
      "source": [
        "clientes_df.write.format(\"delta\").mode(\"overwrite\").saveAsTable(\"Silver.DimClientes\")\n",
        "localizacao_df.write.format(\"delta\").mode(\"overwrite\").saveAsTable(\"Silver.DimLocalizacao\")\n",
        "itens_df.write.format(\"delta\").mode(\"overwrite\").saveAsTable(\"Silver.DimItens\")\n",
        "pagamentos_df.write.format(\"delta\").mode(\"overwrite\").saveAsTable(\"Silver.DimPagamentos\")\n",
        "reviews_df.write.format(\"delta\").mode(\"overwrite\").saveAsTable(\"Silver.DimReviews\")\n",
        "pedidos_df.write.format(\"delta\").mode(\"overwrite\").saveAsTable(\"Silver.FatoPedidos\")\n",
        "produtos_df.write.format(\"delta\").mode(\"overwrite\").saveAsTable(\"Silver.DimProdutos\")\n",
        "vendedores_df.write.format(\"delta\").mode(\"overwrite\").saveAsTable(\"Silver.DimVendedores\")"
      ]
    },
    {
      "cell_type": "code",
      "execution_count": null,
      "metadata": {
        "application/vnd.databricks.v1+cell": {
          "cellMetadata": {
            "byteLimit": 2048000,
            "implicitDf": true,
            "rowLimit": 10000
          },
          "inputWidgets": {},
          "nuid": "65e13425-8aad-4b6c-b54d-a46b7c774fbf",
          "showTitle": false,
          "tableResultSettingsMap": {},
          "title": ""
        },
        "id": "AKzrJwD2wppd",
        "outputId": "cc0f6404-c715-4d25-ae99-0c41d03fb778"
      },
      "outputs": [
        {
          "output_type": "display_data",
          "data": {
            "text/html": [
              "<style scoped>\n",
              "  .table-result-container {\n",
              "    max-height: 300px;\n",
              "    overflow: auto;\n",
              "  }\n",
              "  table, th, td {\n",
              "    border: 1px solid black;\n",
              "    border-collapse: collapse;\n",
              "  }\n",
              "  th, td {\n",
              "    padding: 5px;\n",
              "  }\n",
              "  th {\n",
              "    text-align: left;\n",
              "  }\n",
              "</style><div class='table-result-container'><table class='table-result'><thead style='background-color: white'><tr><th>order_id</th><th>customer_id</th><th>order_status</th><th>order_purchase_timestamp</th><th>order_approved_at</th><th>order_delivered_carrier_date</th><th>order_delivered_customer_date</th><th>order_estimated_delivery_date</th><th>payment_total</th><th>total_items</th></tr></thead><tbody><tr><td>e481f51cbdc54678b7cc49136f2d6af7</td><td>9ef432eb6251297304e76186b10a928d</td><td>delivered</td><td>2017-10-02T10:56:33.000+0000</td><td>2017-10-02T11:07:15.000+0000</td><td>2017-10-04T19:55:00.000+0000</td><td>2017-10-10T21:25:13.000+0000</td><td>2017-10-18T00:00:00.000+0000</td><td>null</td><td>null</td></tr><tr><td>53cdb2fc8bc7dce0b6741e2150273451</td><td>b0830fb4747a6c6d20dea0b8c802d7ef</td><td>delivered</td><td>2018-07-24T20:41:37.000+0000</td><td>2018-07-26T03:24:27.000+0000</td><td>2018-07-26T14:31:00.000+0000</td><td>2018-08-07T15:27:45.000+0000</td><td>2018-08-13T00:00:00.000+0000</td><td>null</td><td>null</td></tr><tr><td>47770eb9100c2d0c44946d9cf07ec65d</td><td>41ce2a54c0b03bf3443c3d931a367089</td><td>delivered</td><td>2018-08-08T08:38:49.000+0000</td><td>2018-08-08T08:55:23.000+0000</td><td>2018-08-08T13:50:00.000+0000</td><td>2018-08-17T18:06:29.000+0000</td><td>2018-09-04T00:00:00.000+0000</td><td>null</td><td>null</td></tr><tr><td>949d5b44dbf5de918fe9c16f97b45f8a</td><td>f88197465ea7920adcdbec7375364d82</td><td>delivered</td><td>2017-11-18T19:28:06.000+0000</td><td>2017-11-18T19:45:59.000+0000</td><td>2017-11-22T13:39:59.000+0000</td><td>2017-12-02T00:28:42.000+0000</td><td>2017-12-15T00:00:00.000+0000</td><td>null</td><td>null</td></tr><tr><td>ad21c59c0840e6cb83a9ceb5573f8159</td><td>8ab97904e6daea8866dbdbc4fb7aad2c</td><td>delivered</td><td>2018-02-13T21:18:39.000+0000</td><td>2018-02-13T22:20:29.000+0000</td><td>2018-02-14T19:46:34.000+0000</td><td>2018-02-16T18:17:02.000+0000</td><td>2018-02-26T00:00:00.000+0000</td><td>null</td><td>null</td></tr></tbody></table></div>"
            ]
          },
          "metadata": {
            "application/vnd.databricks.v1+output": {
              "addedWidgets": {},
              "aggData": [],
              "aggError": "",
              "aggOverflow": false,
              "aggSchema": [],
              "aggSeriesLimitReached": false,
              "aggType": "",
              "arguments": {},
              "columnCustomDisplayInfos": {},
              "data": [
                [
                  "e481f51cbdc54678b7cc49136f2d6af7",
                  "9ef432eb6251297304e76186b10a928d",
                  "delivered",
                  "2017-10-02T10:56:33.000+0000",
                  "2017-10-02T11:07:15.000+0000",
                  "2017-10-04T19:55:00.000+0000",
                  "2017-10-10T21:25:13.000+0000",
                  "2017-10-18T00:00:00.000+0000",
                  null,
                  null
                ],
                [
                  "53cdb2fc8bc7dce0b6741e2150273451",
                  "b0830fb4747a6c6d20dea0b8c802d7ef",
                  "delivered",
                  "2018-07-24T20:41:37.000+0000",
                  "2018-07-26T03:24:27.000+0000",
                  "2018-07-26T14:31:00.000+0000",
                  "2018-08-07T15:27:45.000+0000",
                  "2018-08-13T00:00:00.000+0000",
                  null,
                  null
                ],
                [
                  "47770eb9100c2d0c44946d9cf07ec65d",
                  "41ce2a54c0b03bf3443c3d931a367089",
                  "delivered",
                  "2018-08-08T08:38:49.000+0000",
                  "2018-08-08T08:55:23.000+0000",
                  "2018-08-08T13:50:00.000+0000",
                  "2018-08-17T18:06:29.000+0000",
                  "2018-09-04T00:00:00.000+0000",
                  null,
                  null
                ],
                [
                  "949d5b44dbf5de918fe9c16f97b45f8a",
                  "f88197465ea7920adcdbec7375364d82",
                  "delivered",
                  "2017-11-18T19:28:06.000+0000",
                  "2017-11-18T19:45:59.000+0000",
                  "2017-11-22T13:39:59.000+0000",
                  "2017-12-02T00:28:42.000+0000",
                  "2017-12-15T00:00:00.000+0000",
                  null,
                  null
                ],
                [
                  "ad21c59c0840e6cb83a9ceb5573f8159",
                  "8ab97904e6daea8866dbdbc4fb7aad2c",
                  "delivered",
                  "2018-02-13T21:18:39.000+0000",
                  "2018-02-13T22:20:29.000+0000",
                  "2018-02-14T19:46:34.000+0000",
                  "2018-02-16T18:17:02.000+0000",
                  "2018-02-26T00:00:00.000+0000",
                  null,
                  null
                ]
              ],
              "datasetInfos": [],
              "dbfsResultPath": null,
              "isJsonSchema": true,
              "metadata": {},
              "overflow": false,
              "plotOptions": {
                "customPlotOptions": {},
                "displayType": "table",
                "pivotAggregation": null,
                "pivotColumns": null,
                "xColumns": null,
                "yColumns": null
              },
              "removedWidgets": [],
              "schema": [
                {
                  "metadata": "{}",
                  "name": "order_id",
                  "type": "\"string\""
                },
                {
                  "metadata": "{}",
                  "name": "customer_id",
                  "type": "\"string\""
                },
                {
                  "metadata": "{}",
                  "name": "order_status",
                  "type": "\"string\""
                },
                {
                  "metadata": "{}",
                  "name": "order_purchase_timestamp",
                  "type": "\"timestamp\""
                },
                {
                  "metadata": "{}",
                  "name": "order_approved_at",
                  "type": "\"timestamp\""
                },
                {
                  "metadata": "{}",
                  "name": "order_delivered_carrier_date",
                  "type": "\"timestamp\""
                },
                {
                  "metadata": "{}",
                  "name": "order_delivered_customer_date",
                  "type": "\"timestamp\""
                },
                {
                  "metadata": "{}",
                  "name": "order_estimated_delivery_date",
                  "type": "\"timestamp\""
                },
                {
                  "metadata": "{}",
                  "name": "payment_total",
                  "type": "\"decimal(10,2)\""
                },
                {
                  "metadata": "{}",
                  "name": "total_items",
                  "type": "\"integer\""
                }
              ],
              "type": "table"
            }
          }
        }
      ],
      "source": [
        "%sql SELECT * FROM Silver.FatoPedidos LIMIT 5"
      ]
    },
    {
      "cell_type": "markdown",
      "metadata": {
        "application/vnd.databricks.v1+cell": {
          "cellMetadata": {},
          "inputWidgets": {},
          "nuid": "48405da3-5e27-46b4-97d0-698ffc142da8",
          "showTitle": false,
          "tableResultSettingsMap": {},
          "title": ""
        },
        "id": "exIyq8Mqwppd"
      },
      "source": [
        "Visualizando informações sobre as tabelas"
      ]
    },
    {
      "cell_type": "code",
      "execution_count": null,
      "metadata": {
        "application/vnd.databricks.v1+cell": {
          "cellMetadata": {
            "byteLimit": 2048000,
            "implicitDf": true,
            "rowLimit": 10000
          },
          "inputWidgets": {},
          "nuid": "6f7d0295-bd2c-496f-aaa5-5bc943038738",
          "showTitle": false,
          "tableResultSettingsMap": {},
          "title": ""
        },
        "id": "I4gFmzmUwppd",
        "outputId": "c71c3ae4-c9e5-4a9c-da24-02b096b4c983"
      },
      "outputs": [
        {
          "output_type": "display_data",
          "data": {
            "text/html": [
              "<style scoped>\n",
              "  .table-result-container {\n",
              "    max-height: 300px;\n",
              "    overflow: auto;\n",
              "  }\n",
              "  table, th, td {\n",
              "    border: 1px solid black;\n",
              "    border-collapse: collapse;\n",
              "  }\n",
              "  th, td {\n",
              "    padding: 5px;\n",
              "  }\n",
              "  th {\n",
              "    text-align: left;\n",
              "  }\n",
              "</style><div class='table-result-container'><table class='table-result'><thead style='background-color: white'><tr><th>col_name</th><th>data_type</th><th>comment</th></tr></thead><tbody><tr><td>order_id</td><td>string</td><td>null</td></tr><tr><td>customer_id</td><td>string</td><td>null</td></tr><tr><td>order_status</td><td>string</td><td>null</td></tr><tr><td>order_purchase_timestamp</td><td>timestamp</td><td>null</td></tr><tr><td>order_approved_at</td><td>timestamp</td><td>null</td></tr><tr><td>order_delivered_carrier_date</td><td>timestamp</td><td>null</td></tr><tr><td>order_delivered_customer_date</td><td>timestamp</td><td>null</td></tr><tr><td>order_estimated_delivery_date</td><td>timestamp</td><td>null</td></tr><tr><td>payment_total</td><td>decimal(10,2)</td><td>null</td></tr><tr><td>total_items</td><td>int</td><td>null</td></tr></tbody></table></div>"
            ]
          },
          "metadata": {
            "application/vnd.databricks.v1+output": {
              "addedWidgets": {},
              "aggData": [],
              "aggError": "",
              "aggOverflow": false,
              "aggSchema": [],
              "aggSeriesLimitReached": false,
              "aggType": "",
              "arguments": {},
              "columnCustomDisplayInfos": {},
              "data": [
                [
                  "order_id",
                  "string",
                  null
                ],
                [
                  "customer_id",
                  "string",
                  null
                ],
                [
                  "order_status",
                  "string",
                  null
                ],
                [
                  "order_purchase_timestamp",
                  "timestamp",
                  null
                ],
                [
                  "order_approved_at",
                  "timestamp",
                  null
                ],
                [
                  "order_delivered_carrier_date",
                  "timestamp",
                  null
                ],
                [
                  "order_delivered_customer_date",
                  "timestamp",
                  null
                ],
                [
                  "order_estimated_delivery_date",
                  "timestamp",
                  null
                ],
                [
                  "payment_total",
                  "decimal(10,2)",
                  null
                ],
                [
                  "total_items",
                  "int",
                  null
                ]
              ],
              "datasetInfos": [],
              "dbfsResultPath": null,
              "isJsonSchema": true,
              "metadata": {},
              "overflow": false,
              "plotOptions": {
                "customPlotOptions": {},
                "displayType": "table",
                "pivotAggregation": null,
                "pivotColumns": null,
                "xColumns": null,
                "yColumns": null
              },
              "removedWidgets": [],
              "schema": [
                {
                  "metadata": "{\"comment\":\"name of the column\"}",
                  "name": "col_name",
                  "type": "\"string\""
                },
                {
                  "metadata": "{\"comment\":\"data type of the column\"}",
                  "name": "data_type",
                  "type": "\"string\""
                },
                {
                  "metadata": "{\"comment\":\"comment of the column\"}",
                  "name": "comment",
                  "type": "\"string\""
                }
              ],
              "type": "table"
            }
          }
        }
      ],
      "source": [
        "%sql\n",
        "DESCRIBE silver.fatopedidos"
      ]
    },
    {
      "cell_type": "code",
      "execution_count": null,
      "metadata": {
        "application/vnd.databricks.v1+cell": {
          "cellMetadata": {
            "byteLimit": 2048000,
            "implicitDf": true,
            "rowLimit": 10000
          },
          "inputWidgets": {},
          "nuid": "bd5fb0c5-8168-41c3-9d43-d82b00293b15",
          "showTitle": false,
          "tableResultSettingsMap": {},
          "title": ""
        },
        "id": "CFLlhiHzwppe",
        "outputId": "0a7f7f9e-68bf-44aa-db78-e7afa7236c41"
      },
      "outputs": [
        {
          "output_type": "display_data",
          "data": {
            "text/html": [
              "<style scoped>\n",
              "  .table-result-container {\n",
              "    max-height: 300px;\n",
              "    overflow: auto;\n",
              "  }\n",
              "  table, th, td {\n",
              "    border: 1px solid black;\n",
              "    border-collapse: collapse;\n",
              "  }\n",
              "  th, td {\n",
              "    padding: 5px;\n",
              "  }\n",
              "  th {\n",
              "    text-align: left;\n",
              "  }\n",
              "</style><div class='table-result-container'><table class='table-result'><thead style='background-color: white'><tr><th>col_name</th><th>data_type</th><th>comment</th></tr></thead><tbody><tr><td>customer_id</td><td>string</td><td>null</td></tr><tr><td>customer_unique_id</td><td>string</td><td>null</td></tr><tr><td>customer_zip_code_prefix</td><td>int</td><td>null</td></tr><tr><td>customer_city</td><td>string</td><td>null</td></tr><tr><td>customer_state</td><td>string</td><td>null</td></tr></tbody></table></div>"
            ]
          },
          "metadata": {
            "application/vnd.databricks.v1+output": {
              "addedWidgets": {},
              "aggData": [],
              "aggError": "",
              "aggOverflow": false,
              "aggSchema": [],
              "aggSeriesLimitReached": false,
              "aggType": "",
              "arguments": {},
              "columnCustomDisplayInfos": {},
              "data": [
                [
                  "customer_id",
                  "string",
                  null
                ],
                [
                  "customer_unique_id",
                  "string",
                  null
                ],
                [
                  "customer_zip_code_prefix",
                  "int",
                  null
                ],
                [
                  "customer_city",
                  "string",
                  null
                ],
                [
                  "customer_state",
                  "string",
                  null
                ]
              ],
              "datasetInfos": [],
              "dbfsResultPath": null,
              "isJsonSchema": true,
              "metadata": {},
              "overflow": false,
              "plotOptions": {
                "customPlotOptions": {},
                "displayType": "table",
                "pivotAggregation": null,
                "pivotColumns": null,
                "xColumns": null,
                "yColumns": null
              },
              "removedWidgets": [],
              "schema": [
                {
                  "metadata": "{\"comment\":\"name of the column\"}",
                  "name": "col_name",
                  "type": "\"string\""
                },
                {
                  "metadata": "{\"comment\":\"data type of the column\"}",
                  "name": "data_type",
                  "type": "\"string\""
                },
                {
                  "metadata": "{\"comment\":\"comment of the column\"}",
                  "name": "comment",
                  "type": "\"string\""
                }
              ],
              "type": "table"
            }
          }
        }
      ],
      "source": [
        "%sql\n",
        "DESCRIBE silver.dimclientes"
      ]
    },
    {
      "cell_type": "code",
      "execution_count": null,
      "metadata": {
        "application/vnd.databricks.v1+cell": {
          "cellMetadata": {
            "byteLimit": 2048000,
            "implicitDf": true,
            "rowLimit": 10000
          },
          "inputWidgets": {},
          "nuid": "65ae4061-95e7-4274-972e-b3ca1b3fc125",
          "showTitle": false,
          "tableResultSettingsMap": {},
          "title": ""
        },
        "id": "qlpyOfa_wppe",
        "outputId": "25e74fab-2105-4b76-c8e9-1b01cf3df3cf"
      },
      "outputs": [
        {
          "output_type": "display_data",
          "data": {
            "text/html": [
              "<style scoped>\n",
              "  .table-result-container {\n",
              "    max-height: 300px;\n",
              "    overflow: auto;\n",
              "  }\n",
              "  table, th, td {\n",
              "    border: 1px solid black;\n",
              "    border-collapse: collapse;\n",
              "  }\n",
              "  th, td {\n",
              "    padding: 5px;\n",
              "  }\n",
              "  th {\n",
              "    text-align: left;\n",
              "  }\n",
              "</style><div class='table-result-container'><table class='table-result'><thead style='background-color: white'><tr><th>col_name</th><th>data_type</th><th>comment</th></tr></thead><tbody><tr><td>geolocation_zip_code_prefix</td><td>int</td><td>null</td></tr><tr><td>geolocation_lat</td><td>double</td><td>null</td></tr><tr><td>geolocation_lng</td><td>double</td><td>null</td></tr><tr><td>geolocation_city</td><td>string</td><td>null</td></tr><tr><td>geolocation_state</td><td>string</td><td>null</td></tr></tbody></table></div>"
            ]
          },
          "metadata": {
            "application/vnd.databricks.v1+output": {
              "addedWidgets": {},
              "aggData": [],
              "aggError": "",
              "aggOverflow": false,
              "aggSchema": [],
              "aggSeriesLimitReached": false,
              "aggType": "",
              "arguments": {},
              "columnCustomDisplayInfos": {},
              "data": [
                [
                  "geolocation_zip_code_prefix",
                  "int",
                  null
                ],
                [
                  "geolocation_lat",
                  "double",
                  null
                ],
                [
                  "geolocation_lng",
                  "double",
                  null
                ],
                [
                  "geolocation_city",
                  "string",
                  null
                ],
                [
                  "geolocation_state",
                  "string",
                  null
                ]
              ],
              "datasetInfos": [],
              "dbfsResultPath": null,
              "isJsonSchema": true,
              "metadata": {},
              "overflow": false,
              "plotOptions": {
                "customPlotOptions": {},
                "displayType": "table",
                "pivotAggregation": null,
                "pivotColumns": null,
                "xColumns": null,
                "yColumns": null
              },
              "removedWidgets": [],
              "schema": [
                {
                  "metadata": "{\"comment\":\"name of the column\"}",
                  "name": "col_name",
                  "type": "\"string\""
                },
                {
                  "metadata": "{\"comment\":\"data type of the column\"}",
                  "name": "data_type",
                  "type": "\"string\""
                },
                {
                  "metadata": "{\"comment\":\"comment of the column\"}",
                  "name": "comment",
                  "type": "\"string\""
                }
              ],
              "type": "table"
            }
          }
        }
      ],
      "source": [
        "%sql\n",
        "DESCRIBE silver.dimlocalizacao"
      ]
    },
    {
      "cell_type": "code",
      "execution_count": null,
      "metadata": {
        "application/vnd.databricks.v1+cell": {
          "cellMetadata": {
            "byteLimit": 2048000,
            "implicitDf": true,
            "rowLimit": 10000
          },
          "inputWidgets": {},
          "nuid": "7ae02bbf-efcd-46d3-bdac-0486d4008dec",
          "showTitle": false,
          "tableResultSettingsMap": {},
          "title": ""
        },
        "id": "Jueh_r-Iwppe",
        "outputId": "89eb7937-1372-4422-a2c6-f6f807c2353c"
      },
      "outputs": [
        {
          "output_type": "display_data",
          "data": {
            "text/html": [
              "<style scoped>\n",
              "  .table-result-container {\n",
              "    max-height: 300px;\n",
              "    overflow: auto;\n",
              "  }\n",
              "  table, th, td {\n",
              "    border: 1px solid black;\n",
              "    border-collapse: collapse;\n",
              "  }\n",
              "  th, td {\n",
              "    padding: 5px;\n",
              "  }\n",
              "  th {\n",
              "    text-align: left;\n",
              "  }\n",
              "</style><div class='table-result-container'><table class='table-result'><thead style='background-color: white'><tr><th>col_name</th><th>data_type</th><th>comment</th></tr></thead><tbody><tr><td>order_id</td><td>string</td><td>null</td></tr><tr><td>order_item_id</td><td>int</td><td>null</td></tr><tr><td>product_id</td><td>string</td><td>null</td></tr><tr><td>seller_id</td><td>string</td><td>null</td></tr><tr><td>shipping_limit_date</td><td>timestamp</td><td>null</td></tr><tr><td>price</td><td>double</td><td>null</td></tr><tr><td>freight_value</td><td>double</td><td>null</td></tr></tbody></table></div>"
            ]
          },
          "metadata": {
            "application/vnd.databricks.v1+output": {
              "addedWidgets": {},
              "aggData": [],
              "aggError": "",
              "aggOverflow": false,
              "aggSchema": [],
              "aggSeriesLimitReached": false,
              "aggType": "",
              "arguments": {},
              "columnCustomDisplayInfos": {},
              "data": [
                [
                  "order_id",
                  "string",
                  null
                ],
                [
                  "order_item_id",
                  "int",
                  null
                ],
                [
                  "product_id",
                  "string",
                  null
                ],
                [
                  "seller_id",
                  "string",
                  null
                ],
                [
                  "shipping_limit_date",
                  "timestamp",
                  null
                ],
                [
                  "price",
                  "double",
                  null
                ],
                [
                  "freight_value",
                  "double",
                  null
                ]
              ],
              "datasetInfos": [],
              "dbfsResultPath": null,
              "isJsonSchema": true,
              "metadata": {},
              "overflow": false,
              "plotOptions": {
                "customPlotOptions": {},
                "displayType": "table",
                "pivotAggregation": null,
                "pivotColumns": null,
                "xColumns": null,
                "yColumns": null
              },
              "removedWidgets": [],
              "schema": [
                {
                  "metadata": "{\"comment\":\"name of the column\"}",
                  "name": "col_name",
                  "type": "\"string\""
                },
                {
                  "metadata": "{\"comment\":\"data type of the column\"}",
                  "name": "data_type",
                  "type": "\"string\""
                },
                {
                  "metadata": "{\"comment\":\"comment of the column\"}",
                  "name": "comment",
                  "type": "\"string\""
                }
              ],
              "type": "table"
            }
          }
        }
      ],
      "source": [
        "%sql\n",
        "DESCRIBE silver.dimitens"
      ]
    },
    {
      "cell_type": "code",
      "execution_count": null,
      "metadata": {
        "application/vnd.databricks.v1+cell": {
          "cellMetadata": {
            "byteLimit": 2048000,
            "implicitDf": true,
            "rowLimit": 10000
          },
          "inputWidgets": {},
          "nuid": "d2c5eaa1-636d-4750-bd12-b30f78bf7f83",
          "showTitle": false,
          "tableResultSettingsMap": {},
          "title": ""
        },
        "id": "eqFH-Ihjwppe",
        "outputId": "aaf6a9e5-710f-4073-e295-3c7d31f91ad6"
      },
      "outputs": [
        {
          "output_type": "display_data",
          "data": {
            "text/html": [
              "<style scoped>\n",
              "  .table-result-container {\n",
              "    max-height: 300px;\n",
              "    overflow: auto;\n",
              "  }\n",
              "  table, th, td {\n",
              "    border: 1px solid black;\n",
              "    border-collapse: collapse;\n",
              "  }\n",
              "  th, td {\n",
              "    padding: 5px;\n",
              "  }\n",
              "  th {\n",
              "    text-align: left;\n",
              "  }\n",
              "</style><div class='table-result-container'><table class='table-result'><thead style='background-color: white'><tr><th>col_name</th><th>data_type</th><th>comment</th></tr></thead><tbody><tr><td>review_id</td><td>string</td><td>null</td></tr><tr><td>order_id</td><td>string</td><td>null</td></tr><tr><td>review_score</td><td>string</td><td>null</td></tr><tr><td>review_comment_title</td><td>string</td><td>null</td></tr><tr><td>review_comment_message</td><td>string</td><td>null</td></tr><tr><td>review_creation_date</td><td>string</td><td>null</td></tr><tr><td>review_answer_timestamp</td><td>string</td><td>null</td></tr></tbody></table></div>"
            ]
          },
          "metadata": {
            "application/vnd.databricks.v1+output": {
              "addedWidgets": {},
              "aggData": [],
              "aggError": "",
              "aggOverflow": false,
              "aggSchema": [],
              "aggSeriesLimitReached": false,
              "aggType": "",
              "arguments": {},
              "columnCustomDisplayInfos": {},
              "data": [
                [
                  "review_id",
                  "string",
                  null
                ],
                [
                  "order_id",
                  "string",
                  null
                ],
                [
                  "review_score",
                  "string",
                  null
                ],
                [
                  "review_comment_title",
                  "string",
                  null
                ],
                [
                  "review_comment_message",
                  "string",
                  null
                ],
                [
                  "review_creation_date",
                  "string",
                  null
                ],
                [
                  "review_answer_timestamp",
                  "string",
                  null
                ]
              ],
              "datasetInfos": [],
              "dbfsResultPath": null,
              "isJsonSchema": true,
              "metadata": {},
              "overflow": false,
              "plotOptions": {
                "customPlotOptions": {},
                "displayType": "table",
                "pivotAggregation": null,
                "pivotColumns": null,
                "xColumns": null,
                "yColumns": null
              },
              "removedWidgets": [],
              "schema": [
                {
                  "metadata": "{\"comment\":\"name of the column\"}",
                  "name": "col_name",
                  "type": "\"string\""
                },
                {
                  "metadata": "{\"comment\":\"data type of the column\"}",
                  "name": "data_type",
                  "type": "\"string\""
                },
                {
                  "metadata": "{\"comment\":\"comment of the column\"}",
                  "name": "comment",
                  "type": "\"string\""
                }
              ],
              "type": "table"
            }
          }
        }
      ],
      "source": [
        "%sql\n",
        "DESCRIBE silver.dimreviews"
      ]
    },
    {
      "cell_type": "code",
      "execution_count": null,
      "metadata": {
        "application/vnd.databricks.v1+cell": {
          "cellMetadata": {
            "byteLimit": 2048000,
            "implicitDf": true,
            "rowLimit": 10000
          },
          "inputWidgets": {},
          "nuid": "1c47b89d-3a81-4e53-b4cb-cb912611ad63",
          "showTitle": false,
          "tableResultSettingsMap": {},
          "title": ""
        },
        "id": "QKGF-02rwppf",
        "outputId": "0022b086-d20d-4149-89ee-7f23a367bff6"
      },
      "outputs": [
        {
          "output_type": "display_data",
          "data": {
            "text/html": [
              "<style scoped>\n",
              "  .table-result-container {\n",
              "    max-height: 300px;\n",
              "    overflow: auto;\n",
              "  }\n",
              "  table, th, td {\n",
              "    border: 1px solid black;\n",
              "    border-collapse: collapse;\n",
              "  }\n",
              "  th, td {\n",
              "    padding: 5px;\n",
              "  }\n",
              "  th {\n",
              "    text-align: left;\n",
              "  }\n",
              "</style><div class='table-result-container'><table class='table-result'><thead style='background-color: white'><tr><th>col_name</th><th>data_type</th><th>comment</th></tr></thead><tbody><tr><td>product_id</td><td>string</td><td>null</td></tr><tr><td>product_category_name</td><td>string</td><td>null</td></tr><tr><td>product_name_lenght</td><td>int</td><td>null</td></tr><tr><td>product_description_lenght</td><td>int</td><td>null</td></tr><tr><td>product_photos_qty</td><td>int</td><td>null</td></tr><tr><td>product_weight_g</td><td>int</td><td>null</td></tr><tr><td>product_length_cm</td><td>int</td><td>null</td></tr><tr><td>product_height_cm</td><td>int</td><td>null</td></tr><tr><td>product_width_cm</td><td>int</td><td>null</td></tr></tbody></table></div>"
            ]
          },
          "metadata": {
            "application/vnd.databricks.v1+output": {
              "addedWidgets": {},
              "aggData": [],
              "aggError": "",
              "aggOverflow": false,
              "aggSchema": [],
              "aggSeriesLimitReached": false,
              "aggType": "",
              "arguments": {},
              "columnCustomDisplayInfos": {},
              "data": [
                [
                  "product_id",
                  "string",
                  null
                ],
                [
                  "product_category_name",
                  "string",
                  null
                ],
                [
                  "product_name_lenght",
                  "int",
                  null
                ],
                [
                  "product_description_lenght",
                  "int",
                  null
                ],
                [
                  "product_photos_qty",
                  "int",
                  null
                ],
                [
                  "product_weight_g",
                  "int",
                  null
                ],
                [
                  "product_length_cm",
                  "int",
                  null
                ],
                [
                  "product_height_cm",
                  "int",
                  null
                ],
                [
                  "product_width_cm",
                  "int",
                  null
                ]
              ],
              "datasetInfos": [],
              "dbfsResultPath": null,
              "isJsonSchema": true,
              "metadata": {},
              "overflow": false,
              "plotOptions": {
                "customPlotOptions": {},
                "displayType": "table",
                "pivotAggregation": null,
                "pivotColumns": null,
                "xColumns": null,
                "yColumns": null
              },
              "removedWidgets": [],
              "schema": [
                {
                  "metadata": "{\"comment\":\"name of the column\"}",
                  "name": "col_name",
                  "type": "\"string\""
                },
                {
                  "metadata": "{\"comment\":\"data type of the column\"}",
                  "name": "data_type",
                  "type": "\"string\""
                },
                {
                  "metadata": "{\"comment\":\"comment of the column\"}",
                  "name": "comment",
                  "type": "\"string\""
                }
              ],
              "type": "table"
            }
          }
        }
      ],
      "source": [
        "%sql\n",
        "DESCRIBE silver.dimprodutos"
      ]
    },
    {
      "cell_type": "code",
      "execution_count": null,
      "metadata": {
        "application/vnd.databricks.v1+cell": {
          "cellMetadata": {
            "byteLimit": 2048000,
            "implicitDf": true,
            "rowLimit": 10000
          },
          "inputWidgets": {},
          "nuid": "91a8d620-0755-4f91-8c52-4ace794ae973",
          "showTitle": false,
          "tableResultSettingsMap": {},
          "title": ""
        },
        "id": "2fpabE7-wppf",
        "outputId": "ade39aec-1e50-4b6c-aaf9-df1e82653516"
      },
      "outputs": [
        {
          "output_type": "display_data",
          "data": {
            "text/html": [
              "<style scoped>\n",
              "  .table-result-container {\n",
              "    max-height: 300px;\n",
              "    overflow: auto;\n",
              "  }\n",
              "  table, th, td {\n",
              "    border: 1px solid black;\n",
              "    border-collapse: collapse;\n",
              "  }\n",
              "  th, td {\n",
              "    padding: 5px;\n",
              "  }\n",
              "  th {\n",
              "    text-align: left;\n",
              "  }\n",
              "</style><div class='table-result-container'><table class='table-result'><thead style='background-color: white'><tr><th>col_name</th><th>data_type</th><th>comment</th></tr></thead><tbody><tr><td>seller_id</td><td>string</td><td>null</td></tr><tr><td>seller_zip_code_prefix</td><td>int</td><td>null</td></tr><tr><td>seller_city</td><td>string</td><td>null</td></tr><tr><td>seller_state</td><td>string</td><td>null</td></tr></tbody></table></div>"
            ]
          },
          "metadata": {
            "application/vnd.databricks.v1+output": {
              "addedWidgets": {},
              "aggData": [],
              "aggError": "",
              "aggOverflow": false,
              "aggSchema": [],
              "aggSeriesLimitReached": false,
              "aggType": "",
              "arguments": {},
              "columnCustomDisplayInfos": {},
              "data": [
                [
                  "seller_id",
                  "string",
                  null
                ],
                [
                  "seller_zip_code_prefix",
                  "int",
                  null
                ],
                [
                  "seller_city",
                  "string",
                  null
                ],
                [
                  "seller_state",
                  "string",
                  null
                ]
              ],
              "datasetInfos": [],
              "dbfsResultPath": null,
              "isJsonSchema": true,
              "metadata": {},
              "overflow": false,
              "plotOptions": {
                "customPlotOptions": {},
                "displayType": "table",
                "pivotAggregation": null,
                "pivotColumns": null,
                "xColumns": null,
                "yColumns": null
              },
              "removedWidgets": [],
              "schema": [
                {
                  "metadata": "{\"comment\":\"name of the column\"}",
                  "name": "col_name",
                  "type": "\"string\""
                },
                {
                  "metadata": "{\"comment\":\"data type of the column\"}",
                  "name": "data_type",
                  "type": "\"string\""
                },
                {
                  "metadata": "{\"comment\":\"comment of the column\"}",
                  "name": "comment",
                  "type": "\"string\""
                }
              ],
              "type": "table"
            }
          }
        }
      ],
      "source": [
        "%sql\n",
        "DESCRIBE silver.dimvendedores"
      ]
    },
    {
      "cell_type": "code",
      "execution_count": null,
      "metadata": {
        "application/vnd.databricks.v1+cell": {
          "cellMetadata": {
            "byteLimit": 2048000,
            "implicitDf": true,
            "rowLimit": 10000
          },
          "inputWidgets": {},
          "nuid": "e2583b6f-781e-48c0-807f-a8a794bdcead",
          "showTitle": false,
          "tableResultSettingsMap": {},
          "title": ""
        },
        "id": "6cLNgj64wppf",
        "outputId": "c4b35b87-cc70-4bf5-8b71-478dd1f772f4"
      },
      "outputs": [
        {
          "output_type": "display_data",
          "data": {
            "text/html": [
              "<style scoped>\n",
              "  .table-result-container {\n",
              "    max-height: 300px;\n",
              "    overflow: auto;\n",
              "  }\n",
              "  table, th, td {\n",
              "    border: 1px solid black;\n",
              "    border-collapse: collapse;\n",
              "  }\n",
              "  th, td {\n",
              "    padding: 5px;\n",
              "  }\n",
              "  th {\n",
              "    text-align: left;\n",
              "  }\n",
              "</style><div class='table-result-container'><table class='table-result'><thead style='background-color: white'><tr><th>col_name</th><th>data_type</th><th>comment</th></tr></thead><tbody><tr><td>order_id</td><td>string</td><td>null</td></tr><tr><td>payment_sequential</td><td>int</td><td>null</td></tr><tr><td>payment_type</td><td>string</td><td>null</td></tr><tr><td>payment_installments</td><td>int</td><td>null</td></tr><tr><td>payment_value</td><td>double</td><td>null</td></tr></tbody></table></div>"
            ]
          },
          "metadata": {
            "application/vnd.databricks.v1+output": {
              "addedWidgets": {},
              "aggData": [],
              "aggError": "",
              "aggOverflow": false,
              "aggSchema": [],
              "aggSeriesLimitReached": false,
              "aggType": "",
              "arguments": {},
              "columnCustomDisplayInfos": {},
              "data": [
                [
                  "order_id",
                  "string",
                  null
                ],
                [
                  "payment_sequential",
                  "int",
                  null
                ],
                [
                  "payment_type",
                  "string",
                  null
                ],
                [
                  "payment_installments",
                  "int",
                  null
                ],
                [
                  "payment_value",
                  "double",
                  null
                ]
              ],
              "datasetInfos": [],
              "dbfsResultPath": null,
              "isJsonSchema": true,
              "metadata": {},
              "overflow": false,
              "plotOptions": {
                "customPlotOptions": {},
                "displayType": "table",
                "pivotAggregation": null,
                "pivotColumns": null,
                "xColumns": null,
                "yColumns": null
              },
              "removedWidgets": [],
              "schema": [
                {
                  "metadata": "{\"comment\":\"name of the column\"}",
                  "name": "col_name",
                  "type": "\"string\""
                },
                {
                  "metadata": "{\"comment\":\"data type of the column\"}",
                  "name": "data_type",
                  "type": "\"string\""
                },
                {
                  "metadata": "{\"comment\":\"comment of the column\"}",
                  "name": "comment",
                  "type": "\"string\""
                }
              ],
              "type": "table"
            }
          }
        }
      ],
      "source": [
        "%sql\n",
        "DESCRIBE silver.dimpagamentos"
      ]
    },
    {
      "cell_type": "markdown",
      "metadata": {
        "application/vnd.databricks.v1+cell": {
          "cellMetadata": {
            "byteLimit": 2048000,
            "rowLimit": 10000
          },
          "inputWidgets": {},
          "nuid": "73839450-216c-4296-87d5-390984ea1170",
          "showTitle": false,
          "tableResultSettingsMap": {},
          "title": ""
        },
        "id": "plSf29VKwppf"
      },
      "source": [
        "##Transformação - Camada Silver"
      ]
    },
    {
      "cell_type": "markdown",
      "metadata": {
        "application/vnd.databricks.v1+cell": {
          "cellMetadata": {},
          "inputWidgets": {},
          "nuid": "effb41ac-af7a-4b67-8901-9ead371e935f",
          "showTitle": false,
          "tableResultSettingsMap": {},
          "title": ""
        },
        "id": "W4QeHnkhwppf"
      },
      "source": [
        "Após alguns testes, criarei novas colunas para a tabela fato"
      ]
    },
    {
      "cell_type": "code",
      "execution_count": null,
      "metadata": {
        "application/vnd.databricks.v1+cell": {
          "cellMetadata": {
            "byteLimit": 2048000,
            "implicitDf": true,
            "rowLimit": 10000
          },
          "inputWidgets": {},
          "nuid": "4bfb7b4b-8691-4a2a-83c5-7263786b1539",
          "showTitle": false,
          "tableResultSettingsMap": {},
          "title": ""
        },
        "id": "EhZ8BjTGwppf",
        "outputId": "edf503ae-b51f-4269-adff-8b1186d6ca82"
      },
      "outputs": [
        {
          "output_type": "display_data",
          "data": {
            "text/html": [
              "<style scoped>\n",
              "  .table-result-container {\n",
              "    max-height: 300px;\n",
              "    overflow: auto;\n",
              "  }\n",
              "  table, th, td {\n",
              "    border: 1px solid black;\n",
              "    border-collapse: collapse;\n",
              "  }\n",
              "  th, td {\n",
              "    padding: 5px;\n",
              "  }\n",
              "  th {\n",
              "    text-align: left;\n",
              "  }\n",
              "</style><div class='table-result-container'><table class='table-result'><thead style='background-color: white'><tr><th>num_affected_rows</th><th>num_inserted_rows</th></tr></thead><tbody></tbody></table></div>"
            ]
          },
          "metadata": {
            "application/vnd.databricks.v1+output": {
              "addedWidgets": {},
              "aggData": [],
              "aggError": "",
              "aggOverflow": false,
              "aggSchema": [],
              "aggSeriesLimitReached": false,
              "aggType": "",
              "arguments": {},
              "columnCustomDisplayInfos": {},
              "data": [],
              "datasetInfos": [],
              "dbfsResultPath": null,
              "isJsonSchema": true,
              "metadata": {},
              "overflow": false,
              "plotOptions": {
                "customPlotOptions": {},
                "displayType": "table",
                "pivotAggregation": null,
                "pivotColumns": null,
                "xColumns": null,
                "yColumns": null
              },
              "removedWidgets": [],
              "schema": [
                {
                  "metadata": "{}",
                  "name": "num_affected_rows",
                  "type": "\"long\""
                },
                {
                  "metadata": "{}",
                  "name": "num_inserted_rows",
                  "type": "\"long\""
                }
              ],
              "type": "table"
            }
          }
        }
      ],
      "source": [
        "%sql\n",
        "CREATE OR REPLACE TABLE Silver.fatopedidos_teste\n",
        "USING DELTA\n",
        "AS\n",
        "SELECT\n",
        "    order_id,\n",
        "    customer_id,\n",
        "    order_status,\n",
        "    order_purchase_timestamp,\n",
        "    order_approved_at,\n",
        "    order_delivered_carrier_date,\n",
        "    order_delivered_customer_date,\n",
        "    order_estimated_delivery_date\n",
        "FROM Silver.fatopedidos;"
      ]
    },
    {
      "cell_type": "markdown",
      "metadata": {
        "application/vnd.databricks.v1+cell": {
          "cellMetadata": {},
          "inputWidgets": {},
          "nuid": "a21b869a-6fe5-4e3b-b31c-291b5d09c371",
          "showTitle": false,
          "tableResultSettingsMap": {},
          "title": ""
        },
        "id": "KfoI57CIwppf"
      },
      "source": [
        "Adicionando a coluna de valor total dos itens do pedido"
      ]
    },
    {
      "cell_type": "code",
      "execution_count": null,
      "metadata": {
        "application/vnd.databricks.v1+cell": {
          "cellMetadata": {
            "byteLimit": 2048000,
            "implicitDf": true,
            "rowLimit": 10000
          },
          "inputWidgets": {},
          "nuid": "4ae97fa7-b893-45b1-99ed-7ec666da458b",
          "showTitle": false,
          "tableResultSettingsMap": {},
          "title": ""
        },
        "id": "UObgibdjwppg",
        "outputId": "87329e9d-fbb8-4b7b-aea7-a1a3cfc1a0b1"
      },
      "outputs": [
        {
          "output_type": "display_data",
          "data": {
            "text/html": [
              "<style scoped>\n",
              "  .table-result-container {\n",
              "    max-height: 300px;\n",
              "    overflow: auto;\n",
              "  }\n",
              "  table, th, td {\n",
              "    border: 1px solid black;\n",
              "    border-collapse: collapse;\n",
              "  }\n",
              "  th, td {\n",
              "    padding: 5px;\n",
              "  }\n",
              "  th {\n",
              "    text-align: left;\n",
              "  }\n",
              "</style><div class='table-result-container'><table class='table-result'><thead style='background-color: white'><tr></tr></thead><tbody></tbody></table></div>"
            ]
          },
          "metadata": {
            "application/vnd.databricks.v1+output": {
              "addedWidgets": {},
              "aggData": [],
              "aggError": "",
              "aggOverflow": false,
              "aggSchema": [],
              "aggSeriesLimitReached": false,
              "aggType": "",
              "arguments": {},
              "columnCustomDisplayInfos": {},
              "data": [],
              "datasetInfos": [],
              "dbfsResultPath": null,
              "isJsonSchema": true,
              "metadata": {},
              "overflow": false,
              "plotOptions": {
                "customPlotOptions": {},
                "displayType": "table",
                "pivotAggregation": null,
                "pivotColumns": null,
                "xColumns": null,
                "yColumns": null
              },
              "removedWidgets": [],
              "schema": [],
              "type": "table"
            }
          }
        }
      ],
      "source": [
        "%sql\n",
        "ALTER TABLE Silver.fatopedidos_teste ADD COLUMN total_order_item_value DECIMAL(10,2);"
      ]
    },
    {
      "cell_type": "markdown",
      "metadata": {
        "application/vnd.databricks.v1+cell": {
          "cellMetadata": {},
          "inputWidgets": {},
          "nuid": "02c7a701-3781-434d-903b-eebaf88a558b",
          "showTitle": false,
          "tableResultSettingsMap": {},
          "title": ""
        },
        "id": "nOYmfubawppg"
      },
      "source": [
        "Valor total para cada pedido"
      ]
    },
    {
      "cell_type": "code",
      "execution_count": null,
      "metadata": {
        "application/vnd.databricks.v1+cell": {
          "cellMetadata": {
            "byteLimit": 2048000,
            "implicitDf": true,
            "rowLimit": 10000
          },
          "inputWidgets": {},
          "nuid": "bd47b05b-ed58-4240-a55b-74efb239e979",
          "showTitle": false,
          "tableResultSettingsMap": {},
          "title": ""
        },
        "id": "uepKS091wppg",
        "outputId": "f395102b-f320-41cf-f404-8c64b8be00c9"
      },
      "outputs": [
        {
          "output_type": "display_data",
          "data": {
            "text/html": [
              "<style scoped>\n",
              "  .table-result-container {\n",
              "    max-height: 300px;\n",
              "    overflow: auto;\n",
              "  }\n",
              "  table, th, td {\n",
              "    border: 1px solid black;\n",
              "    border-collapse: collapse;\n",
              "  }\n",
              "  th, td {\n",
              "    padding: 5px;\n",
              "  }\n",
              "  th {\n",
              "    text-align: left;\n",
              "  }\n",
              "</style><div class='table-result-container'><table class='table-result'><thead style='background-color: white'><tr><th>num_affected_rows</th><th>num_updated_rows</th><th>num_deleted_rows</th><th>num_inserted_rows</th></tr></thead><tbody><tr><td>98666</td><td>98666</td><td>0</td><td>0</td></tr></tbody></table></div>"
            ]
          },
          "metadata": {
            "application/vnd.databricks.v1+output": {
              "addedWidgets": {},
              "aggData": [],
              "aggError": "",
              "aggOverflow": false,
              "aggSchema": [],
              "aggSeriesLimitReached": false,
              "aggType": "",
              "arguments": {},
              "columnCustomDisplayInfos": {},
              "data": [
                [
                  98666,
                  98666,
                  0,
                  0
                ]
              ],
              "datasetInfos": [],
              "dbfsResultPath": null,
              "isJsonSchema": true,
              "metadata": {},
              "overflow": false,
              "plotOptions": {
                "customPlotOptions": {},
                "displayType": "table",
                "pivotAggregation": null,
                "pivotColumns": null,
                "xColumns": null,
                "yColumns": null
              },
              "removedWidgets": [],
              "schema": [
                {
                  "metadata": "{}",
                  "name": "num_affected_rows",
                  "type": "\"long\""
                },
                {
                  "metadata": "{}",
                  "name": "num_updated_rows",
                  "type": "\"long\""
                },
                {
                  "metadata": "{}",
                  "name": "num_deleted_rows",
                  "type": "\"long\""
                },
                {
                  "metadata": "{}",
                  "name": "num_inserted_rows",
                  "type": "\"long\""
                }
              ],
              "type": "table"
            }
          }
        }
      ],
      "source": [
        "%sql\n",
        "MERGE INTO Silver.fatopedidos_teste AS f\n",
        "USING (\n",
        "    SELECT order_id, SUM(price) AS total_order_item_value\n",
        "    FROM Silver.DimItens\n",
        "    GROUP BY order_id\n",
        ") AS i\n",
        "ON f.order_id = i.order_id\n",
        "WHEN MATCHED THEN\n",
        "    UPDATE SET f.total_order_item_value = i.total_order_item_value;"
      ]
    },
    {
      "cell_type": "markdown",
      "metadata": {
        "application/vnd.databricks.v1+cell": {
          "cellMetadata": {},
          "inputWidgets": {},
          "nuid": "b91ed7e3-e747-405c-88f1-8fb9e67c3fce",
          "showTitle": false,
          "tableResultSettingsMap": {},
          "title": ""
        },
        "id": "FCpiCr97wppg"
      },
      "source": [
        "Adicionando a coluna de valor total do frete à tabela fato"
      ]
    },
    {
      "cell_type": "code",
      "execution_count": null,
      "metadata": {
        "application/vnd.databricks.v1+cell": {
          "cellMetadata": {
            "byteLimit": 2048000,
            "implicitDf": true,
            "rowLimit": 10000
          },
          "inputWidgets": {},
          "nuid": "a87491b2-6570-48ac-8ffd-5d6c5eb0c4dc",
          "showTitle": false,
          "tableResultSettingsMap": {},
          "title": ""
        },
        "id": "RYa_26l5wppg",
        "outputId": "0e83da00-e4dc-4608-d051-2601e371aceb"
      },
      "outputs": [
        {
          "output_type": "display_data",
          "data": {
            "text/html": [
              "<style scoped>\n",
              "  .table-result-container {\n",
              "    max-height: 300px;\n",
              "    overflow: auto;\n",
              "  }\n",
              "  table, th, td {\n",
              "    border: 1px solid black;\n",
              "    border-collapse: collapse;\n",
              "  }\n",
              "  th, td {\n",
              "    padding: 5px;\n",
              "  }\n",
              "  th {\n",
              "    text-align: left;\n",
              "  }\n",
              "</style><div class='table-result-container'><table class='table-result'><thead style='background-color: white'><tr></tr></thead><tbody></tbody></table></div>"
            ]
          },
          "metadata": {
            "application/vnd.databricks.v1+output": {
              "addedWidgets": {},
              "aggData": [],
              "aggError": "",
              "aggOverflow": false,
              "aggSchema": [],
              "aggSeriesLimitReached": false,
              "aggType": "",
              "arguments": {},
              "columnCustomDisplayInfos": {},
              "data": [],
              "datasetInfos": [],
              "dbfsResultPath": null,
              "isJsonSchema": true,
              "metadata": {},
              "overflow": false,
              "plotOptions": {
                "customPlotOptions": {},
                "displayType": "table",
                "pivotAggregation": null,
                "pivotColumns": null,
                "xColumns": null,
                "yColumns": null
              },
              "removedWidgets": [],
              "schema": [],
              "type": "table"
            }
          }
        }
      ],
      "source": [
        "%sql\n",
        "ALTER TABLE Silver.fatopedidos_teste ADD COLUMN total_freight_value DECIMAL(10,2);"
      ]
    },
    {
      "cell_type": "code",
      "execution_count": null,
      "metadata": {
        "application/vnd.databricks.v1+cell": {
          "cellMetadata": {
            "byteLimit": 2048000,
            "implicitDf": true,
            "rowLimit": 10000
          },
          "inputWidgets": {},
          "nuid": "a118243e-60a5-4d9b-a870-b855d51fe53f",
          "showTitle": false,
          "tableResultSettingsMap": {},
          "title": ""
        },
        "id": "GeyjjTBtwpph",
        "outputId": "99ff6401-3c50-44f9-f706-8d1a34c6cb3f"
      },
      "outputs": [
        {
          "output_type": "display_data",
          "data": {
            "text/html": [
              "<style scoped>\n",
              "  .table-result-container {\n",
              "    max-height: 300px;\n",
              "    overflow: auto;\n",
              "  }\n",
              "  table, th, td {\n",
              "    border: 1px solid black;\n",
              "    border-collapse: collapse;\n",
              "  }\n",
              "  th, td {\n",
              "    padding: 5px;\n",
              "  }\n",
              "  th {\n",
              "    text-align: left;\n",
              "  }\n",
              "</style><div class='table-result-container'><table class='table-result'><thead style='background-color: white'><tr><th>num_affected_rows</th><th>num_updated_rows</th><th>num_deleted_rows</th><th>num_inserted_rows</th></tr></thead><tbody><tr><td>98666</td><td>98666</td><td>0</td><td>0</td></tr></tbody></table></div>"
            ]
          },
          "metadata": {
            "application/vnd.databricks.v1+output": {
              "addedWidgets": {},
              "aggData": [],
              "aggError": "",
              "aggOverflow": false,
              "aggSchema": [],
              "aggSeriesLimitReached": false,
              "aggType": "",
              "arguments": {},
              "columnCustomDisplayInfos": {},
              "data": [
                [
                  98666,
                  98666,
                  0,
                  0
                ]
              ],
              "datasetInfos": [],
              "dbfsResultPath": null,
              "isJsonSchema": true,
              "metadata": {},
              "overflow": false,
              "plotOptions": {
                "customPlotOptions": {},
                "displayType": "table",
                "pivotAggregation": null,
                "pivotColumns": null,
                "xColumns": null,
                "yColumns": null
              },
              "removedWidgets": [],
              "schema": [
                {
                  "metadata": "{}",
                  "name": "num_affected_rows",
                  "type": "\"long\""
                },
                {
                  "metadata": "{}",
                  "name": "num_updated_rows",
                  "type": "\"long\""
                },
                {
                  "metadata": "{}",
                  "name": "num_deleted_rows",
                  "type": "\"long\""
                },
                {
                  "metadata": "{}",
                  "name": "num_inserted_rows",
                  "type": "\"long\""
                }
              ],
              "type": "table"
            }
          }
        }
      ],
      "source": [
        "%sql\n",
        "MERGE INTO Silver.fatopedidos_teste AS f\n",
        "USING (\n",
        "    SELECT order_id, SUM(freight_value) AS total_freight_value\n",
        "    FROM Silver.DimItens\n",
        "    GROUP BY order_id\n",
        ") AS i\n",
        "ON f.order_id = i.order_id\n",
        "WHEN MATCHED THEN\n",
        "    UPDATE SET f.total_freight_value = i.total_freight_value;"
      ]
    },
    {
      "cell_type": "markdown",
      "metadata": {
        "application/vnd.databricks.v1+cell": {
          "cellMetadata": {},
          "inputWidgets": {},
          "nuid": "6ec7a2e6-ff3a-4312-946e-4a1ba4510d93",
          "showTitle": false,
          "tableResultSettingsMap": {},
          "title": ""
        },
        "id": "Rjt50U9swpph"
      },
      "source": [
        "Adicionando a coluna de valor total do pedido"
      ]
    },
    {
      "cell_type": "code",
      "execution_count": null,
      "metadata": {
        "application/vnd.databricks.v1+cell": {
          "cellMetadata": {
            "byteLimit": 2048000,
            "implicitDf": true,
            "rowLimit": 10000
          },
          "inputWidgets": {},
          "nuid": "780af015-087a-488f-b86f-f37e615eba7a",
          "showTitle": false,
          "tableResultSettingsMap": {},
          "title": ""
        },
        "id": "eHvbYvOCwpph",
        "outputId": "d7914212-5e45-4cc9-f240-ad446745870d"
      },
      "outputs": [
        {
          "output_type": "display_data",
          "data": {
            "text/html": [
              "<style scoped>\n",
              "  .table-result-container {\n",
              "    max-height: 300px;\n",
              "    overflow: auto;\n",
              "  }\n",
              "  table, th, td {\n",
              "    border: 1px solid black;\n",
              "    border-collapse: collapse;\n",
              "  }\n",
              "  th, td {\n",
              "    padding: 5px;\n",
              "  }\n",
              "  th {\n",
              "    text-align: left;\n",
              "  }\n",
              "</style><div class='table-result-container'><table class='table-result'><thead style='background-color: white'><tr></tr></thead><tbody></tbody></table></div>"
            ]
          },
          "metadata": {
            "application/vnd.databricks.v1+output": {
              "addedWidgets": {},
              "aggData": [],
              "aggError": "",
              "aggOverflow": false,
              "aggSchema": [],
              "aggSeriesLimitReached": false,
              "aggType": "",
              "arguments": {},
              "columnCustomDisplayInfos": {},
              "data": [],
              "datasetInfos": [],
              "dbfsResultPath": null,
              "isJsonSchema": true,
              "metadata": {},
              "overflow": false,
              "plotOptions": {
                "customPlotOptions": {},
                "displayType": "table",
                "pivotAggregation": null,
                "pivotColumns": null,
                "xColumns": null,
                "yColumns": null
              },
              "removedWidgets": [],
              "schema": [],
              "type": "table"
            }
          }
        }
      ],
      "source": [
        "%sql\n",
        "ALTER TABLE Silver.fatopedidos_teste ADD COLUMN total_order_value  DECIMAL(10,2);"
      ]
    },
    {
      "cell_type": "code",
      "execution_count": null,
      "metadata": {
        "application/vnd.databricks.v1+cell": {
          "cellMetadata": {
            "byteLimit": 2048000,
            "implicitDf": true,
            "rowLimit": 10000
          },
          "inputWidgets": {},
          "nuid": "55301bd1-addf-46ef-874f-7725b5c55017",
          "showTitle": false,
          "tableResultSettingsMap": {},
          "title": ""
        },
        "id": "xH60bsFZwppi",
        "outputId": "6a87d3a2-6a1d-4fe1-c45d-169307d24b57"
      },
      "outputs": [
        {
          "output_type": "display_data",
          "data": {
            "text/html": [
              "<style scoped>\n",
              "  .table-result-container {\n",
              "    max-height: 300px;\n",
              "    overflow: auto;\n",
              "  }\n",
              "  table, th, td {\n",
              "    border: 1px solid black;\n",
              "    border-collapse: collapse;\n",
              "  }\n",
              "  th, td {\n",
              "    padding: 5px;\n",
              "  }\n",
              "  th {\n",
              "    text-align: left;\n",
              "  }\n",
              "</style><div class='table-result-container'><table class='table-result'><thead style='background-color: white'><tr><th>num_affected_rows</th></tr></thead><tbody><tr><td>99441</td></tr></tbody></table></div>"
            ]
          },
          "metadata": {
            "application/vnd.databricks.v1+output": {
              "addedWidgets": {},
              "aggData": [],
              "aggError": "",
              "aggOverflow": false,
              "aggSchema": [],
              "aggSeriesLimitReached": false,
              "aggType": "",
              "arguments": {},
              "columnCustomDisplayInfos": {},
              "data": [
                [
                  99441
                ]
              ],
              "datasetInfos": [],
              "dbfsResultPath": null,
              "isJsonSchema": true,
              "metadata": {},
              "overflow": false,
              "plotOptions": {
                "customPlotOptions": {},
                "displayType": "table",
                "pivotAggregation": null,
                "pivotColumns": null,
                "xColumns": null,
                "yColumns": null
              },
              "removedWidgets": [],
              "schema": [
                {
                  "metadata": "{}",
                  "name": "num_affected_rows",
                  "type": "\"long\""
                }
              ],
              "type": "table"
            }
          }
        }
      ],
      "source": [
        "%sql\n",
        "UPDATE Silver.fatopedidos_teste\n",
        "SET total_order_value = total_order_item_value + total_freight_value;"
      ]
    },
    {
      "cell_type": "markdown",
      "metadata": {
        "application/vnd.databricks.v1+cell": {
          "cellMetadata": {},
          "inputWidgets": {},
          "nuid": "19b7fbca-9a12-42ef-b511-5fc28c1504ba",
          "showTitle": false,
          "tableResultSettingsMap": {},
          "title": ""
        },
        "id": "Sw2Nlp64wppi"
      },
      "source": [
        "Adicionando coluna de total de itens por pedido à tabela fato\n"
      ]
    },
    {
      "cell_type": "code",
      "execution_count": null,
      "metadata": {
        "application/vnd.databricks.v1+cell": {
          "cellMetadata": {
            "byteLimit": 2048000,
            "implicitDf": true,
            "rowLimit": 10000
          },
          "inputWidgets": {},
          "nuid": "05dc0ed2-f3c6-4856-9295-e23bec6dfaee",
          "showTitle": false,
          "tableResultSettingsMap": {},
          "title": ""
        },
        "id": "1WIzyATdwppu",
        "outputId": "a1c70df3-4ffb-43cb-ffdb-ebda7b624ba2"
      },
      "outputs": [
        {
          "output_type": "display_data",
          "data": {
            "text/html": [
              "<style scoped>\n",
              "  .table-result-container {\n",
              "    max-height: 300px;\n",
              "    overflow: auto;\n",
              "  }\n",
              "  table, th, td {\n",
              "    border: 1px solid black;\n",
              "    border-collapse: collapse;\n",
              "  }\n",
              "  th, td {\n",
              "    padding: 5px;\n",
              "  }\n",
              "  th {\n",
              "    text-align: left;\n",
              "  }\n",
              "</style><div class='table-result-container'><table class='table-result'><thead style='background-color: white'><tr></tr></thead><tbody></tbody></table></div>"
            ]
          },
          "metadata": {
            "application/vnd.databricks.v1+output": {
              "addedWidgets": {},
              "aggData": [],
              "aggError": "",
              "aggOverflow": false,
              "aggSchema": [],
              "aggSeriesLimitReached": false,
              "aggType": "",
              "arguments": {},
              "columnCustomDisplayInfos": {},
              "data": [],
              "datasetInfos": [],
              "dbfsResultPath": null,
              "isJsonSchema": true,
              "metadata": {},
              "overflow": false,
              "plotOptions": {
                "customPlotOptions": {},
                "displayType": "table",
                "pivotAggregation": null,
                "pivotColumns": null,
                "xColumns": null,
                "yColumns": null
              },
              "removedWidgets": [],
              "schema": [],
              "type": "table"
            }
          }
        }
      ],
      "source": [
        "%sql\n",
        "ALTER TABLE Silver.fatopedidos_teste ADD COLUMN total_items INT;"
      ]
    },
    {
      "cell_type": "markdown",
      "metadata": {
        "application/vnd.databricks.v1+cell": {
          "cellMetadata": {},
          "inputWidgets": {},
          "nuid": "c8418ef7-7ab9-420f-b7bc-2972645f6355",
          "showTitle": false,
          "tableResultSettingsMap": {},
          "title": ""
        },
        "id": "TSOpN_5vwppv"
      },
      "source": [
        "Número de itens para cada order_id"
      ]
    },
    {
      "cell_type": "markdown",
      "metadata": {
        "application/vnd.databricks.v1+cell": {
          "cellMetadata": {},
          "inputWidgets": {},
          "nuid": "8017f799-46e2-4bcf-baed-047f1aad9936",
          "showTitle": false,
          "tableResultSettingsMap": {},
          "title": ""
        },
        "id": "CAjwqC9Vwppv"
      },
      "source": [
        "Número de itens para cada order_id"
      ]
    },
    {
      "cell_type": "code",
      "execution_count": null,
      "metadata": {
        "application/vnd.databricks.v1+cell": {
          "cellMetadata": {
            "byteLimit": 2048000,
            "implicitDf": true,
            "rowLimit": 10000
          },
          "inputWidgets": {},
          "nuid": "cd3da27b-4084-4358-ac72-3f8e0e5a8fa8",
          "showTitle": false,
          "tableResultSettingsMap": {},
          "title": ""
        },
        "id": "3z4lCeQ-wppv",
        "outputId": "5ecc98a8-a406-4885-abc8-92c5c6d29cb5"
      },
      "outputs": [
        {
          "output_type": "display_data",
          "data": {
            "text/html": [
              "<style scoped>\n",
              "  .table-result-container {\n",
              "    max-height: 300px;\n",
              "    overflow: auto;\n",
              "  }\n",
              "  table, th, td {\n",
              "    border: 1px solid black;\n",
              "    border-collapse: collapse;\n",
              "  }\n",
              "  th, td {\n",
              "    padding: 5px;\n",
              "  }\n",
              "  th {\n",
              "    text-align: left;\n",
              "  }\n",
              "</style><div class='table-result-container'><table class='table-result'><thead style='background-color: white'><tr><th>num_affected_rows</th><th>num_updated_rows</th><th>num_deleted_rows</th><th>num_inserted_rows</th></tr></thead><tbody><tr><td>98666</td><td>98666</td><td>0</td><td>0</td></tr></tbody></table></div>"
            ]
          },
          "metadata": {
            "application/vnd.databricks.v1+output": {
              "addedWidgets": {},
              "aggData": [],
              "aggError": "",
              "aggOverflow": false,
              "aggSchema": [],
              "aggSeriesLimitReached": false,
              "aggType": "",
              "arguments": {},
              "columnCustomDisplayInfos": {},
              "data": [
                [
                  98666,
                  98666,
                  0,
                  0
                ]
              ],
              "datasetInfos": [],
              "dbfsResultPath": null,
              "isJsonSchema": true,
              "metadata": {},
              "overflow": false,
              "plotOptions": {
                "customPlotOptions": {},
                "displayType": "table",
                "pivotAggregation": null,
                "pivotColumns": null,
                "xColumns": null,
                "yColumns": null
              },
              "removedWidgets": [],
              "schema": [
                {
                  "metadata": "{}",
                  "name": "num_affected_rows",
                  "type": "\"long\""
                },
                {
                  "metadata": "{}",
                  "name": "num_updated_rows",
                  "type": "\"long\""
                },
                {
                  "metadata": "{}",
                  "name": "num_deleted_rows",
                  "type": "\"long\""
                },
                {
                  "metadata": "{}",
                  "name": "num_inserted_rows",
                  "type": "\"long\""
                }
              ],
              "type": "table"
            }
          }
        }
      ],
      "source": [
        "%sql\n",
        "MERGE INTO Silver.fatopedidos_teste AS f\n",
        "USING (\n",
        "    SELECT i.order_id, COUNT(i.order_item_id) AS total_items\n",
        "    FROM Silver.DimItens i\n",
        "    GROUP BY i.order_id\n",
        ") AS items\n",
        "ON f.order_id = items.order_id\n",
        "WHEN MATCHED THEN\n",
        "    UPDATE SET f.total_items = items.total_items;"
      ]
    },
    {
      "cell_type": "code",
      "execution_count": null,
      "metadata": {
        "application/vnd.databricks.v1+cell": {
          "cellMetadata": {
            "byteLimit": 2048000,
            "implicitDf": true,
            "rowLimit": 10000
          },
          "inputWidgets": {},
          "nuid": "bc191746-e958-4874-bfe5-f8859fb02caa",
          "showTitle": false,
          "tableResultSettingsMap": {},
          "title": ""
        },
        "id": "8MWyrqAVwppv",
        "outputId": "f1fe269e-e8eb-40dd-f16c-a079b7c37800"
      },
      "outputs": [
        {
          "output_type": "display_data",
          "data": {
            "text/html": [
              "<style scoped>\n",
              "  .table-result-container {\n",
              "    max-height: 300px;\n",
              "    overflow: auto;\n",
              "  }\n",
              "  table, th, td {\n",
              "    border: 1px solid black;\n",
              "    border-collapse: collapse;\n",
              "  }\n",
              "  th, td {\n",
              "    padding: 5px;\n",
              "  }\n",
              "  th {\n",
              "    text-align: left;\n",
              "  }\n",
              "</style><div class='table-result-container'><table class='table-result'><thead style='background-color: white'><tr><th>col_name</th><th>data_type</th><th>comment</th></tr></thead><tbody><tr><td>order_id</td><td>string</td><td>null</td></tr><tr><td>customer_id</td><td>string</td><td>null</td></tr><tr><td>order_status</td><td>string</td><td>null</td></tr><tr><td>order_purchase_timestamp</td><td>timestamp</td><td>null</td></tr><tr><td>order_approved_at</td><td>timestamp</td><td>null</td></tr><tr><td>order_delivered_carrier_date</td><td>timestamp</td><td>null</td></tr><tr><td>order_delivered_customer_date</td><td>timestamp</td><td>null</td></tr><tr><td>order_estimated_delivery_date</td><td>timestamp</td><td>null</td></tr><tr><td>total_order_item_value</td><td>decimal(10,2)</td><td>null</td></tr><tr><td>total_freight_value</td><td>decimal(10,2)</td><td>null</td></tr><tr><td>total_order_value</td><td>decimal(10,2)</td><td>null</td></tr><tr><td>total_items</td><td>int</td><td>null</td></tr></tbody></table></div>"
            ]
          },
          "metadata": {
            "application/vnd.databricks.v1+output": {
              "addedWidgets": {},
              "aggData": [],
              "aggError": "",
              "aggOverflow": false,
              "aggSchema": [],
              "aggSeriesLimitReached": false,
              "aggType": "",
              "arguments": {},
              "columnCustomDisplayInfos": {},
              "data": [
                [
                  "order_id",
                  "string",
                  null
                ],
                [
                  "customer_id",
                  "string",
                  null
                ],
                [
                  "order_status",
                  "string",
                  null
                ],
                [
                  "order_purchase_timestamp",
                  "timestamp",
                  null
                ],
                [
                  "order_approved_at",
                  "timestamp",
                  null
                ],
                [
                  "order_delivered_carrier_date",
                  "timestamp",
                  null
                ],
                [
                  "order_delivered_customer_date",
                  "timestamp",
                  null
                ],
                [
                  "order_estimated_delivery_date",
                  "timestamp",
                  null
                ],
                [
                  "total_order_item_value",
                  "decimal(10,2)",
                  null
                ],
                [
                  "total_freight_value",
                  "decimal(10,2)",
                  null
                ],
                [
                  "total_order_value",
                  "decimal(10,2)",
                  null
                ],
                [
                  "total_items",
                  "int",
                  null
                ]
              ],
              "datasetInfos": [],
              "dbfsResultPath": null,
              "isJsonSchema": true,
              "metadata": {},
              "overflow": false,
              "plotOptions": {
                "customPlotOptions": {},
                "displayType": "table",
                "pivotAggregation": null,
                "pivotColumns": null,
                "xColumns": null,
                "yColumns": null
              },
              "removedWidgets": [],
              "schema": [
                {
                  "metadata": "{\"comment\":\"name of the column\"}",
                  "name": "col_name",
                  "type": "\"string\""
                },
                {
                  "metadata": "{\"comment\":\"data type of the column\"}",
                  "name": "data_type",
                  "type": "\"string\""
                },
                {
                  "metadata": "{\"comment\":\"comment of the column\"}",
                  "name": "comment",
                  "type": "\"string\""
                }
              ],
              "type": "table"
            }
          }
        }
      ],
      "source": [
        "%sql\n",
        "DESCRIBE Silver.fatopedidos_teste;"
      ]
    },
    {
      "cell_type": "markdown",
      "metadata": {
        "application/vnd.databricks.v1+cell": {
          "cellMetadata": {},
          "inputWidgets": {},
          "nuid": "5505b4b5-a69a-403f-9972-734c748dfd54",
          "showTitle": false,
          "tableResultSettingsMap": {},
          "title": ""
        },
        "id": "vVkAtr8bwppv"
      },
      "source": [
        "Verificando se há order_id na tabela DimItens que não estão presentes na tabela fato"
      ]
    },
    {
      "cell_type": "code",
      "execution_count": null,
      "metadata": {
        "application/vnd.databricks.v1+cell": {
          "cellMetadata": {
            "byteLimit": 2048000,
            "implicitDf": true,
            "rowLimit": 10000
          },
          "inputWidgets": {},
          "nuid": "786da405-b689-42e6-9810-7f81a2fa8d1f",
          "showTitle": false,
          "tableResultSettingsMap": {},
          "title": ""
        },
        "id": "ApYGOEIPwppv",
        "outputId": "e61cf7e2-d224-4f24-c65d-86f738489e7e"
      },
      "outputs": [
        {
          "output_type": "display_data",
          "data": {
            "text/html": [
              "<style scoped>\n",
              "  .table-result-container {\n",
              "    max-height: 300px;\n",
              "    overflow: auto;\n",
              "  }\n",
              "  table, th, td {\n",
              "    border: 1px solid black;\n",
              "    border-collapse: collapse;\n",
              "  }\n",
              "  th, td {\n",
              "    padding: 5px;\n",
              "  }\n",
              "  th {\n",
              "    text-align: left;\n",
              "  }\n",
              "</style><div class='table-result-container'><table class='table-result'><thead style='background-color: white'><tr><th>order_id</th></tr></thead><tbody></tbody></table></div>"
            ]
          },
          "metadata": {
            "application/vnd.databricks.v1+output": {
              "addedWidgets": {},
              "aggData": [],
              "aggError": "",
              "aggOverflow": false,
              "aggSchema": [],
              "aggSeriesLimitReached": false,
              "aggType": "",
              "arguments": {},
              "columnCustomDisplayInfos": {},
              "data": [],
              "datasetInfos": [],
              "dbfsResultPath": null,
              "isJsonSchema": true,
              "metadata": {},
              "overflow": false,
              "plotOptions": {
                "customPlotOptions": {},
                "displayType": "table",
                "pivotAggregation": null,
                "pivotColumns": null,
                "xColumns": null,
                "yColumns": null
              },
              "removedWidgets": [],
              "schema": [
                {
                  "metadata": "{}",
                  "name": "order_id",
                  "type": "\"string\""
                }
              ],
              "type": "table"
            }
          }
        }
      ],
      "source": [
        "%sql\n",
        "SELECT DISTINCT i.order_id\n",
        "FROM Silver.DimItens i\n",
        "LEFT JOIN Silver.fatopedidos_teste f\n",
        "  ON i.order_id = f.order_id\n",
        "WHERE f.order_id IS NULL;"
      ]
    },
    {
      "cell_type": "markdown",
      "metadata": {
        "application/vnd.databricks.v1+cell": {
          "cellMetadata": {},
          "inputWidgets": {},
          "nuid": "c9abc0f0-fdad-48bb-8bcd-0606490dc906",
          "showTitle": false,
          "tableResultSettingsMap": {},
          "title": ""
        },
        "id": "12tXmZTrwppv"
      },
      "source": [
        "Verificando se há order_id na tabela fato que não estão presentes na tabela DimItens"
      ]
    },
    {
      "cell_type": "code",
      "execution_count": null,
      "metadata": {
        "application/vnd.databricks.v1+cell": {
          "cellMetadata": {
            "byteLimit": 2048000,
            "implicitDf": true,
            "rowLimit": 10000
          },
          "inputWidgets": {},
          "nuid": "c3f6ac0e-8dd6-48fa-94ee-f4e22b44a328",
          "showTitle": false,
          "tableResultSettingsMap": {},
          "title": ""
        },
        "id": "KZYGkBpQwppw",
        "outputId": "e8bf57f0-f385-426c-ca0f-7620e0d3a8ff"
      },
      "outputs": [
        {
          "output_type": "display_data",
          "data": {
            "text/html": [
              "<style scoped>\n",
              "  .table-result-container {\n",
              "    max-height: 300px;\n",
              "    overflow: auto;\n",
              "  }\n",
              "  table, th, td {\n",
              "    border: 1px solid black;\n",
              "    border-collapse: collapse;\n",
              "  }\n",
              "  th, td {\n",
              "    padding: 5px;\n",
              "  }\n",
              "  th {\n",
              "    text-align: left;\n",
              "  }\n",
              "</style><div class='table-result-container'><table class='table-result'><thead style='background-color: white'><tr><th>order_id</th></tr></thead><tbody><tr><td>c272bcd21c287498b4883c7512019702</td></tr><tr><td>7622da48f027d5659a0d7b0a43597354</td></tr><tr><td>f0f94b7c7548150f33f5d9e7597d396f</td></tr><tr><td>23fdd0e16ad79ceab4e5f407772d64fa</td></tr><tr><td>410d704bdcbe2893fd5ad73fe8166f43</td></tr><tr><td>b2673ed6360dc341a4728dbd632f935b</td></tr><tr><td>5ae7a6fa175ab7b180b6c0142e5466e9</td></tr><tr><td>03d1edbd314ca7682ec0f3e67d3763e2</td></tr><tr><td>f5e0327c97a90df59977a815f6e4453c</td></tr><tr><td>752c0993c4993edea8eac33fda648244</td></tr><tr><td>d8198b1933966d7baf7a7d758bdde142</td></tr><tr><td>e40d0c72305e1f0be6925df1e4378221</td></tr><tr><td>b715c631fdd01580d9de3ed3759523c7</td></tr><tr><td>9566b36fbba7756a79b5d2cba4e058d9</td></tr><tr><td>c609f82bcf7a90292a5940205ebd7e93</td></tr></tbody></table></div>"
            ]
          },
          "metadata": {
            "application/vnd.databricks.v1+output": {
              "addedWidgets": {},
              "aggData": [],
              "aggError": "",
              "aggOverflow": false,
              "aggSchema": [],
              "aggSeriesLimitReached": false,
              "aggType": "",
              "arguments": {},
              "columnCustomDisplayInfos": {},
              "data": [
                [
                  "c272bcd21c287498b4883c7512019702"
                ],
                [
                  "7622da48f027d5659a0d7b0a43597354"
                ],
                [
                  "f0f94b7c7548150f33f5d9e7597d396f"
                ],
                [
                  "23fdd0e16ad79ceab4e5f407772d64fa"
                ],
                [
                  "410d704bdcbe2893fd5ad73fe8166f43"
                ],
                [
                  "b2673ed6360dc341a4728dbd632f935b"
                ],
                [
                  "5ae7a6fa175ab7b180b6c0142e5466e9"
                ],
                [
                  "03d1edbd314ca7682ec0f3e67d3763e2"
                ],
                [
                  "f5e0327c97a90df59977a815f6e4453c"
                ],
                [
                  "752c0993c4993edea8eac33fda648244"
                ],
                [
                  "d8198b1933966d7baf7a7d758bdde142"
                ],
                [
                  "e40d0c72305e1f0be6925df1e4378221"
                ],
                [
                  "b715c631fdd01580d9de3ed3759523c7"
                ],
                [
                  "9566b36fbba7756a79b5d2cba4e058d9"
                ],
                [
                  "c609f82bcf7a90292a5940205ebd7e93"
                ]
              ],
              "datasetInfos": [],
              "dbfsResultPath": null,
              "isJsonSchema": true,
              "metadata": {},
              "overflow": false,
              "plotOptions": {
                "customPlotOptions": {},
                "displayType": "table",
                "pivotAggregation": null,
                "pivotColumns": null,
                "xColumns": null,
                "yColumns": null
              },
              "removedWidgets": [],
              "schema": [
                {
                  "metadata": "{}",
                  "name": "order_id",
                  "type": "\"string\""
                }
              ],
              "type": "table"
            }
          }
        }
      ],
      "source": [
        "%sql\n",
        "SELECT DISTINCT f.order_id\n",
        "FROM Silver.fatopedidos_teste f\n",
        "LEFT JOIN Silver.DimItens i\n",
        "  ON f.order_id = i.order_id\n",
        "WHERE i.order_id IS NULL\n",
        "LIMIT 15;"
      ]
    },
    {
      "cell_type": "markdown",
      "metadata": {
        "application/vnd.databricks.v1+cell": {
          "cellMetadata": {},
          "inputWidgets": {},
          "nuid": "d0b1fdc4-96e8-463b-8dfb-a97b417e59ac",
          "showTitle": false,
          "tableResultSettingsMap": {},
          "title": ""
        },
        "id": "EknsGDT2wppw"
      },
      "source": [
        "Verificando possíveis motivos para order_id ausentes na tabela DimItens"
      ]
    },
    {
      "cell_type": "code",
      "execution_count": null,
      "metadata": {
        "application/vnd.databricks.v1+cell": {
          "cellMetadata": {
            "byteLimit": 2048000,
            "implicitDf": true,
            "rowLimit": 10000
          },
          "inputWidgets": {},
          "nuid": "3008a1aa-d7ae-42e4-825a-652c5043974e",
          "showTitle": false,
          "tableResultSettingsMap": {},
          "title": ""
        },
        "id": "uEa_T2Z5wppw",
        "outputId": "647b5d54-f9bc-4bd1-f0bd-6eb56f0221c3"
      },
      "outputs": [
        {
          "output_type": "display_data",
          "data": {
            "text/html": [
              "<style scoped>\n",
              "  .table-result-container {\n",
              "    max-height: 300px;\n",
              "    overflow: auto;\n",
              "  }\n",
              "  table, th, td {\n",
              "    border: 1px solid black;\n",
              "    border-collapse: collapse;\n",
              "  }\n",
              "  th, td {\n",
              "    padding: 5px;\n",
              "  }\n",
              "  th {\n",
              "    text-align: left;\n",
              "  }\n",
              "</style><div class='table-result-container'><table class='table-result'><thead style='background-color: white'><tr><th>order_id</th><th>customer_id</th><th>order_status</th></tr></thead><tbody><tr><td>c272bcd21c287498b4883c7512019702</td><td>9582c5bbecc65eb568e2c1d839b5cba1</td><td>unavailable</td></tr><tr><td>7622da48f027d5659a0d7b0a43597354</td><td>b73059b796c2abebd783eb6af533b1a2</td><td>unavailable</td></tr><tr><td>f0f94b7c7548150f33f5d9e7597d396f</td><td>cb5a3d3dea83e4200af551141613ddab</td><td>unavailable</td></tr><tr><td>23fdd0e16ad79ceab4e5f407772d64fa</td><td>f915ff705480d8952c4e91371c39e95e</td><td>unavailable</td></tr><tr><td>410d704bdcbe2893fd5ad73fe8166f43</td><td>0424e2f81bdfb77d7c11c3f447c7b241</td><td>unavailable</td></tr><tr><td>b2673ed6360dc341a4728dbd632f935b</td><td>acd30e8ac809a440f8a10918d0683a17</td><td>unavailable</td></tr><tr><td>5ae7a6fa175ab7b180b6c0142e5466e9</td><td>bc7b861ebaf4366268881e14b4a52666</td><td>unavailable</td></tr><tr><td>03d1edbd314ca7682ec0f3e67d3763e2</td><td>963bc458a6c7f3148e1a756a4fc1e012</td><td>unavailable</td></tr><tr><td>f5e0327c97a90df59977a815f6e4453c</td><td>e6c59c09cb529c3f49bf5aa8e345d2e8</td><td>unavailable</td></tr><tr><td>752c0993c4993edea8eac33fda648244</td><td>a1bf5849a8b9f1535ddce758f6c0c41e</td><td>unavailable</td></tr><tr><td>d8198b1933966d7baf7a7d758bdde142</td><td>24eab5309a4f60346c0fe93388afe166</td><td>unavailable</td></tr><tr><td>e40d0c72305e1f0be6925df1e4378221</td><td>09cb79df62a7ca61507fca903adfe410</td><td>unavailable</td></tr><tr><td>b715c631fdd01580d9de3ed3759523c7</td><td>14d0a56007d15cde2d14e47edd0ef3c1</td><td>canceled</td></tr><tr><td>9566b36fbba7756a79b5d2cba4e058d9</td><td>6c60cba0b553924964bcbf588c7fec36</td><td>unavailable</td></tr><tr><td>c609f82bcf7a90292a5940205ebd7e93</td><td>b08064e24083fee8fbe8797902b07ecd</td><td>unavailable</td></tr></tbody></table></div>"
            ]
          },
          "metadata": {
            "application/vnd.databricks.v1+output": {
              "addedWidgets": {},
              "aggData": [],
              "aggError": "",
              "aggOverflow": false,
              "aggSchema": [],
              "aggSeriesLimitReached": false,
              "aggType": "",
              "arguments": {},
              "columnCustomDisplayInfos": {},
              "data": [
                [
                  "c272bcd21c287498b4883c7512019702",
                  "9582c5bbecc65eb568e2c1d839b5cba1",
                  "unavailable"
                ],
                [
                  "7622da48f027d5659a0d7b0a43597354",
                  "b73059b796c2abebd783eb6af533b1a2",
                  "unavailable"
                ],
                [
                  "f0f94b7c7548150f33f5d9e7597d396f",
                  "cb5a3d3dea83e4200af551141613ddab",
                  "unavailable"
                ],
                [
                  "23fdd0e16ad79ceab4e5f407772d64fa",
                  "f915ff705480d8952c4e91371c39e95e",
                  "unavailable"
                ],
                [
                  "410d704bdcbe2893fd5ad73fe8166f43",
                  "0424e2f81bdfb77d7c11c3f447c7b241",
                  "unavailable"
                ],
                [
                  "b2673ed6360dc341a4728dbd632f935b",
                  "acd30e8ac809a440f8a10918d0683a17",
                  "unavailable"
                ],
                [
                  "5ae7a6fa175ab7b180b6c0142e5466e9",
                  "bc7b861ebaf4366268881e14b4a52666",
                  "unavailable"
                ],
                [
                  "03d1edbd314ca7682ec0f3e67d3763e2",
                  "963bc458a6c7f3148e1a756a4fc1e012",
                  "unavailable"
                ],
                [
                  "f5e0327c97a90df59977a815f6e4453c",
                  "e6c59c09cb529c3f49bf5aa8e345d2e8",
                  "unavailable"
                ],
                [
                  "752c0993c4993edea8eac33fda648244",
                  "a1bf5849a8b9f1535ddce758f6c0c41e",
                  "unavailable"
                ],
                [
                  "d8198b1933966d7baf7a7d758bdde142",
                  "24eab5309a4f60346c0fe93388afe166",
                  "unavailable"
                ],
                [
                  "e40d0c72305e1f0be6925df1e4378221",
                  "09cb79df62a7ca61507fca903adfe410",
                  "unavailable"
                ],
                [
                  "b715c631fdd01580d9de3ed3759523c7",
                  "14d0a56007d15cde2d14e47edd0ef3c1",
                  "canceled"
                ],
                [
                  "9566b36fbba7756a79b5d2cba4e058d9",
                  "6c60cba0b553924964bcbf588c7fec36",
                  "unavailable"
                ],
                [
                  "c609f82bcf7a90292a5940205ebd7e93",
                  "b08064e24083fee8fbe8797902b07ecd",
                  "unavailable"
                ]
              ],
              "datasetInfos": [],
              "dbfsResultPath": null,
              "isJsonSchema": true,
              "metadata": {},
              "overflow": false,
              "plotOptions": {
                "customPlotOptions": {},
                "displayType": "table",
                "pivotAggregation": null,
                "pivotColumns": null,
                "xColumns": null,
                "yColumns": null
              },
              "removedWidgets": [],
              "schema": [
                {
                  "metadata": "{}",
                  "name": "order_id",
                  "type": "\"string\""
                },
                {
                  "metadata": "{}",
                  "name": "customer_id",
                  "type": "\"string\""
                },
                {
                  "metadata": "{}",
                  "name": "order_status",
                  "type": "\"string\""
                }
              ],
              "type": "table"
            }
          }
        }
      ],
      "source": [
        "%sql\n",
        "SELECT f.order_id, f.customer_id, f.order_status\n",
        "FROM Silver.fatopedidos_teste f\n",
        "LEFT JOIN Silver.DimItens i ON f.order_id = i.order_id\n",
        "WHERE i.order_id IS NULL\n",
        "LIMIT 15;"
      ]
    },
    {
      "cell_type": "markdown",
      "metadata": {
        "application/vnd.databricks.v1+cell": {
          "cellMetadata": {},
          "inputWidgets": {},
          "nuid": "ad077307-0079-4edd-9bae-1ee99f8ef07d",
          "showTitle": false,
          "tableResultSettingsMap": {},
          "title": ""
        },
        "id": "RPT81YgTwppw"
      },
      "source": [
        "Aparentemente, todos os casos de order_id que não estão presentes na tabela de itens possuem status 'unavailable', 'canceled', 'unvoiced' ou 'created', ou seja, nenhum 'delivered'. Isso indica que estes pedidos podem ter um comportamento diferente em relação à inclusão de itens na tabela DimItens. Isto sugere que estes status específicos podem não ter sido tratados corretamente ou não foram considerados relevantes para o preenchimento da tabela DimItens."
      ]
    },
    {
      "cell_type": "code",
      "execution_count": null,
      "metadata": {
        "application/vnd.databricks.v1+cell": {
          "cellMetadata": {
            "byteLimit": 2048000,
            "implicitDf": true,
            "rowLimit": 10000
          },
          "inputWidgets": {},
          "nuid": "5df5418a-6dff-4d65-b71b-085282b709bc",
          "showTitle": false,
          "tableResultSettingsMap": {},
          "title": ""
        },
        "id": "69vXm-4Ewppw",
        "outputId": "18ce0df3-313a-48a0-ee21-2309a5f51fa2"
      },
      "outputs": [
        {
          "output_type": "display_data",
          "data": {
            "text/html": [
              "<style scoped>\n",
              "  .table-result-container {\n",
              "    max-height: 300px;\n",
              "    overflow: auto;\n",
              "  }\n",
              "  table, th, td {\n",
              "    border: 1px solid black;\n",
              "    border-collapse: collapse;\n",
              "  }\n",
              "  th, td {\n",
              "    padding: 5px;\n",
              "  }\n",
              "  th {\n",
              "    text-align: left;\n",
              "  }\n",
              "</style><div class='table-result-container'><table class='table-result'><thead style='background-color: white'><tr><th>order_status</th></tr></thead><tbody><tr><td>shipped</td></tr><tr><td>canceled</td></tr><tr><td>created</td></tr><tr><td>unavailable</td></tr><tr><td>invoiced</td></tr></tbody></table></div>"
            ]
          },
          "metadata": {
            "application/vnd.databricks.v1+output": {
              "addedWidgets": {},
              "aggData": [],
              "aggError": "",
              "aggOverflow": false,
              "aggSchema": [],
              "aggSeriesLimitReached": false,
              "aggType": "",
              "arguments": {},
              "columnCustomDisplayInfos": {},
              "data": [
                [
                  "shipped"
                ],
                [
                  "canceled"
                ],
                [
                  "created"
                ],
                [
                  "unavailable"
                ],
                [
                  "invoiced"
                ]
              ],
              "datasetInfos": [],
              "dbfsResultPath": null,
              "isJsonSchema": true,
              "metadata": {},
              "overflow": false,
              "plotOptions": {
                "customPlotOptions": {},
                "displayType": "table",
                "pivotAggregation": null,
                "pivotColumns": null,
                "xColumns": null,
                "yColumns": null
              },
              "removedWidgets": [],
              "schema": [
                {
                  "metadata": "{}",
                  "name": "order_status",
                  "type": "\"string\""
                }
              ],
              "type": "table"
            }
          }
        }
      ],
      "source": [
        "%sql\n",
        "SELECT DISTINCT f.order_status\n",
        "FROM Silver.fatopedidos_teste f\n",
        "LEFT JOIN Silver.DimItens i ON f.order_id = i.order_id\n",
        "WHERE i.order_id IS NULL;"
      ]
    },
    {
      "cell_type": "markdown",
      "metadata": {
        "application/vnd.databricks.v1+cell": {
          "cellMetadata": {},
          "inputWidgets": {},
          "nuid": "6a9f4a66-77c7-44a0-98fa-77473f3c7214",
          "showTitle": false,
          "tableResultSettingsMap": {},
          "title": ""
        },
        "id": "IfVxLC91wppw"
      },
      "source": [
        "Como qualquer sistema de e-commerce, é possível  verificar que um pedido pode ter de 1 a x itens."
      ]
    },
    {
      "cell_type": "code",
      "execution_count": null,
      "metadata": {
        "application/vnd.databricks.v1+cell": {
          "cellMetadata": {
            "byteLimit": 2048000,
            "implicitDf": true,
            "rowLimit": 10000
          },
          "inputWidgets": {},
          "nuid": "f14d0049-2935-4ac6-ac24-1306012e3dce",
          "showTitle": false,
          "tableResultSettingsMap": {},
          "title": ""
        },
        "id": "DAn-cXlbwppx",
        "outputId": "b5bda73c-03f2-4a7b-d48a-0b7a97563cd0"
      },
      "outputs": [
        {
          "output_type": "display_data",
          "data": {
            "text/html": [
              "<style scoped>\n",
              "  .table-result-container {\n",
              "    max-height: 300px;\n",
              "    overflow: auto;\n",
              "  }\n",
              "  table, th, td {\n",
              "    border: 1px solid black;\n",
              "    border-collapse: collapse;\n",
              "  }\n",
              "  th, td {\n",
              "    padding: 5px;\n",
              "  }\n",
              "  th {\n",
              "    text-align: left;\n",
              "  }\n",
              "</style><div class='table-result-container'><table class='table-result'><thead style='background-color: white'><tr><th>order_id</th><th>num_itens</th></tr></thead><tbody><tr><td>8272b63d03f5f79c56e9e4120aec44ef</td><td>21</td></tr><tr><td>1b15974a0141d54e36626dca3fdc731a</td><td>20</td></tr><tr><td>ab14fdcfbe524636d65ee38360e22ce8</td><td>20</td></tr><tr><td>428a2f660dc84138d969ccd69a0ab6d5</td><td>15</td></tr><tr><td>9ef13efd6949e4573a18964dd1bbe7f5</td><td>15</td></tr><tr><td>73c8ab38f07dc94389065f7eba4f297a</td><td>14</td></tr><tr><td>9bdc4d4c71aa1de4606060929dee888c</td><td>14</td></tr><tr><td>37ee401157a3a0b28c9c6d0ed8c3b24b</td><td>13</td></tr><tr><td>c05d6a79e55da72ca780ce90364abed9</td><td>12</td></tr><tr><td>af822dacd6f5cff7376413c03a388bb7</td><td>12</td></tr><tr><td>637617b3ffe9e2f7a2411243829226d0</td><td>12</td></tr><tr><td>2c2a19b5703863c908512d135aa6accc</td><td>12</td></tr><tr><td>3a213fcdfe7d98be74ea0dc05a8b31ae</td><td>12</td></tr><tr><td>71dab1155600756af6de79de92e712e3</td><td>11</td></tr><tr><td>5a3b1c29a49756e75f1ef513383c0c12</td><td>11</td></tr></tbody></table></div>"
            ]
          },
          "metadata": {
            "application/vnd.databricks.v1+output": {
              "addedWidgets": {},
              "aggData": [],
              "aggError": "",
              "aggOverflow": false,
              "aggSchema": [],
              "aggSeriesLimitReached": false,
              "aggType": "",
              "arguments": {},
              "columnCustomDisplayInfos": {},
              "data": [
                [
                  "8272b63d03f5f79c56e9e4120aec44ef",
                  21
                ],
                [
                  "1b15974a0141d54e36626dca3fdc731a",
                  20
                ],
                [
                  "ab14fdcfbe524636d65ee38360e22ce8",
                  20
                ],
                [
                  "428a2f660dc84138d969ccd69a0ab6d5",
                  15
                ],
                [
                  "9ef13efd6949e4573a18964dd1bbe7f5",
                  15
                ],
                [
                  "73c8ab38f07dc94389065f7eba4f297a",
                  14
                ],
                [
                  "9bdc4d4c71aa1de4606060929dee888c",
                  14
                ],
                [
                  "37ee401157a3a0b28c9c6d0ed8c3b24b",
                  13
                ],
                [
                  "c05d6a79e55da72ca780ce90364abed9",
                  12
                ],
                [
                  "af822dacd6f5cff7376413c03a388bb7",
                  12
                ],
                [
                  "637617b3ffe9e2f7a2411243829226d0",
                  12
                ],
                [
                  "2c2a19b5703863c908512d135aa6accc",
                  12
                ],
                [
                  "3a213fcdfe7d98be74ea0dc05a8b31ae",
                  12
                ],
                [
                  "71dab1155600756af6de79de92e712e3",
                  11
                ],
                [
                  "5a3b1c29a49756e75f1ef513383c0c12",
                  11
                ]
              ],
              "datasetInfos": [],
              "dbfsResultPath": null,
              "isJsonSchema": true,
              "metadata": {},
              "overflow": false,
              "plotOptions": {
                "customPlotOptions": {},
                "displayType": "table",
                "pivotAggregation": null,
                "pivotColumns": null,
                "xColumns": null,
                "yColumns": null
              },
              "removedWidgets": [],
              "schema": [
                {
                  "metadata": "{}",
                  "name": "order_id",
                  "type": "\"string\""
                },
                {
                  "metadata": "{}",
                  "name": "num_itens",
                  "type": "\"long\""
                }
              ],
              "type": "table"
            }
          }
        }
      ],
      "source": [
        "%sql\n",
        "SELECT order_id, COUNT(*) AS num_itens\n",
        "FROM Silver.DimItens\n",
        "GROUP BY order_id\n",
        "ORDER BY num_itens DESC\n",
        "LIMIT 15;"
      ]
    },
    {
      "cell_type": "markdown",
      "metadata": {
        "application/vnd.databricks.v1+cell": {
          "cellMetadata": {},
          "inputWidgets": {},
          "nuid": "71aac4f8-fcb2-439f-b13f-03c458c87099",
          "showTitle": false,
          "tableResultSettingsMap": {},
          "title": ""
        },
        "id": "8zHZiKHzwppx"
      },
      "source": [
        "Verificando se há pedidos duplicados na tabela fato, com base na coluna order_id"
      ]
    },
    {
      "cell_type": "code",
      "execution_count": null,
      "metadata": {
        "application/vnd.databricks.v1+cell": {
          "cellMetadata": {
            "byteLimit": 2048000,
            "implicitDf": true,
            "rowLimit": 10000
          },
          "inputWidgets": {},
          "nuid": "265f5cd7-afb7-4f85-8344-3c266a298ed6",
          "showTitle": false,
          "tableResultSettingsMap": {},
          "title": ""
        },
        "id": "tFTyoHKpwppx",
        "outputId": "b5c69f53-d462-4f7b-9352-4e6bc12e99c4"
      },
      "outputs": [
        {
          "output_type": "display_data",
          "data": {
            "text/html": [
              "<style scoped>\n",
              "  .table-result-container {\n",
              "    max-height: 300px;\n",
              "    overflow: auto;\n",
              "  }\n",
              "  table, th, td {\n",
              "    border: 1px solid black;\n",
              "    border-collapse: collapse;\n",
              "  }\n",
              "  th, td {\n",
              "    padding: 5px;\n",
              "  }\n",
              "  th {\n",
              "    text-align: left;\n",
              "  }\n",
              "</style><div class='table-result-container'><table class='table-result'><thead style='background-color: white'><tr><th>order_id</th><th>count(1)</th></tr></thead><tbody></tbody></table></div>"
            ]
          },
          "metadata": {
            "application/vnd.databricks.v1+output": {
              "addedWidgets": {},
              "aggData": [],
              "aggError": "",
              "aggOverflow": false,
              "aggSchema": [],
              "aggSeriesLimitReached": false,
              "aggType": "",
              "arguments": {},
              "columnCustomDisplayInfos": {},
              "data": [],
              "datasetInfos": [],
              "dbfsResultPath": null,
              "isJsonSchema": true,
              "metadata": {},
              "overflow": false,
              "plotOptions": {
                "customPlotOptions": {},
                "displayType": "table",
                "pivotAggregation": null,
                "pivotColumns": null,
                "xColumns": null,
                "yColumns": null
              },
              "removedWidgets": [],
              "schema": [
                {
                  "metadata": "{}",
                  "name": "order_id",
                  "type": "\"string\""
                },
                {
                  "metadata": "{\"__autoGeneratedAlias\":\"true\"}",
                  "name": "count(1)",
                  "type": "\"long\""
                }
              ],
              "type": "table"
            }
          }
        }
      ],
      "source": [
        "%sql\n",
        "SELECT order_id, COUNT(*)\n",
        "FROM silver.fatopedidos_teste\n",
        "GROUP BY order_id\n",
        "HAVING COUNT(*) > 1;"
      ]
    },
    {
      "cell_type": "markdown",
      "metadata": {
        "application/vnd.databricks.v1+cell": {
          "cellMetadata": {},
          "inputWidgets": {},
          "nuid": "0d9d3e0d-f035-48d1-b52a-d4a6e9762433",
          "showTitle": false,
          "tableResultSettingsMap": {},
          "title": ""
        },
        "id": "C0Hyiz-hwppx"
      },
      "source": [
        "Integridade referencial entre a tabela fato e DimClientes"
      ]
    },
    {
      "cell_type": "code",
      "execution_count": null,
      "metadata": {
        "application/vnd.databricks.v1+cell": {
          "cellMetadata": {
            "byteLimit": 2048000,
            "implicitDf": true,
            "rowLimit": 10000
          },
          "inputWidgets": {},
          "nuid": "0dd8e291-cea8-4e5c-ae22-f55b724df704",
          "showTitle": false,
          "tableResultSettingsMap": {},
          "title": ""
        },
        "id": "eBTdHkNkwppx",
        "outputId": "f66db5bd-50e7-4f90-9a65-b82988c01731"
      },
      "outputs": [
        {
          "output_type": "display_data",
          "data": {
            "text/html": [
              "<style scoped>\n",
              "  .table-result-container {\n",
              "    max-height: 300px;\n",
              "    overflow: auto;\n",
              "  }\n",
              "  table, th, td {\n",
              "    border: 1px solid black;\n",
              "    border-collapse: collapse;\n",
              "  }\n",
              "  th, td {\n",
              "    padding: 5px;\n",
              "  }\n",
              "  th {\n",
              "    text-align: left;\n",
              "  }\n",
              "</style><div class='table-result-container'><table class='table-result'><thead style='background-color: white'><tr><th>order_id</th><th>customer_id</th></tr></thead><tbody></tbody></table></div>"
            ]
          },
          "metadata": {
            "application/vnd.databricks.v1+output": {
              "addedWidgets": {},
              "aggData": [],
              "aggError": "",
              "aggOverflow": false,
              "aggSchema": [],
              "aggSeriesLimitReached": false,
              "aggType": "",
              "arguments": {},
              "columnCustomDisplayInfos": {},
              "data": [],
              "datasetInfos": [],
              "dbfsResultPath": null,
              "isJsonSchema": true,
              "metadata": {},
              "overflow": false,
              "plotOptions": {
                "customPlotOptions": {},
                "displayType": "table",
                "pivotAggregation": null,
                "pivotColumns": null,
                "xColumns": null,
                "yColumns": null
              },
              "removedWidgets": [],
              "schema": [
                {
                  "metadata": "{}",
                  "name": "order_id",
                  "type": "\"string\""
                },
                {
                  "metadata": "{}",
                  "name": "customer_id",
                  "type": "\"string\""
                }
              ],
              "type": "table"
            }
          }
        }
      ],
      "source": [
        "%sql\n",
        "SELECT f.order_id, f.customer_id\n",
        "FROM Silver.fatopedidos_teste f\n",
        "LEFT JOIN Silver.DimClientes c\n",
        "  ON f.customer_id = c.customer_id\n",
        "WHERE c.customer_id IS NULL; -- verificando que cada customer_id na tabela fato tenha uma correspondência válida na tabela DimClientes"
      ]
    },
    {
      "cell_type": "markdown",
      "metadata": {
        "application/vnd.databricks.v1+cell": {
          "cellMetadata": {},
          "inputWidgets": {},
          "nuid": "3d007999-2a52-4a16-9fdf-9e004dc877de",
          "showTitle": false,
          "tableResultSettingsMap": {},
          "title": ""
        },
        "id": "rWvlj1Xkwppy"
      },
      "source": [
        "Verificando que é preciso transformar os tipos de dados de algumas colunas de DimItens."
      ]
    },
    {
      "cell_type": "code",
      "execution_count": null,
      "metadata": {
        "application/vnd.databricks.v1+cell": {
          "cellMetadata": {
            "byteLimit": 2048000,
            "implicitDf": true,
            "rowLimit": 10000
          },
          "inputWidgets": {},
          "nuid": "dcd100b2-b4d6-4359-a1ea-076e3288345a",
          "showTitle": false,
          "tableResultSettingsMap": {},
          "title": ""
        },
        "id": "jXvFhpjKwppy",
        "outputId": "b05e8245-f25f-434e-990a-4146140258f8"
      },
      "outputs": [
        {
          "output_type": "display_data",
          "data": {
            "text/html": [
              "<style scoped>\n",
              "  .table-result-container {\n",
              "    max-height: 300px;\n",
              "    overflow: auto;\n",
              "  }\n",
              "  table, th, td {\n",
              "    border: 1px solid black;\n",
              "    border-collapse: collapse;\n",
              "  }\n",
              "  th, td {\n",
              "    padding: 5px;\n",
              "  }\n",
              "  th {\n",
              "    text-align: left;\n",
              "  }\n",
              "</style><div class='table-result-container'><table class='table-result'><thead style='background-color: white'><tr><th>col_name</th><th>data_type</th><th>comment</th></tr></thead><tbody><tr><td>order_id</td><td>string</td><td>null</td></tr><tr><td>order_item_id</td><td>int</td><td>null</td></tr><tr><td>product_id</td><td>string</td><td>null</td></tr><tr><td>seller_id</td><td>string</td><td>null</td></tr><tr><td>shipping_limit_date</td><td>timestamp</td><td>null</td></tr><tr><td>price</td><td>double</td><td>null</td></tr><tr><td>freight_value</td><td>double</td><td>null</td></tr></tbody></table></div>"
            ]
          },
          "metadata": {
            "application/vnd.databricks.v1+output": {
              "addedWidgets": {},
              "aggData": [],
              "aggError": "",
              "aggOverflow": false,
              "aggSchema": [],
              "aggSeriesLimitReached": false,
              "aggType": "",
              "arguments": {},
              "columnCustomDisplayInfos": {},
              "data": [
                [
                  "order_id",
                  "string",
                  null
                ],
                [
                  "order_item_id",
                  "int",
                  null
                ],
                [
                  "product_id",
                  "string",
                  null
                ],
                [
                  "seller_id",
                  "string",
                  null
                ],
                [
                  "shipping_limit_date",
                  "timestamp",
                  null
                ],
                [
                  "price",
                  "double",
                  null
                ],
                [
                  "freight_value",
                  "double",
                  null
                ]
              ],
              "datasetInfos": [],
              "dbfsResultPath": null,
              "isJsonSchema": true,
              "metadata": {},
              "overflow": false,
              "plotOptions": {
                "customPlotOptions": {},
                "displayType": "table",
                "pivotAggregation": null,
                "pivotColumns": null,
                "xColumns": null,
                "yColumns": null
              },
              "removedWidgets": [],
              "schema": [
                {
                  "metadata": "{\"comment\":\"name of the column\"}",
                  "name": "col_name",
                  "type": "\"string\""
                },
                {
                  "metadata": "{\"comment\":\"data type of the column\"}",
                  "name": "data_type",
                  "type": "\"string\""
                },
                {
                  "metadata": "{\"comment\":\"comment of the column\"}",
                  "name": "comment",
                  "type": "\"string\""
                }
              ],
              "type": "table"
            }
          }
        }
      ],
      "source": [
        "%sql\n",
        "DESCRIBE Silver.dimitens"
      ]
    },
    {
      "cell_type": "code",
      "execution_count": null,
      "metadata": {
        "application/vnd.databricks.v1+cell": {
          "cellMetadata": {
            "byteLimit": 2048000,
            "implicitDf": true,
            "rowLimit": 10000
          },
          "inputWidgets": {},
          "nuid": "007d7744-ce8f-47c1-a940-a3527e330c3e",
          "showTitle": false,
          "tableResultSettingsMap": {},
          "title": ""
        },
        "id": "-JiJcE-9wppy",
        "outputId": "3dc73494-e84f-4f74-f0be-004993f26ad5"
      },
      "outputs": [
        {
          "output_type": "display_data",
          "data": {
            "text/html": [
              "<style scoped>\n",
              "  .table-result-container {\n",
              "    max-height: 300px;\n",
              "    overflow: auto;\n",
              "  }\n",
              "  table, th, td {\n",
              "    border: 1px solid black;\n",
              "    border-collapse: collapse;\n",
              "  }\n",
              "  th, td {\n",
              "    padding: 5px;\n",
              "  }\n",
              "  th {\n",
              "    text-align: left;\n",
              "  }\n",
              "</style><div class='table-result-container'><table class='table-result'><thead style='background-color: white'><tr><th>num_affected_rows</th><th>num_inserted_rows</th></tr></thead><tbody></tbody></table></div>"
            ]
          },
          "metadata": {
            "application/vnd.databricks.v1+output": {
              "addedWidgets": {},
              "aggData": [],
              "aggError": "",
              "aggOverflow": false,
              "aggSchema": [],
              "aggSeriesLimitReached": false,
              "aggType": "",
              "arguments": {},
              "columnCustomDisplayInfos": {},
              "data": [],
              "datasetInfos": [],
              "dbfsResultPath": null,
              "isJsonSchema": true,
              "metadata": {},
              "overflow": false,
              "plotOptions": {
                "customPlotOptions": {},
                "displayType": "table",
                "pivotAggregation": null,
                "pivotColumns": null,
                "xColumns": null,
                "yColumns": null
              },
              "removedWidgets": [],
              "schema": [
                {
                  "metadata": "{}",
                  "name": "num_affected_rows",
                  "type": "\"long\""
                },
                {
                  "metadata": "{}",
                  "name": "num_inserted_rows",
                  "type": "\"long\""
                }
              ],
              "type": "table"
            }
          }
        }
      ],
      "source": [
        "%sql\n",
        "CREATE OR REPLACE TABLE Silver.dimitens_final\n",
        "USING DELTA\n",
        "AS\n",
        "SELECT\n",
        "    order_id,\n",
        "    order_item_id,\n",
        "    product_id,\n",
        "    seller_id,\n",
        "    shipping_limit_date,\n",
        "    CAST(price AS DECIMAL(10,2)) AS price,\n",
        "    CAST(freight_value AS DECIMAL(10,2)) AS freight_value\n",
        "FROM Silver.dimitens;"
      ]
    },
    {
      "cell_type": "markdown",
      "metadata": {
        "application/vnd.databricks.v1+cell": {
          "cellMetadata": {},
          "inputWidgets": {},
          "nuid": "dfa3d2f6-6784-4a87-9697-78badda3b14c",
          "showTitle": false,
          "tableResultSettingsMap": {},
          "title": ""
        },
        "id": "rvLZ7xwewppy"
      },
      "source": [
        "Verificando tipos de dados das tabelas"
      ]
    },
    {
      "cell_type": "code",
      "execution_count": null,
      "metadata": {
        "application/vnd.databricks.v1+cell": {
          "cellMetadata": {
            "byteLimit": 2048000,
            "implicitDf": true,
            "rowLimit": 10000
          },
          "inputWidgets": {},
          "nuid": "9513b133-3f88-427e-80b0-f4f4dca5795e",
          "showTitle": false,
          "tableResultSettingsMap": {},
          "title": ""
        },
        "id": "3-YscRKawppy",
        "outputId": "64e75305-ecfb-4e8e-a990-ff1958e4f765"
      },
      "outputs": [
        {
          "output_type": "display_data",
          "data": {
            "text/html": [
              "<style scoped>\n",
              "  .table-result-container {\n",
              "    max-height: 300px;\n",
              "    overflow: auto;\n",
              "  }\n",
              "  table, th, td {\n",
              "    border: 1px solid black;\n",
              "    border-collapse: collapse;\n",
              "  }\n",
              "  th, td {\n",
              "    padding: 5px;\n",
              "  }\n",
              "  th {\n",
              "    text-align: left;\n",
              "  }\n",
              "</style><div class='table-result-container'><table class='table-result'><thead style='background-color: white'><tr><th>col_name</th><th>data_type</th><th>comment</th></tr></thead><tbody><tr><td>customer_id</td><td>string</td><td>null</td></tr><tr><td>customer_unique_id</td><td>string</td><td>null</td></tr><tr><td>customer_zip_code_prefix</td><td>int</td><td>null</td></tr><tr><td>customer_city</td><td>string</td><td>null</td></tr><tr><td>customer_state</td><td>string</td><td>null</td></tr></tbody></table></div>"
            ]
          },
          "metadata": {
            "application/vnd.databricks.v1+output": {
              "addedWidgets": {},
              "aggData": [],
              "aggError": "",
              "aggOverflow": false,
              "aggSchema": [],
              "aggSeriesLimitReached": false,
              "aggType": "",
              "arguments": {},
              "columnCustomDisplayInfos": {},
              "data": [
                [
                  "customer_id",
                  "string",
                  null
                ],
                [
                  "customer_unique_id",
                  "string",
                  null
                ],
                [
                  "customer_zip_code_prefix",
                  "int",
                  null
                ],
                [
                  "customer_city",
                  "string",
                  null
                ],
                [
                  "customer_state",
                  "string",
                  null
                ]
              ],
              "datasetInfos": [],
              "dbfsResultPath": null,
              "isJsonSchema": true,
              "metadata": {},
              "overflow": false,
              "plotOptions": {
                "customPlotOptions": {},
                "displayType": "table",
                "pivotAggregation": null,
                "pivotColumns": null,
                "xColumns": null,
                "yColumns": null
              },
              "removedWidgets": [],
              "schema": [
                {
                  "metadata": "{\"comment\":\"name of the column\"}",
                  "name": "col_name",
                  "type": "\"string\""
                },
                {
                  "metadata": "{\"comment\":\"data type of the column\"}",
                  "name": "data_type",
                  "type": "\"string\""
                },
                {
                  "metadata": "{\"comment\":\"comment of the column\"}",
                  "name": "comment",
                  "type": "\"string\""
                }
              ],
              "type": "table"
            }
          }
        }
      ],
      "source": [
        "%sql\n",
        "DESCRIBE Silver.dimclientes;"
      ]
    },
    {
      "cell_type": "code",
      "execution_count": null,
      "metadata": {
        "application/vnd.databricks.v1+cell": {
          "cellMetadata": {
            "byteLimit": 2048000,
            "implicitDf": true,
            "rowLimit": 10000
          },
          "inputWidgets": {},
          "nuid": "2738f38a-9bcd-4323-9c8d-2cb2088438db",
          "showTitle": false,
          "tableResultSettingsMap": {},
          "title": ""
        },
        "id": "HuZsXvaFwppy",
        "outputId": "4e632c07-8f8d-4bfd-a5b2-98492f1efb72"
      },
      "outputs": [
        {
          "output_type": "display_data",
          "data": {
            "text/html": [
              "<style scoped>\n",
              "  .table-result-container {\n",
              "    max-height: 300px;\n",
              "    overflow: auto;\n",
              "  }\n",
              "  table, th, td {\n",
              "    border: 1px solid black;\n",
              "    border-collapse: collapse;\n",
              "  }\n",
              "  th, td {\n",
              "    padding: 5px;\n",
              "  }\n",
              "  th {\n",
              "    text-align: left;\n",
              "  }\n",
              "</style><div class='table-result-container'><table class='table-result'><thead style='background-color: white'><tr><th>col_name</th><th>data_type</th><th>comment</th></tr></thead><tbody><tr><td>geolocation_zip_code_prefix</td><td>int</td><td>null</td></tr><tr><td>geolocation_lat</td><td>double</td><td>null</td></tr><tr><td>geolocation_lng</td><td>double</td><td>null</td></tr><tr><td>geolocation_city</td><td>string</td><td>null</td></tr><tr><td>geolocation_state</td><td>string</td><td>null</td></tr></tbody></table></div>"
            ]
          },
          "metadata": {
            "application/vnd.databricks.v1+output": {
              "addedWidgets": {},
              "aggData": [],
              "aggError": "",
              "aggOverflow": false,
              "aggSchema": [],
              "aggSeriesLimitReached": false,
              "aggType": "",
              "arguments": {},
              "columnCustomDisplayInfos": {},
              "data": [
                [
                  "geolocation_zip_code_prefix",
                  "int",
                  null
                ],
                [
                  "geolocation_lat",
                  "double",
                  null
                ],
                [
                  "geolocation_lng",
                  "double",
                  null
                ],
                [
                  "geolocation_city",
                  "string",
                  null
                ],
                [
                  "geolocation_state",
                  "string",
                  null
                ]
              ],
              "datasetInfos": [],
              "dbfsResultPath": null,
              "isJsonSchema": true,
              "metadata": {},
              "overflow": false,
              "plotOptions": {
                "customPlotOptions": {},
                "displayType": "table",
                "pivotAggregation": null,
                "pivotColumns": null,
                "xColumns": null,
                "yColumns": null
              },
              "removedWidgets": [],
              "schema": [
                {
                  "metadata": "{\"comment\":\"name of the column\"}",
                  "name": "col_name",
                  "type": "\"string\""
                },
                {
                  "metadata": "{\"comment\":\"data type of the column\"}",
                  "name": "data_type",
                  "type": "\"string\""
                },
                {
                  "metadata": "{\"comment\":\"comment of the column\"}",
                  "name": "comment",
                  "type": "\"string\""
                }
              ],
              "type": "table"
            }
          }
        }
      ],
      "source": [
        "%sql\n",
        "DESCRIBE Silver.dimlocalizacao;"
      ]
    },
    {
      "cell_type": "code",
      "execution_count": null,
      "metadata": {
        "application/vnd.databricks.v1+cell": {
          "cellMetadata": {
            "byteLimit": 2048000,
            "implicitDf": true,
            "rowLimit": 10000
          },
          "inputWidgets": {},
          "nuid": "bd1f5a62-2996-4204-a998-00bfdb29d501",
          "showTitle": false,
          "tableResultSettingsMap": {},
          "title": ""
        },
        "id": "rNogxUcFwppz",
        "outputId": "64dbcd6c-6861-476d-c08f-1faa0e2a8fd9"
      },
      "outputs": [
        {
          "output_type": "display_data",
          "data": {
            "text/html": [
              "<style scoped>\n",
              "  .table-result-container {\n",
              "    max-height: 300px;\n",
              "    overflow: auto;\n",
              "  }\n",
              "  table, th, td {\n",
              "    border: 1px solid black;\n",
              "    border-collapse: collapse;\n",
              "  }\n",
              "  th, td {\n",
              "    padding: 5px;\n",
              "  }\n",
              "  th {\n",
              "    text-align: left;\n",
              "  }\n",
              "</style><div class='table-result-container'><table class='table-result'><thead style='background-color: white'><tr><th>col_name</th><th>data_type</th><th>comment</th></tr></thead><tbody><tr><td>order_id</td><td>string</td><td>null</td></tr><tr><td>payment_sequential</td><td>int</td><td>null</td></tr><tr><td>payment_type</td><td>string</td><td>null</td></tr><tr><td>payment_installments</td><td>int</td><td>null</td></tr><tr><td>payment_value</td><td>double</td><td>null</td></tr></tbody></table></div>"
            ]
          },
          "metadata": {
            "application/vnd.databricks.v1+output": {
              "addedWidgets": {},
              "aggData": [],
              "aggError": "",
              "aggOverflow": false,
              "aggSchema": [],
              "aggSeriesLimitReached": false,
              "aggType": "",
              "arguments": {},
              "columnCustomDisplayInfos": {},
              "data": [
                [
                  "order_id",
                  "string",
                  null
                ],
                [
                  "payment_sequential",
                  "int",
                  null
                ],
                [
                  "payment_type",
                  "string",
                  null
                ],
                [
                  "payment_installments",
                  "int",
                  null
                ],
                [
                  "payment_value",
                  "double",
                  null
                ]
              ],
              "datasetInfos": [],
              "dbfsResultPath": null,
              "isJsonSchema": true,
              "metadata": {},
              "overflow": false,
              "plotOptions": {
                "customPlotOptions": {},
                "displayType": "table",
                "pivotAggregation": null,
                "pivotColumns": null,
                "xColumns": null,
                "yColumns": null
              },
              "removedWidgets": [],
              "schema": [
                {
                  "metadata": "{\"comment\":\"name of the column\"}",
                  "name": "col_name",
                  "type": "\"string\""
                },
                {
                  "metadata": "{\"comment\":\"data type of the column\"}",
                  "name": "data_type",
                  "type": "\"string\""
                },
                {
                  "metadata": "{\"comment\":\"comment of the column\"}",
                  "name": "comment",
                  "type": "\"string\""
                }
              ],
              "type": "table"
            }
          }
        }
      ],
      "source": [
        "%sql\n",
        "DESCRIBE Silver.dimpagamentos;\n"
      ]
    },
    {
      "cell_type": "markdown",
      "metadata": {
        "application/vnd.databricks.v1+cell": {
          "cellMetadata": {},
          "inputWidgets": {},
          "nuid": "b7b2ca69-9174-4fa0-9a7a-d0cb464e20c2",
          "showTitle": false,
          "tableResultSettingsMap": {},
          "title": ""
        },
        "id": "FIS-JvNWwppz"
      },
      "source": [
        "Alterando o tipo de dado da coluna payment_value da tabela DimPagamentos para Decimal."
      ]
    },
    {
      "cell_type": "code",
      "execution_count": null,
      "metadata": {
        "application/vnd.databricks.v1+cell": {
          "cellMetadata": {
            "byteLimit": 2048000,
            "implicitDf": true,
            "rowLimit": 10000
          },
          "inputWidgets": {},
          "nuid": "217203ba-b3df-4874-a5b8-b0d4561c03e7",
          "showTitle": false,
          "tableResultSettingsMap": {},
          "title": ""
        },
        "id": "LEeTRvl7wppz",
        "outputId": "b81503ac-3d46-4848-9b37-8e18f07ba52b"
      },
      "outputs": [
        {
          "output_type": "display_data",
          "data": {
            "text/html": [
              "<style scoped>\n",
              "  .table-result-container {\n",
              "    max-height: 300px;\n",
              "    overflow: auto;\n",
              "  }\n",
              "  table, th, td {\n",
              "    border: 1px solid black;\n",
              "    border-collapse: collapse;\n",
              "  }\n",
              "  th, td {\n",
              "    padding: 5px;\n",
              "  }\n",
              "  th {\n",
              "    text-align: left;\n",
              "  }\n",
              "</style><div class='table-result-container'><table class='table-result'><thead style='background-color: white'><tr><th>num_affected_rows</th><th>num_inserted_rows</th></tr></thead><tbody></tbody></table></div>"
            ]
          },
          "metadata": {
            "application/vnd.databricks.v1+output": {
              "addedWidgets": {},
              "aggData": [],
              "aggError": "",
              "aggOverflow": false,
              "aggSchema": [],
              "aggSeriesLimitReached": false,
              "aggType": "",
              "arguments": {},
              "columnCustomDisplayInfos": {},
              "data": [],
              "datasetInfos": [],
              "dbfsResultPath": null,
              "isJsonSchema": true,
              "metadata": {},
              "overflow": false,
              "plotOptions": {
                "customPlotOptions": {},
                "displayType": "table",
                "pivotAggregation": null,
                "pivotColumns": null,
                "xColumns": null,
                "yColumns": null
              },
              "removedWidgets": [],
              "schema": [
                {
                  "metadata": "{}",
                  "name": "num_affected_rows",
                  "type": "\"long\""
                },
                {
                  "metadata": "{}",
                  "name": "num_inserted_rows",
                  "type": "\"long\""
                }
              ],
              "type": "table"
            }
          }
        }
      ],
      "source": [
        "%sql\n",
        "CREATE OR REPLACE TABLE Silver.dimpagamentos_final\n",
        "USING DELTA\n",
        "AS\n",
        "SELECT\n",
        "    order_id,\n",
        "    payment_sequential,\n",
        "    payment_type,\n",
        "    payment_installments,\n",
        "    CAST(payment_value AS DECIMAL(10,2)) AS payment_value\n",
        "FROM Silver.dimpagamentos;"
      ]
    },
    {
      "cell_type": "code",
      "execution_count": null,
      "metadata": {
        "application/vnd.databricks.v1+cell": {
          "cellMetadata": {
            "byteLimit": 2048000,
            "implicitDf": true,
            "rowLimit": 10000
          },
          "inputWidgets": {},
          "nuid": "acef3df2-7a0b-4e33-8162-7b74ce5d8829",
          "showTitle": false,
          "tableResultSettingsMap": {},
          "title": ""
        },
        "id": "6RiJdfOTwppz",
        "outputId": "340b6bf4-ffdd-47f4-edef-df222f836258"
      },
      "outputs": [
        {
          "output_type": "display_data",
          "data": {
            "text/html": [
              "<style scoped>\n",
              "  .table-result-container {\n",
              "    max-height: 300px;\n",
              "    overflow: auto;\n",
              "  }\n",
              "  table, th, td {\n",
              "    border: 1px solid black;\n",
              "    border-collapse: collapse;\n",
              "  }\n",
              "  th, td {\n",
              "    padding: 5px;\n",
              "  }\n",
              "  th {\n",
              "    text-align: left;\n",
              "  }\n",
              "</style><div class='table-result-container'><table class='table-result'><thead style='background-color: white'><tr><th>col_name</th><th>data_type</th><th>comment</th></tr></thead><tbody><tr><td>review_id</td><td>string</td><td>null</td></tr><tr><td>order_id</td><td>string</td><td>null</td></tr><tr><td>review_score</td><td>string</td><td>null</td></tr><tr><td>review_comment_title</td><td>string</td><td>null</td></tr><tr><td>review_comment_message</td><td>string</td><td>null</td></tr><tr><td>review_creation_date</td><td>string</td><td>null</td></tr><tr><td>review_answer_timestamp</td><td>string</td><td>null</td></tr></tbody></table></div>"
            ]
          },
          "metadata": {
            "application/vnd.databricks.v1+output": {
              "addedWidgets": {},
              "aggData": [],
              "aggError": "",
              "aggOverflow": false,
              "aggSchema": [],
              "aggSeriesLimitReached": false,
              "aggType": "",
              "arguments": {},
              "columnCustomDisplayInfos": {},
              "data": [
                [
                  "review_id",
                  "string",
                  null
                ],
                [
                  "order_id",
                  "string",
                  null
                ],
                [
                  "review_score",
                  "string",
                  null
                ],
                [
                  "review_comment_title",
                  "string",
                  null
                ],
                [
                  "review_comment_message",
                  "string",
                  null
                ],
                [
                  "review_creation_date",
                  "string",
                  null
                ],
                [
                  "review_answer_timestamp",
                  "string",
                  null
                ]
              ],
              "datasetInfos": [],
              "dbfsResultPath": null,
              "isJsonSchema": true,
              "metadata": {},
              "overflow": false,
              "plotOptions": {
                "customPlotOptions": {},
                "displayType": "table",
                "pivotAggregation": null,
                "pivotColumns": null,
                "xColumns": null,
                "yColumns": null
              },
              "removedWidgets": [],
              "schema": [
                {
                  "metadata": "{\"comment\":\"name of the column\"}",
                  "name": "col_name",
                  "type": "\"string\""
                },
                {
                  "metadata": "{\"comment\":\"data type of the column\"}",
                  "name": "data_type",
                  "type": "\"string\""
                },
                {
                  "metadata": "{\"comment\":\"comment of the column\"}",
                  "name": "comment",
                  "type": "\"string\""
                }
              ],
              "type": "table"
            }
          }
        }
      ],
      "source": [
        "%sql\n",
        "DESCRIBE Silver.dimreviews"
      ]
    },
    {
      "cell_type": "markdown",
      "metadata": {
        "application/vnd.databricks.v1+cell": {
          "cellMetadata": {},
          "inputWidgets": {},
          "nuid": "fa527dec-a535-401b-8440-3a3f37ab71bc",
          "showTitle": false,
          "tableResultSettingsMap": {},
          "title": ""
        },
        "id": "J9-zdeCqwppz"
      },
      "source": [
        "Alterando coluna review_score para o tipo de dado inteiro."
      ]
    },
    {
      "cell_type": "code",
      "execution_count": null,
      "metadata": {
        "application/vnd.databricks.v1+cell": {
          "cellMetadata": {
            "byteLimit": 2048000,
            "implicitDf": true,
            "rowLimit": 10000
          },
          "inputWidgets": {},
          "nuid": "78e4aacf-08bb-4dab-88ec-2725afccd5e5",
          "showTitle": false,
          "tableResultSettingsMap": {},
          "title": ""
        },
        "id": "xXmBXGyPwpp0",
        "outputId": "cf7db5cd-d7ca-446e-8d1e-ba8bd544ca44"
      },
      "outputs": [
        {
          "output_type": "display_data",
          "data": {
            "text/html": [
              "<style scoped>\n",
              "  .table-result-container {\n",
              "    max-height: 300px;\n",
              "    overflow: auto;\n",
              "  }\n",
              "  table, th, td {\n",
              "    border: 1px solid black;\n",
              "    border-collapse: collapse;\n",
              "  }\n",
              "  th, td {\n",
              "    padding: 5px;\n",
              "  }\n",
              "  th {\n",
              "    text-align: left;\n",
              "  }\n",
              "</style><div class='table-result-container'><table class='table-result'><thead style='background-color: white'><tr><th>num_affected_rows</th><th>num_inserted_rows</th></tr></thead><tbody></tbody></table></div>"
            ]
          },
          "metadata": {
            "application/vnd.databricks.v1+output": {
              "addedWidgets": {},
              "aggData": [],
              "aggError": "",
              "aggOverflow": false,
              "aggSchema": [],
              "aggSeriesLimitReached": false,
              "aggType": "",
              "arguments": {},
              "columnCustomDisplayInfos": {},
              "data": [],
              "datasetInfos": [],
              "dbfsResultPath": null,
              "isJsonSchema": true,
              "metadata": {},
              "overflow": false,
              "plotOptions": {
                "customPlotOptions": {},
                "displayType": "table",
                "pivotAggregation": null,
                "pivotColumns": null,
                "xColumns": null,
                "yColumns": null
              },
              "removedWidgets": [],
              "schema": [
                {
                  "metadata": "{}",
                  "name": "num_affected_rows",
                  "type": "\"long\""
                },
                {
                  "metadata": "{}",
                  "name": "num_inserted_rows",
                  "type": "\"long\""
                }
              ],
              "type": "table"
            }
          }
        }
      ],
      "source": [
        "%sql\n",
        "CREATE OR REPLACE TABLE Silver.dimreviews_final\n",
        "USING DELTA\n",
        "AS\n",
        "SELECT\n",
        "  review_id,\n",
        "  order_id,\n",
        "  CAST(review_score AS INT) AS review_score,\n",
        "  review_comment_title,\n",
        "  review_comment_message,\n",
        "  review_creation_date,\n",
        "  review_answer_timestamp\n",
        "FROM Silver.dimreviews;"
      ]
    },
    {
      "cell_type": "code",
      "execution_count": null,
      "metadata": {
        "application/vnd.databricks.v1+cell": {
          "cellMetadata": {
            "byteLimit": 2048000,
            "implicitDf": true,
            "rowLimit": 10000
          },
          "inputWidgets": {},
          "nuid": "8bf93e1d-039b-45c2-8ff2-fd5ee423b92b",
          "showTitle": false,
          "tableResultSettingsMap": {},
          "title": ""
        },
        "id": "2n6Id0Vjwpp0",
        "outputId": "81a474b2-7a1b-4c60-bf3d-cf3fb4f1221f"
      },
      "outputs": [
        {
          "output_type": "display_data",
          "data": {
            "text/html": [
              "<style scoped>\n",
              "  .table-result-container {\n",
              "    max-height: 300px;\n",
              "    overflow: auto;\n",
              "  }\n",
              "  table, th, td {\n",
              "    border: 1px solid black;\n",
              "    border-collapse: collapse;\n",
              "  }\n",
              "  th, td {\n",
              "    padding: 5px;\n",
              "  }\n",
              "  th {\n",
              "    text-align: left;\n",
              "  }\n",
              "</style><div class='table-result-container'><table class='table-result'><thead style='background-color: white'><tr><th>col_name</th><th>data_type</th><th>comment</th></tr></thead><tbody><tr><td>review_id</td><td>string</td><td>null</td></tr><tr><td>order_id</td><td>string</td><td>null</td></tr><tr><td>review_score</td><td>int</td><td>null</td></tr><tr><td>review_comment_title</td><td>string</td><td>null</td></tr><tr><td>review_comment_message</td><td>string</td><td>null</td></tr><tr><td>review_creation_date</td><td>string</td><td>null</td></tr><tr><td>review_answer_timestamp</td><td>string</td><td>null</td></tr></tbody></table></div>"
            ]
          },
          "metadata": {
            "application/vnd.databricks.v1+output": {
              "addedWidgets": {},
              "aggData": [],
              "aggError": "",
              "aggOverflow": false,
              "aggSchema": [],
              "aggSeriesLimitReached": false,
              "aggType": "",
              "arguments": {},
              "columnCustomDisplayInfos": {},
              "data": [
                [
                  "review_id",
                  "string",
                  null
                ],
                [
                  "order_id",
                  "string",
                  null
                ],
                [
                  "review_score",
                  "int",
                  null
                ],
                [
                  "review_comment_title",
                  "string",
                  null
                ],
                [
                  "review_comment_message",
                  "string",
                  null
                ],
                [
                  "review_creation_date",
                  "string",
                  null
                ],
                [
                  "review_answer_timestamp",
                  "string",
                  null
                ]
              ],
              "datasetInfos": [],
              "dbfsResultPath": null,
              "isJsonSchema": true,
              "metadata": {},
              "overflow": false,
              "plotOptions": {
                "customPlotOptions": {},
                "displayType": "table",
                "pivotAggregation": null,
                "pivotColumns": null,
                "xColumns": null,
                "yColumns": null
              },
              "removedWidgets": [],
              "schema": [
                {
                  "metadata": "{\"comment\":\"name of the column\"}",
                  "name": "col_name",
                  "type": "\"string\""
                },
                {
                  "metadata": "{\"comment\":\"data type of the column\"}",
                  "name": "data_type",
                  "type": "\"string\""
                },
                {
                  "metadata": "{\"comment\":\"comment of the column\"}",
                  "name": "comment",
                  "type": "\"string\""
                }
              ],
              "type": "table"
            }
          }
        }
      ],
      "source": [
        "%sql\n",
        "DESCRIBE Silver.dimreviews_final"
      ]
    },
    {
      "cell_type": "code",
      "execution_count": null,
      "metadata": {
        "application/vnd.databricks.v1+cell": {
          "cellMetadata": {
            "byteLimit": 2048000,
            "implicitDf": true,
            "rowLimit": 10000
          },
          "inputWidgets": {},
          "nuid": "06a3feea-db23-4ba7-9f71-a6720395834e",
          "showTitle": false,
          "tableResultSettingsMap": {},
          "title": ""
        },
        "id": "KwuPfyTUwpp0",
        "outputId": "683f5e39-f1c6-4b77-f337-e8ec9ea81a89"
      },
      "outputs": [
        {
          "output_type": "display_data",
          "data": {
            "text/html": [
              "<style scoped>\n",
              "  .table-result-container {\n",
              "    max-height: 300px;\n",
              "    overflow: auto;\n",
              "  }\n",
              "  table, th, td {\n",
              "    border: 1px solid black;\n",
              "    border-collapse: collapse;\n",
              "  }\n",
              "  th, td {\n",
              "    padding: 5px;\n",
              "  }\n",
              "  th {\n",
              "    text-align: left;\n",
              "  }\n",
              "</style><div class='table-result-container'><table class='table-result'><thead style='background-color: white'><tr><th>col_name</th><th>data_type</th><th>comment</th></tr></thead><tbody><tr><td>product_id</td><td>string</td><td>null</td></tr><tr><td>product_category_name</td><td>string</td><td>null</td></tr><tr><td>product_name_lenght</td><td>int</td><td>null</td></tr><tr><td>product_description_lenght</td><td>int</td><td>null</td></tr><tr><td>product_photos_qty</td><td>int</td><td>null</td></tr><tr><td>product_weight_g</td><td>int</td><td>null</td></tr><tr><td>product_length_cm</td><td>int</td><td>null</td></tr><tr><td>product_height_cm</td><td>int</td><td>null</td></tr><tr><td>product_width_cm</td><td>int</td><td>null</td></tr></tbody></table></div>"
            ]
          },
          "metadata": {
            "application/vnd.databricks.v1+output": {
              "addedWidgets": {},
              "aggData": [],
              "aggError": "",
              "aggOverflow": false,
              "aggSchema": [],
              "aggSeriesLimitReached": false,
              "aggType": "",
              "arguments": {},
              "columnCustomDisplayInfos": {},
              "data": [
                [
                  "product_id",
                  "string",
                  null
                ],
                [
                  "product_category_name",
                  "string",
                  null
                ],
                [
                  "product_name_lenght",
                  "int",
                  null
                ],
                [
                  "product_description_lenght",
                  "int",
                  null
                ],
                [
                  "product_photos_qty",
                  "int",
                  null
                ],
                [
                  "product_weight_g",
                  "int",
                  null
                ],
                [
                  "product_length_cm",
                  "int",
                  null
                ],
                [
                  "product_height_cm",
                  "int",
                  null
                ],
                [
                  "product_width_cm",
                  "int",
                  null
                ]
              ],
              "datasetInfos": [],
              "dbfsResultPath": null,
              "isJsonSchema": true,
              "metadata": {},
              "overflow": false,
              "plotOptions": {
                "customPlotOptions": {},
                "displayType": "table",
                "pivotAggregation": null,
                "pivotColumns": null,
                "xColumns": null,
                "yColumns": null
              },
              "removedWidgets": [],
              "schema": [
                {
                  "metadata": "{\"comment\":\"name of the column\"}",
                  "name": "col_name",
                  "type": "\"string\""
                },
                {
                  "metadata": "{\"comment\":\"data type of the column\"}",
                  "name": "data_type",
                  "type": "\"string\""
                },
                {
                  "metadata": "{\"comment\":\"comment of the column\"}",
                  "name": "comment",
                  "type": "\"string\""
                }
              ],
              "type": "table"
            }
          }
        }
      ],
      "source": [
        "%sql\n",
        "DESCRIBE Silver.dimprodutos"
      ]
    },
    {
      "cell_type": "code",
      "execution_count": null,
      "metadata": {
        "application/vnd.databricks.v1+cell": {
          "cellMetadata": {
            "byteLimit": 2048000,
            "implicitDf": true,
            "rowLimit": 10000
          },
          "inputWidgets": {},
          "nuid": "04c43781-7d7d-48e1-8a9d-047e0f2ccb11",
          "showTitle": false,
          "tableResultSettingsMap": {},
          "title": ""
        },
        "id": "aib4n922wpp0",
        "outputId": "90eabd45-a810-4699-e00a-c2c7939b548a"
      },
      "outputs": [
        {
          "output_type": "display_data",
          "data": {
            "text/html": [
              "<style scoped>\n",
              "  .table-result-container {\n",
              "    max-height: 300px;\n",
              "    overflow: auto;\n",
              "  }\n",
              "  table, th, td {\n",
              "    border: 1px solid black;\n",
              "    border-collapse: collapse;\n",
              "  }\n",
              "  th, td {\n",
              "    padding: 5px;\n",
              "  }\n",
              "  th {\n",
              "    text-align: left;\n",
              "  }\n",
              "</style><div class='table-result-container'><table class='table-result'><thead style='background-color: white'><tr><th>col_name</th><th>data_type</th><th>comment</th></tr></thead><tbody><tr><td>seller_id</td><td>string</td><td>null</td></tr><tr><td>seller_zip_code_prefix</td><td>int</td><td>null</td></tr><tr><td>seller_city</td><td>string</td><td>null</td></tr><tr><td>seller_state</td><td>string</td><td>null</td></tr></tbody></table></div>"
            ]
          },
          "metadata": {
            "application/vnd.databricks.v1+output": {
              "addedWidgets": {},
              "aggData": [],
              "aggError": "",
              "aggOverflow": false,
              "aggSchema": [],
              "aggSeriesLimitReached": false,
              "aggType": "",
              "arguments": {},
              "columnCustomDisplayInfos": {},
              "data": [
                [
                  "seller_id",
                  "string",
                  null
                ],
                [
                  "seller_zip_code_prefix",
                  "int",
                  null
                ],
                [
                  "seller_city",
                  "string",
                  null
                ],
                [
                  "seller_state",
                  "string",
                  null
                ]
              ],
              "datasetInfos": [],
              "dbfsResultPath": null,
              "isJsonSchema": true,
              "metadata": {},
              "overflow": false,
              "plotOptions": {
                "customPlotOptions": {},
                "displayType": "table",
                "pivotAggregation": null,
                "pivotColumns": null,
                "xColumns": null,
                "yColumns": null
              },
              "removedWidgets": [],
              "schema": [
                {
                  "metadata": "{\"comment\":\"name of the column\"}",
                  "name": "col_name",
                  "type": "\"string\""
                },
                {
                  "metadata": "{\"comment\":\"data type of the column\"}",
                  "name": "data_type",
                  "type": "\"string\""
                },
                {
                  "metadata": "{\"comment\":\"comment of the column\"}",
                  "name": "comment",
                  "type": "\"string\""
                }
              ],
              "type": "table"
            }
          }
        }
      ],
      "source": [
        "%sql\n",
        "DESCRIBE Silver.dimvendedores;"
      ]
    },
    {
      "cell_type": "code",
      "execution_count": null,
      "metadata": {
        "application/vnd.databricks.v1+cell": {
          "cellMetadata": {
            "byteLimit": 2048000,
            "rowLimit": 10000
          },
          "inputWidgets": {},
          "nuid": "6f0e6ef1-4172-424d-bb98-c251d7b7e7f2",
          "showTitle": false,
          "tableResultSettingsMap": {},
          "title": ""
        },
        "id": "2FcUVoQ9wpp0"
      },
      "outputs": [],
      "source": [
        "from pyspark.sql.functions import date_format"
      ]
    },
    {
      "cell_type": "markdown",
      "metadata": {
        "application/vnd.databricks.v1+cell": {
          "cellMetadata": {},
          "inputWidgets": {},
          "nuid": "a65a93c4-07ac-4201-8da1-6aa9ebb6de7e",
          "showTitle": false,
          "tableResultSettingsMap": {},
          "title": ""
        },
        "id": "lB9vnej5wpp0"
      },
      "source": [
        "Formatando colunas de data para formato específico."
      ]
    },
    {
      "cell_type": "code",
      "execution_count": null,
      "metadata": {
        "application/vnd.databricks.v1+cell": {
          "cellMetadata": {
            "byteLimit": 2048000,
            "implicitDf": true,
            "rowLimit": 10000
          },
          "inputWidgets": {},
          "nuid": "505fdc1b-3a31-4225-9d3b-88c93e0b769a",
          "showTitle": false,
          "tableResultSettingsMap": {},
          "title": ""
        },
        "id": "jp0SfHPuwpp1",
        "outputId": "a005c46e-69bd-44c2-ef9a-fc55e5a606e7"
      },
      "outputs": [
        {
          "output_type": "display_data",
          "data": {
            "text/html": [
              "<style scoped>\n",
              "  .table-result-container {\n",
              "    max-height: 300px;\n",
              "    overflow: auto;\n",
              "  }\n",
              "  table, th, td {\n",
              "    border: 1px solid black;\n",
              "    border-collapse: collapse;\n",
              "  }\n",
              "  th, td {\n",
              "    padding: 5px;\n",
              "  }\n",
              "  th {\n",
              "    text-align: left;\n",
              "  }\n",
              "</style><div class='table-result-container'><table class='table-result'><thead style='background-color: white'><tr><th>num_affected_rows</th><th>num_inserted_rows</th></tr></thead><tbody></tbody></table></div>"
            ]
          },
          "metadata": {
            "application/vnd.databricks.v1+output": {
              "addedWidgets": {},
              "aggData": [],
              "aggError": "",
              "aggOverflow": false,
              "aggSchema": [],
              "aggSeriesLimitReached": false,
              "aggType": "",
              "arguments": {},
              "columnCustomDisplayInfos": {},
              "data": [],
              "datasetInfos": [],
              "dbfsResultPath": null,
              "isJsonSchema": true,
              "metadata": {},
              "overflow": false,
              "plotOptions": {
                "customPlotOptions": {},
                "displayType": "table",
                "pivotAggregation": null,
                "pivotColumns": null,
                "xColumns": null,
                "yColumns": null
              },
              "removedWidgets": [],
              "schema": [
                {
                  "metadata": "{}",
                  "name": "num_affected_rows",
                  "type": "\"long\""
                },
                {
                  "metadata": "{}",
                  "name": "num_inserted_rows",
                  "type": "\"long\""
                }
              ],
              "type": "table"
            }
          }
        }
      ],
      "source": [
        "%sql\n",
        "CREATE OR REPLACE TABLE Silver.fatopedidos_new -- criando mais uma cópia da tabela fato\n",
        "USING DELTA\n",
        "AS\n",
        "SELECT\n",
        "  order_id,\n",
        "  customer_id,\n",
        "  order_status,\n",
        "  date_format(order_purchase_timestamp, 'yyyy-MM-dd HH:mm:ss') AS order_purchase_timestamp_formatted,\n",
        "  date_format(order_approved_at, 'yyyy-MM-dd HH:mm:ss') AS order_approved_at_formatted,\n",
        "  date_format(order_delivered_carrier_date, 'yyyy-MM-dd HH:mm:ss') AS oorder_delivered_carrier_date_formatted,\n",
        "  date_format(order_delivered_customer_date, 'yyyy-MM-dd HH:mm:ss') AS order_delivered_customer_date_formatted,\n",
        "  date_format(order_estimated_delivery_date, 'yyyy-MM-dd HH:mm:ss') AS order_estimated_delivery_date_formatted,\n",
        "  total_order_item_value,\n",
        "  total_freight_value,\n",
        "  total_order_value,\n",
        "  total_items\n",
        "FROM Silver.fatopedidos_teste;"
      ]
    },
    {
      "cell_type": "code",
      "execution_count": null,
      "metadata": {
        "application/vnd.databricks.v1+cell": {
          "cellMetadata": {
            "byteLimit": 2048000,
            "implicitDf": true,
            "rowLimit": 10000
          },
          "inputWidgets": {},
          "nuid": "2fa8aac8-e71f-4ab9-859d-dc5da15ce90a",
          "showTitle": false,
          "tableResultSettingsMap": {},
          "title": ""
        },
        "id": "1xTywTkiwpp1",
        "outputId": "5cb5da54-27c7-4b3e-84ae-2a3187abce26"
      },
      "outputs": [
        {
          "output_type": "display_data",
          "data": {
            "text/html": [
              "<style scoped>\n",
              "  .table-result-container {\n",
              "    max-height: 300px;\n",
              "    overflow: auto;\n",
              "  }\n",
              "  table, th, td {\n",
              "    border: 1px solid black;\n",
              "    border-collapse: collapse;\n",
              "  }\n",
              "  th, td {\n",
              "    padding: 5px;\n",
              "  }\n",
              "  th {\n",
              "    text-align: left;\n",
              "  }\n",
              "</style><div class='table-result-container'><table class='table-result'><thead style='background-color: white'><tr><th>order_id</th><th>customer_id</th><th>order_status</th><th>order_purchase_timestamp_formatted</th><th>order_approved_at_formatted</th><th>oorder_delivered_carrier_date_formatted</th><th>order_delivered_customer_date_formatted</th><th>order_estimated_delivery_date_formatted</th><th>total_order_item_value</th><th>total_freight_value</th><th>total_order_value</th><th>total_items</th></tr></thead><tbody><tr><td>8e24261a7e58791d10cb1bf9da94df5c</td><td>64a254d30eed42cd0e6c36dddb88adf0</td><td>unavailable</td><td>2017-11-16 15:09:28</td><td>2017-11-16 15:26:57</td><td>null</td><td>null</td><td>2017-12-05 00:00:00</td><td>null</td><td>null</td><td>null</td><td>null</td></tr><tr><td>c272bcd21c287498b4883c7512019702</td><td>9582c5bbecc65eb568e2c1d839b5cba1</td><td>unavailable</td><td>2018-01-31 11:31:37</td><td>2018-01-31 14:23:50</td><td>null</td><td>null</td><td>2018-02-16 00:00:00</td><td>null</td><td>null</td><td>null</td><td>null</td></tr><tr><td>37553832a3a89c9b2db59701c357ca67</td><td>7607cd563696c27ede287e515812d528</td><td>unavailable</td><td>2017-08-14 17:38:02</td><td>2017-08-17 00:15:18</td><td>null</td><td>null</td><td>2017-09-05 00:00:00</td><td>null</td><td>null</td><td>null</td><td>null</td></tr><tr><td>d57e15fb07fd180f06ab3926b39edcd2</td><td>470b93b3f1cde85550fc74cd3a476c78</td><td>unavailable</td><td>2018-01-08 19:39:03</td><td>2018-01-09 07:26:08</td><td>null</td><td>null</td><td>2018-02-06 00:00:00</td><td>null</td><td>null</td><td>null</td><td>null</td></tr><tr><td>00b1cb0320190ca0daa2c88b35206009</td><td>3532ba38a3fd242259a514ac2b6ae6b6</td><td>canceled</td><td>2018-08-28 15:26:39</td><td>null</td><td>null</td><td>null</td><td>2018-09-12 00:00:00</td><td>null</td><td>null</td><td>null</td><td>null</td></tr></tbody></table></div>"
            ]
          },
          "metadata": {
            "application/vnd.databricks.v1+output": {
              "addedWidgets": {},
              "aggData": [],
              "aggError": "",
              "aggOverflow": false,
              "aggSchema": [],
              "aggSeriesLimitReached": false,
              "aggType": "",
              "arguments": {},
              "columnCustomDisplayInfos": {},
              "data": [
                [
                  "8e24261a7e58791d10cb1bf9da94df5c",
                  "64a254d30eed42cd0e6c36dddb88adf0",
                  "unavailable",
                  "2017-11-16 15:09:28",
                  "2017-11-16 15:26:57",
                  null,
                  null,
                  "2017-12-05 00:00:00",
                  null,
                  null,
                  null,
                  null
                ],
                [
                  "c272bcd21c287498b4883c7512019702",
                  "9582c5bbecc65eb568e2c1d839b5cba1",
                  "unavailable",
                  "2018-01-31 11:31:37",
                  "2018-01-31 14:23:50",
                  null,
                  null,
                  "2018-02-16 00:00:00",
                  null,
                  null,
                  null,
                  null
                ],
                [
                  "37553832a3a89c9b2db59701c357ca67",
                  "7607cd563696c27ede287e515812d528",
                  "unavailable",
                  "2017-08-14 17:38:02",
                  "2017-08-17 00:15:18",
                  null,
                  null,
                  "2017-09-05 00:00:00",
                  null,
                  null,
                  null,
                  null
                ],
                [
                  "d57e15fb07fd180f06ab3926b39edcd2",
                  "470b93b3f1cde85550fc74cd3a476c78",
                  "unavailable",
                  "2018-01-08 19:39:03",
                  "2018-01-09 07:26:08",
                  null,
                  null,
                  "2018-02-06 00:00:00",
                  null,
                  null,
                  null,
                  null
                ],
                [
                  "00b1cb0320190ca0daa2c88b35206009",
                  "3532ba38a3fd242259a514ac2b6ae6b6",
                  "canceled",
                  "2018-08-28 15:26:39",
                  null,
                  null,
                  null,
                  "2018-09-12 00:00:00",
                  null,
                  null,
                  null,
                  null
                ]
              ],
              "datasetInfos": [],
              "dbfsResultPath": null,
              "isJsonSchema": true,
              "metadata": {},
              "overflow": false,
              "plotOptions": {
                "customPlotOptions": {},
                "displayType": "table",
                "pivotAggregation": null,
                "pivotColumns": null,
                "xColumns": null,
                "yColumns": null
              },
              "removedWidgets": [],
              "schema": [
                {
                  "metadata": "{}",
                  "name": "order_id",
                  "type": "\"string\""
                },
                {
                  "metadata": "{}",
                  "name": "customer_id",
                  "type": "\"string\""
                },
                {
                  "metadata": "{}",
                  "name": "order_status",
                  "type": "\"string\""
                },
                {
                  "metadata": "{}",
                  "name": "order_purchase_timestamp_formatted",
                  "type": "\"string\""
                },
                {
                  "metadata": "{}",
                  "name": "order_approved_at_formatted",
                  "type": "\"string\""
                },
                {
                  "metadata": "{}",
                  "name": "oorder_delivered_carrier_date_formatted",
                  "type": "\"string\""
                },
                {
                  "metadata": "{}",
                  "name": "order_delivered_customer_date_formatted",
                  "type": "\"string\""
                },
                {
                  "metadata": "{}",
                  "name": "order_estimated_delivery_date_formatted",
                  "type": "\"string\""
                },
                {
                  "metadata": "{}",
                  "name": "total_order_item_value",
                  "type": "\"decimal(10,2)\""
                },
                {
                  "metadata": "{}",
                  "name": "total_freight_value",
                  "type": "\"decimal(10,2)\""
                },
                {
                  "metadata": "{}",
                  "name": "total_order_value",
                  "type": "\"decimal(10,2)\""
                },
                {
                  "metadata": "{}",
                  "name": "total_items",
                  "type": "\"integer\""
                }
              ],
              "type": "table"
            }
          }
        }
      ],
      "source": [
        "%sql SELECT * FROM Silver.fatopedidos_new LIMIT 5"
      ]
    },
    {
      "cell_type": "markdown",
      "metadata": {
        "application/vnd.databricks.v1+cell": {
          "cellMetadata": {},
          "inputWidgets": {},
          "nuid": "d5f09360-582f-401b-be8e-ecc4fb029dd8",
          "showTitle": false,
          "tableResultSettingsMap": {},
          "title": ""
        },
        "id": "DE0sdA1Swpp1"
      },
      "source": [
        "Verificando que as colunas de data não possuem mais as informações sobre o fuso horário, mas constam como strings."
      ]
    },
    {
      "cell_type": "code",
      "execution_count": null,
      "metadata": {
        "application/vnd.databricks.v1+cell": {
          "cellMetadata": {
            "byteLimit": 2048000,
            "implicitDf": true,
            "rowLimit": 10000
          },
          "inputWidgets": {},
          "nuid": "e33cd3fe-62d0-4327-b0f0-5c48e04797ac",
          "showTitle": false,
          "tableResultSettingsMap": {},
          "title": ""
        },
        "id": "jSRon6vTwpp1",
        "outputId": "a3cce383-9336-4fd5-ecc2-58d7d2d96267"
      },
      "outputs": [
        {
          "output_type": "display_data",
          "data": {
            "text/html": [
              "<style scoped>\n",
              "  .table-result-container {\n",
              "    max-height: 300px;\n",
              "    overflow: auto;\n",
              "  }\n",
              "  table, th, td {\n",
              "    border: 1px solid black;\n",
              "    border-collapse: collapse;\n",
              "  }\n",
              "  th, td {\n",
              "    padding: 5px;\n",
              "  }\n",
              "  th {\n",
              "    text-align: left;\n",
              "  }\n",
              "</style><div class='table-result-container'><table class='table-result'><thead style='background-color: white'><tr><th>col_name</th><th>data_type</th><th>comment</th></tr></thead><tbody><tr><td>order_id</td><td>string</td><td>null</td></tr><tr><td>customer_id</td><td>string</td><td>null</td></tr><tr><td>order_status</td><td>string</td><td>null</td></tr><tr><td>order_purchase_timestamp_formatted</td><td>string</td><td>null</td></tr><tr><td>order_approved_at_formatted</td><td>string</td><td>null</td></tr><tr><td>oorder_delivered_carrier_date_formatted</td><td>string</td><td>null</td></tr><tr><td>order_delivered_customer_date_formatted</td><td>string</td><td>null</td></tr><tr><td>order_estimated_delivery_date_formatted</td><td>string</td><td>null</td></tr><tr><td>total_order_item_value</td><td>decimal(10,2)</td><td>null</td></tr><tr><td>total_freight_value</td><td>decimal(10,2)</td><td>null</td></tr><tr><td>total_order_value</td><td>decimal(10,2)</td><td>null</td></tr><tr><td>total_items</td><td>int</td><td>null</td></tr></tbody></table></div>"
            ]
          },
          "metadata": {
            "application/vnd.databricks.v1+output": {
              "addedWidgets": {},
              "aggData": [],
              "aggError": "",
              "aggOverflow": false,
              "aggSchema": [],
              "aggSeriesLimitReached": false,
              "aggType": "",
              "arguments": {},
              "columnCustomDisplayInfos": {},
              "data": [
                [
                  "order_id",
                  "string",
                  null
                ],
                [
                  "customer_id",
                  "string",
                  null
                ],
                [
                  "order_status",
                  "string",
                  null
                ],
                [
                  "order_purchase_timestamp_formatted",
                  "string",
                  null
                ],
                [
                  "order_approved_at_formatted",
                  "string",
                  null
                ],
                [
                  "oorder_delivered_carrier_date_formatted",
                  "string",
                  null
                ],
                [
                  "order_delivered_customer_date_formatted",
                  "string",
                  null
                ],
                [
                  "order_estimated_delivery_date_formatted",
                  "string",
                  null
                ],
                [
                  "total_order_item_value",
                  "decimal(10,2)",
                  null
                ],
                [
                  "total_freight_value",
                  "decimal(10,2)",
                  null
                ],
                [
                  "total_order_value",
                  "decimal(10,2)",
                  null
                ],
                [
                  "total_items",
                  "int",
                  null
                ]
              ],
              "datasetInfos": [],
              "dbfsResultPath": null,
              "isJsonSchema": true,
              "metadata": {},
              "overflow": false,
              "plotOptions": {
                "customPlotOptions": {},
                "displayType": "table",
                "pivotAggregation": null,
                "pivotColumns": null,
                "xColumns": null,
                "yColumns": null
              },
              "removedWidgets": [],
              "schema": [
                {
                  "metadata": "{\"comment\":\"name of the column\"}",
                  "name": "col_name",
                  "type": "\"string\""
                },
                {
                  "metadata": "{\"comment\":\"data type of the column\"}",
                  "name": "data_type",
                  "type": "\"string\""
                },
                {
                  "metadata": "{\"comment\":\"comment of the column\"}",
                  "name": "comment",
                  "type": "\"string\""
                }
              ],
              "type": "table"
            }
          }
        }
      ],
      "source": [
        "%sql\n",
        "DESCRIBE Silver.fatopedidos_new"
      ]
    },
    {
      "cell_type": "markdown",
      "metadata": {
        "application/vnd.databricks.v1+cell": {
          "cellMetadata": {},
          "inputWidgets": {},
          "nuid": "dd3c1f15-3a5b-4486-9078-d0f32d5760a2",
          "showTitle": false,
          "tableResultSettingsMap": {},
          "title": ""
        },
        "id": "ZwNkI9_pwpp1"
      },
      "source": [
        "Adicionando novas colunas com tipo Date"
      ]
    },
    {
      "cell_type": "code",
      "execution_count": null,
      "metadata": {
        "application/vnd.databricks.v1+cell": {
          "cellMetadata": {
            "byteLimit": 2048000,
            "implicitDf": true,
            "rowLimit": 10000
          },
          "inputWidgets": {},
          "nuid": "e612590a-8759-4d34-bd1b-3470bd552697",
          "showTitle": false,
          "tableResultSettingsMap": {},
          "title": ""
        },
        "id": "5iS2wnFawpp1",
        "outputId": "5f86da14-608e-44a0-ee3d-cdd597851ad7"
      },
      "outputs": [
        {
          "output_type": "display_data",
          "data": {
            "text/html": [
              "<style scoped>\n",
              "  .table-result-container {\n",
              "    max-height: 300px;\n",
              "    overflow: auto;\n",
              "  }\n",
              "  table, th, td {\n",
              "    border: 1px solid black;\n",
              "    border-collapse: collapse;\n",
              "  }\n",
              "  th, td {\n",
              "    padding: 5px;\n",
              "  }\n",
              "  th {\n",
              "    text-align: left;\n",
              "  }\n",
              "</style><div class='table-result-container'><table class='table-result'><thead style='background-color: white'><tr></tr></thead><tbody></tbody></table></div>"
            ]
          },
          "metadata": {
            "application/vnd.databricks.v1+output": {
              "addedWidgets": {},
              "aggData": [],
              "aggError": "",
              "aggOverflow": false,
              "aggSchema": [],
              "aggSeriesLimitReached": false,
              "aggType": "",
              "arguments": {},
              "columnCustomDisplayInfos": {},
              "data": [],
              "datasetInfos": [],
              "dbfsResultPath": null,
              "isJsonSchema": true,
              "metadata": {},
              "overflow": false,
              "plotOptions": {
                "customPlotOptions": {},
                "displayType": "table",
                "pivotAggregation": null,
                "pivotColumns": null,
                "xColumns": null,
                "yColumns": null
              },
              "removedWidgets": [],
              "schema": [],
              "type": "table"
            }
          }
        }
      ],
      "source": [
        "%sql\n",
        "ALTER TABLE Silver.fatopedidos_new\n",
        "ADD COLUMNS (\n",
        "    order_purchase_timestamp_new DATE,\n",
        "    order_approved_at_new DATE,\n",
        "    order_delivered_carrier_date_new DATE,\n",
        "    order_delivered_customer_date_new DATE,\n",
        "    order_estimated_delivery_date_new DATE\n",
        ");"
      ]
    },
    {
      "cell_type": "markdown",
      "metadata": {
        "application/vnd.databricks.v1+cell": {
          "cellMetadata": {},
          "inputWidgets": {},
          "nuid": "18d40a98-674b-4617-8ff3-5a0dc6711f12",
          "showTitle": false,
          "tableResultSettingsMap": {},
          "title": ""
        },
        "id": "aB4k983lwpp1"
      },
      "source": [
        "Alterando colunas para o tipo Date."
      ]
    },
    {
      "cell_type": "code",
      "execution_count": null,
      "metadata": {
        "application/vnd.databricks.v1+cell": {
          "cellMetadata": {
            "byteLimit": 2048000,
            "implicitDf": true,
            "rowLimit": 10000
          },
          "inputWidgets": {},
          "nuid": "0b9bde11-dce6-4896-8392-05a9e1a5508f",
          "showTitle": false,
          "tableResultSettingsMap": {},
          "title": ""
        },
        "id": "rprfr71Mwpp2",
        "outputId": "ac37c1a4-e3c4-431c-dc07-03651eb36591"
      },
      "outputs": [
        {
          "output_type": "display_data",
          "data": {
            "text/html": [
              "<style scoped>\n",
              "  .table-result-container {\n",
              "    max-height: 300px;\n",
              "    overflow: auto;\n",
              "  }\n",
              "  table, th, td {\n",
              "    border: 1px solid black;\n",
              "    border-collapse: collapse;\n",
              "  }\n",
              "  th, td {\n",
              "    padding: 5px;\n",
              "  }\n",
              "  th {\n",
              "    text-align: left;\n",
              "  }\n",
              "</style><div class='table-result-container'><table class='table-result'><thead style='background-color: white'><tr><th>num_affected_rows</th><th>num_updated_rows</th><th>num_deleted_rows</th><th>num_inserted_rows</th></tr></thead><tbody><tr><td>99441</td><td>99441</td><td>0</td><td>0</td></tr></tbody></table></div>"
            ]
          },
          "metadata": {
            "application/vnd.databricks.v1+output": {
              "addedWidgets": {},
              "aggData": [],
              "aggError": "",
              "aggOverflow": false,
              "aggSchema": [],
              "aggSeriesLimitReached": false,
              "aggType": "",
              "arguments": {},
              "columnCustomDisplayInfos": {},
              "data": [
                [
                  99441,
                  99441,
                  0,
                  0
                ]
              ],
              "datasetInfos": [],
              "dbfsResultPath": null,
              "isJsonSchema": true,
              "metadata": {},
              "overflow": false,
              "plotOptions": {
                "customPlotOptions": {},
                "displayType": "table",
                "pivotAggregation": null,
                "pivotColumns": null,
                "xColumns": null,
                "yColumns": null
              },
              "removedWidgets": [],
              "schema": [
                {
                  "metadata": "{}",
                  "name": "num_affected_rows",
                  "type": "\"long\""
                },
                {
                  "metadata": "{}",
                  "name": "num_updated_rows",
                  "type": "\"long\""
                },
                {
                  "metadata": "{}",
                  "name": "num_deleted_rows",
                  "type": "\"long\""
                },
                {
                  "metadata": "{}",
                  "name": "num_inserted_rows",
                  "type": "\"long\""
                }
              ],
              "type": "table"
            }
          }
        }
      ],
      "source": [
        "%sql\n",
        "MERGE INTO Silver.fatopedidos_new AS target\n",
        "USING (\n",
        "    SELECT\n",
        "        order_id,\n",
        "        CAST(order_purchase_timestamp_formatted AS DATE) AS order_purchase_timestamp_new,\n",
        "        CAST(order_approved_at_formatted AS DATE) AS order_approved_at_new,\n",
        "        CAST(oorder_delivered_carrier_date_formatted AS DATE) AS order_delivered_carrier_date_new,\n",
        "        CAST(order_delivered_customer_date_formatted AS DATE) AS order_delivered_customer_date_new,\n",
        "        CAST(order_estimated_delivery_date_formatted AS DATE) AS order_estimated_delivery_date_new\n",
        "    FROM Silver.fatopedidos_new\n",
        ") AS source\n",
        "ON target.order_id = source.order_id\n",
        "WHEN MATCHED THEN\n",
        "    UPDATE SET\n",
        "        target.order_purchase_timestamp_new = source.order_purchase_timestamp_new,\n",
        "        target.order_approved_at_new = source.order_approved_at_new,\n",
        "        target.order_delivered_carrier_date_new = source.order_delivered_carrier_date_new,\n",
        "        target.order_delivered_customer_date_new = source.order_delivered_customer_date_new,\n",
        "        target.order_estimated_delivery_date_new = source.order_estimated_delivery_date_new;"
      ]
    },
    {
      "cell_type": "markdown",
      "metadata": {
        "application/vnd.databricks.v1+cell": {
          "cellMetadata": {},
          "inputWidgets": {},
          "nuid": "ce073a3f-bbe6-4895-90e7-43f91c21a244",
          "showTitle": false,
          "tableResultSettingsMap": {},
          "title": ""
        },
        "id": "fZ5pKTK3wpp2"
      },
      "source": [
        "Criando a tabela fato final"
      ]
    },
    {
      "cell_type": "code",
      "execution_count": null,
      "metadata": {
        "application/vnd.databricks.v1+cell": {
          "cellMetadata": {
            "byteLimit": 2048000,
            "implicitDf": true,
            "rowLimit": 10000
          },
          "inputWidgets": {},
          "nuid": "fc0d0092-20f4-4740-9a93-bebad41272b1",
          "showTitle": false,
          "tableResultSettingsMap": {},
          "title": ""
        },
        "id": "1oVce5ruwpp2",
        "outputId": "13eac607-6a25-4788-8593-c502c4429816"
      },
      "outputs": [
        {
          "output_type": "display_data",
          "data": {
            "text/html": [
              "<style scoped>\n",
              "  .table-result-container {\n",
              "    max-height: 300px;\n",
              "    overflow: auto;\n",
              "  }\n",
              "  table, th, td {\n",
              "    border: 1px solid black;\n",
              "    border-collapse: collapse;\n",
              "  }\n",
              "  th, td {\n",
              "    padding: 5px;\n",
              "  }\n",
              "  th {\n",
              "    text-align: left;\n",
              "  }\n",
              "</style><div class='table-result-container'><table class='table-result'><thead style='background-color: white'><tr><th>num_affected_rows</th><th>num_inserted_rows</th></tr></thead><tbody></tbody></table></div>"
            ]
          },
          "metadata": {
            "application/vnd.databricks.v1+output": {
              "addedWidgets": {},
              "aggData": [],
              "aggError": "",
              "aggOverflow": false,
              "aggSchema": [],
              "aggSeriesLimitReached": false,
              "aggType": "",
              "arguments": {},
              "columnCustomDisplayInfos": {},
              "data": [],
              "datasetInfos": [],
              "dbfsResultPath": null,
              "isJsonSchema": true,
              "metadata": {},
              "overflow": false,
              "plotOptions": {
                "customPlotOptions": {},
                "displayType": "table",
                "pivotAggregation": null,
                "pivotColumns": null,
                "xColumns": null,
                "yColumns": null
              },
              "removedWidgets": [],
              "schema": [
                {
                  "metadata": "{}",
                  "name": "num_affected_rows",
                  "type": "\"long\""
                },
                {
                  "metadata": "{}",
                  "name": "num_inserted_rows",
                  "type": "\"long\""
                }
              ],
              "type": "table"
            }
          }
        }
      ],
      "source": [
        "%sql\n",
        "CREATE OR REPLACE TABLE Silver.fatopedidos_final\n",
        "AS\n",
        "SELECT\n",
        "    order_id,\n",
        "    customer_id,\n",
        "    order_status,\n",
        "    total_items,\n",
        "    total_order_item_value,\n",
        "    total_freight_value,\n",
        "    total_order_value,\n",
        "    CAST(order_purchase_timestamp_formatted AS DATE) AS order_purchase_timestamp_new,\n",
        "    CAST(order_approved_at_formatted AS DATE) AS order_approved_at_new,\n",
        "    CAST(oorder_delivered_carrier_date_formatted AS DATE) AS order_delivered_carrier_date_new,\n",
        "    CAST(order_delivered_customer_date_formatted AS DATE) AS order_delivered_customer_date_new,\n",
        "    CAST(order_estimated_delivery_date_formatted AS DATE) AS order_estimated_delivery_date_new\n",
        "FROM Silver.fatopedidos_new;"
      ]
    },
    {
      "cell_type": "code",
      "execution_count": null,
      "metadata": {
        "application/vnd.databricks.v1+cell": {
          "cellMetadata": {
            "byteLimit": 2048000,
            "implicitDf": true,
            "rowLimit": 10000
          },
          "inputWidgets": {},
          "nuid": "4f19fda2-e69b-4246-8f5f-93c96d2c99b8",
          "showTitle": false,
          "tableResultSettingsMap": {},
          "title": ""
        },
        "id": "uxppyi7iwpp2",
        "outputId": "9e605238-bbaa-4556-f7ff-7db06d7aa7c5"
      },
      "outputs": [
        {
          "output_type": "display_data",
          "data": {
            "text/html": [
              "<style scoped>\n",
              "  .table-result-container {\n",
              "    max-height: 300px;\n",
              "    overflow: auto;\n",
              "  }\n",
              "  table, th, td {\n",
              "    border: 1px solid black;\n",
              "    border-collapse: collapse;\n",
              "  }\n",
              "  th, td {\n",
              "    padding: 5px;\n",
              "  }\n",
              "  th {\n",
              "    text-align: left;\n",
              "  }\n",
              "</style><div class='table-result-container'><table class='table-result'><thead style='background-color: white'><tr><th>col_name</th><th>data_type</th><th>comment</th></tr></thead><tbody><tr><td>order_id</td><td>string</td><td>null</td></tr><tr><td>customer_id</td><td>string</td><td>null</td></tr><tr><td>order_status</td><td>string</td><td>null</td></tr><tr><td>total_items</td><td>int</td><td>null</td></tr><tr><td>total_order_item_value</td><td>decimal(10,2)</td><td>null</td></tr><tr><td>total_freight_value</td><td>decimal(10,2)</td><td>null</td></tr><tr><td>total_order_value</td><td>decimal(10,2)</td><td>null</td></tr><tr><td>order_purchase_timestamp_new</td><td>date</td><td>null</td></tr><tr><td>order_approved_at_new</td><td>date</td><td>null</td></tr><tr><td>order_delivered_carrier_date_new</td><td>date</td><td>null</td></tr><tr><td>order_delivered_customer_date_new</td><td>date</td><td>null</td></tr><tr><td>order_estimated_delivery_date_new</td><td>date</td><td>null</td></tr></tbody></table></div>"
            ]
          },
          "metadata": {
            "application/vnd.databricks.v1+output": {
              "addedWidgets": {},
              "aggData": [],
              "aggError": "",
              "aggOverflow": false,
              "aggSchema": [],
              "aggSeriesLimitReached": false,
              "aggType": "",
              "arguments": {},
              "columnCustomDisplayInfos": {},
              "data": [
                [
                  "order_id",
                  "string",
                  null
                ],
                [
                  "customer_id",
                  "string",
                  null
                ],
                [
                  "order_status",
                  "string",
                  null
                ],
                [
                  "total_items",
                  "int",
                  null
                ],
                [
                  "total_order_item_value",
                  "decimal(10,2)",
                  null
                ],
                [
                  "total_freight_value",
                  "decimal(10,2)",
                  null
                ],
                [
                  "total_order_value",
                  "decimal(10,2)",
                  null
                ],
                [
                  "order_purchase_timestamp_new",
                  "date",
                  null
                ],
                [
                  "order_approved_at_new",
                  "date",
                  null
                ],
                [
                  "order_delivered_carrier_date_new",
                  "date",
                  null
                ],
                [
                  "order_delivered_customer_date_new",
                  "date",
                  null
                ],
                [
                  "order_estimated_delivery_date_new",
                  "date",
                  null
                ]
              ],
              "datasetInfos": [],
              "dbfsResultPath": null,
              "isJsonSchema": true,
              "metadata": {},
              "overflow": false,
              "plotOptions": {
                "customPlotOptions": {},
                "displayType": "table",
                "pivotAggregation": null,
                "pivotColumns": null,
                "xColumns": null,
                "yColumns": null
              },
              "removedWidgets": [],
              "schema": [
                {
                  "metadata": "{\"comment\":\"name of the column\"}",
                  "name": "col_name",
                  "type": "\"string\""
                },
                {
                  "metadata": "{\"comment\":\"data type of the column\"}",
                  "name": "data_type",
                  "type": "\"string\""
                },
                {
                  "metadata": "{\"comment\":\"comment of the column\"}",
                  "name": "comment",
                  "type": "\"string\""
                }
              ],
              "type": "table"
            }
          }
        }
      ],
      "source": [
        "%sql\n",
        "DESCRIBE Silver.fatopedidos_final"
      ]
    },
    {
      "cell_type": "code",
      "execution_count": null,
      "metadata": {
        "application/vnd.databricks.v1+cell": {
          "cellMetadata": {
            "byteLimit": 2048000,
            "implicitDf": true,
            "rowLimit": 10000
          },
          "inputWidgets": {},
          "nuid": "b7ed7a99-a716-4d36-b4f2-484485e1de24",
          "showTitle": false,
          "tableResultSettingsMap": {},
          "title": ""
        },
        "id": "3DC0YHP-wpp2",
        "outputId": "7efb035d-b5f0-440e-9905-feb702534681"
      },
      "outputs": [
        {
          "output_type": "display_data",
          "data": {
            "text/html": [
              "<style scoped>\n",
              "  .table-result-container {\n",
              "    max-height: 300px;\n",
              "    overflow: auto;\n",
              "  }\n",
              "  table, th, td {\n",
              "    border: 1px solid black;\n",
              "    border-collapse: collapse;\n",
              "  }\n",
              "  th, td {\n",
              "    padding: 5px;\n",
              "  }\n",
              "  th {\n",
              "    text-align: left;\n",
              "  }\n",
              "</style><div class='table-result-container'><table class='table-result'><thead style='background-color: white'><tr><th>order_id</th><th>customer_id</th><th>order_status</th><th>total_items</th><th>total_order_item_value</th><th>total_freight_value</th><th>total_order_value</th><th>order_purchase_timestamp_new</th><th>order_approved_at_new</th><th>order_delivered_carrier_date_new</th><th>order_delivered_customer_date_new</th><th>order_estimated_delivery_date_new</th></tr></thead><tbody><tr><td>b513b10ef81dc22d15e850789a8a96b1</td><td>fa3c9c28979e812523cac4180cf5bbca</td><td>delivered</td><td>1</td><td>179.00</td><td>18.53</td><td>197.53</td><td>2018-02-25</td><td>2018-02-27</td><td>2018-02-27</td><td>2018-03-08</td><td>2018-03-21</td></tr><tr><td>2d58f989c5e9344556ea2a9526699249</td><td>1fc09040150013ea0ef014f02dcb4e97</td><td>delivered</td><td>1</td><td>89.99</td><td>16.39</td><td>106.38</td><td>2017-10-01</td><td>2017-10-01</td><td>2017-10-04</td><td>2017-10-10</td><td>2017-10-27</td></tr><tr><td>a92225110bfd8206a036f272ccf0fb1b</td><td>7f96cdc06aa0cfe77e71187d5035f22f</td><td>delivered</td><td>1</td><td>49.00</td><td>18.23</td><td>67.23</td><td>2018-05-03</td><td>2018-05-03</td><td>2018-05-04</td><td>2018-05-15</td><td>2018-06-04</td></tr><tr><td>d17a342bb9f94d40c3b6df4a600b5cee</td><td>511dfb4f5249ddae8cec62d7c650859c</td><td>delivered</td><td>2</td><td>59.98</td><td>14.78</td><td>74.76</td><td>2018-04-06</td><td>2018-04-06</td><td>2018-04-09</td><td>2018-04-10</td><td>2018-04-24</td></tr><tr><td>8dd9758206f8d9c23baf77b965e1c6dc</td><td>849d4f35271a07987c6af0c676c5ca31</td><td>delivered</td><td>1</td><td>84.99</td><td>15.35</td><td>100.34</td><td>2017-11-28</td><td>2017-11-28</td><td>2017-12-04</td><td>2017-12-19</td><td>2017-12-20</td></tr><tr><td>7c4281b08578a1e5e13e56814b3c6123</td><td>686ba249f6f98cc2610b58e5b9982e6a</td><td>delivered</td><td>1</td><td>157.00</td><td>18.00</td><td>175.00</td><td>2017-07-18</td><td>2017-07-18</td><td>2017-07-19</td><td>2017-07-24</td><td>2017-08-24</td></tr><tr><td>2b9c1a6934f2dd62cbe6df11189fb65f</td><td>82c5e6b98e498b4150818c913f3e9bc7</td><td>delivered</td><td>1</td><td>74.90</td><td>12.65</td><td>87.55</td><td>2018-02-10</td><td>2018-02-10</td><td>2018-02-21</td><td>2018-02-28</td><td>2018-03-14</td></tr><tr><td>0b93ff37e8344c6013bad16484c7fbe4</td><td>41b40faae6aeea7a8b6884948863386e</td><td>delivered</td><td>1</td><td>998.90</td><td>222.38</td><td>1221.28</td><td>2018-07-22</td><td>2018-07-23</td><td>2018-08-02</td><td>2018-08-07</td><td>2018-08-21</td></tr><tr><td>b311d7dd519074ae07f219467efbcc6c</td><td>958cac30fa94b05f7747e91ed8798ef8</td><td>delivered</td><td>1</td><td>79.90</td><td>9.47</td><td>89.37</td><td>2018-06-10</td><td>2018-06-10</td><td>2018-06-19</td><td>2018-06-20</td><td>2018-06-29</td></tr><tr><td>f9b9c3c69ef08b6eda32ed086133abb6</td><td>2ee87cede5826cd6458393028d3ec739</td><td>delivered</td><td>1</td><td>48.90</td><td>9.74</td><td>58.64</td><td>2018-02-14</td><td>2018-02-14</td><td>2018-02-16</td><td>2018-02-19</td><td>2018-03-01</td></tr><tr><td>e37ef4ac61b5803ac29b4056c8495108</td><td>3336317767e51b209329188eb22de872</td><td>delivered</td><td>1</td><td>38.90</td><td>16.79</td><td>55.69</td><td>2017-11-26</td><td>2017-11-26</td><td>2017-11-27</td><td>2017-12-13</td><td>2017-12-26</td></tr><tr><td>5ded9a59e8920225f45b1d0e11dc7d97</td><td>807ef2b1870358b473e99027f30f2064</td><td>delivered</td><td>1</td><td>49.00</td><td>10.96</td><td>59.96</td><td>2017-04-28</td><td>2017-04-28</td><td>2017-05-02</td><td>2017-05-20</td><td>2017-05-22</td></tr><tr><td>2b31af271f3efcfd1f240a6ba82c631e</td><td>f7be82a2745ab37efb4f956c800a734e</td><td>delivered</td><td>1</td><td>161.42</td><td>38.60</td><td>200.02</td><td>2018-07-10</td><td>2018-07-10</td><td>2018-07-11</td><td>2018-07-12</td><td>2018-07-20</td></tr><tr><td>b80623966e8021f8f60984a3646abe70</td><td>cdf78a4b4403020ccadf1c716f28e89c</td><td>delivered</td><td>1</td><td>129.99</td><td>18.16</td><td>148.15</td><td>2017-08-11</td><td>2017-08-15</td><td>2017-08-15</td><td>2017-08-21</td><td>2017-09-04</td></tr><tr><td>a97a2be3f668f7c6d75a218b2dba8720</td><td>c3494677ed240d91c99a1011ca05bbf9</td><td>delivered</td><td>1</td><td>179.90</td><td>21.53</td><td>201.43</td><td>2018-08-02</td><td>2018-08-02</td><td>2018-08-03</td><td>2018-08-17</td><td>2018-08-29</td></tr></tbody></table></div>"
            ]
          },
          "metadata": {
            "application/vnd.databricks.v1+output": {
              "addedWidgets": {},
              "aggData": [],
              "aggError": "",
              "aggOverflow": false,
              "aggSchema": [],
              "aggSeriesLimitReached": false,
              "aggType": "",
              "arguments": {},
              "columnCustomDisplayInfos": {},
              "data": [
                [
                  "b513b10ef81dc22d15e850789a8a96b1",
                  "fa3c9c28979e812523cac4180cf5bbca",
                  "delivered",
                  1,
                  "179.00",
                  "18.53",
                  "197.53",
                  "2018-02-25",
                  "2018-02-27",
                  "2018-02-27",
                  "2018-03-08",
                  "2018-03-21"
                ],
                [
                  "2d58f989c5e9344556ea2a9526699249",
                  "1fc09040150013ea0ef014f02dcb4e97",
                  "delivered",
                  1,
                  "89.99",
                  "16.39",
                  "106.38",
                  "2017-10-01",
                  "2017-10-01",
                  "2017-10-04",
                  "2017-10-10",
                  "2017-10-27"
                ],
                [
                  "a92225110bfd8206a036f272ccf0fb1b",
                  "7f96cdc06aa0cfe77e71187d5035f22f",
                  "delivered",
                  1,
                  "49.00",
                  "18.23",
                  "67.23",
                  "2018-05-03",
                  "2018-05-03",
                  "2018-05-04",
                  "2018-05-15",
                  "2018-06-04"
                ],
                [
                  "d17a342bb9f94d40c3b6df4a600b5cee",
                  "511dfb4f5249ddae8cec62d7c650859c",
                  "delivered",
                  2,
                  "59.98",
                  "14.78",
                  "74.76",
                  "2018-04-06",
                  "2018-04-06",
                  "2018-04-09",
                  "2018-04-10",
                  "2018-04-24"
                ],
                [
                  "8dd9758206f8d9c23baf77b965e1c6dc",
                  "849d4f35271a07987c6af0c676c5ca31",
                  "delivered",
                  1,
                  "84.99",
                  "15.35",
                  "100.34",
                  "2017-11-28",
                  "2017-11-28",
                  "2017-12-04",
                  "2017-12-19",
                  "2017-12-20"
                ],
                [
                  "7c4281b08578a1e5e13e56814b3c6123",
                  "686ba249f6f98cc2610b58e5b9982e6a",
                  "delivered",
                  1,
                  "157.00",
                  "18.00",
                  "175.00",
                  "2017-07-18",
                  "2017-07-18",
                  "2017-07-19",
                  "2017-07-24",
                  "2017-08-24"
                ],
                [
                  "2b9c1a6934f2dd62cbe6df11189fb65f",
                  "82c5e6b98e498b4150818c913f3e9bc7",
                  "delivered",
                  1,
                  "74.90",
                  "12.65",
                  "87.55",
                  "2018-02-10",
                  "2018-02-10",
                  "2018-02-21",
                  "2018-02-28",
                  "2018-03-14"
                ],
                [
                  "0b93ff37e8344c6013bad16484c7fbe4",
                  "41b40faae6aeea7a8b6884948863386e",
                  "delivered",
                  1,
                  "998.90",
                  "222.38",
                  "1221.28",
                  "2018-07-22",
                  "2018-07-23",
                  "2018-08-02",
                  "2018-08-07",
                  "2018-08-21"
                ],
                [
                  "b311d7dd519074ae07f219467efbcc6c",
                  "958cac30fa94b05f7747e91ed8798ef8",
                  "delivered",
                  1,
                  "79.90",
                  "9.47",
                  "89.37",
                  "2018-06-10",
                  "2018-06-10",
                  "2018-06-19",
                  "2018-06-20",
                  "2018-06-29"
                ],
                [
                  "f9b9c3c69ef08b6eda32ed086133abb6",
                  "2ee87cede5826cd6458393028d3ec739",
                  "delivered",
                  1,
                  "48.90",
                  "9.74",
                  "58.64",
                  "2018-02-14",
                  "2018-02-14",
                  "2018-02-16",
                  "2018-02-19",
                  "2018-03-01"
                ],
                [
                  "e37ef4ac61b5803ac29b4056c8495108",
                  "3336317767e51b209329188eb22de872",
                  "delivered",
                  1,
                  "38.90",
                  "16.79",
                  "55.69",
                  "2017-11-26",
                  "2017-11-26",
                  "2017-11-27",
                  "2017-12-13",
                  "2017-12-26"
                ],
                [
                  "5ded9a59e8920225f45b1d0e11dc7d97",
                  "807ef2b1870358b473e99027f30f2064",
                  "delivered",
                  1,
                  "49.00",
                  "10.96",
                  "59.96",
                  "2017-04-28",
                  "2017-04-28",
                  "2017-05-02",
                  "2017-05-20",
                  "2017-05-22"
                ],
                [
                  "2b31af271f3efcfd1f240a6ba82c631e",
                  "f7be82a2745ab37efb4f956c800a734e",
                  "delivered",
                  1,
                  "161.42",
                  "38.60",
                  "200.02",
                  "2018-07-10",
                  "2018-07-10",
                  "2018-07-11",
                  "2018-07-12",
                  "2018-07-20"
                ],
                [
                  "b80623966e8021f8f60984a3646abe70",
                  "cdf78a4b4403020ccadf1c716f28e89c",
                  "delivered",
                  1,
                  "129.99",
                  "18.16",
                  "148.15",
                  "2017-08-11",
                  "2017-08-15",
                  "2017-08-15",
                  "2017-08-21",
                  "2017-09-04"
                ],
                [
                  "a97a2be3f668f7c6d75a218b2dba8720",
                  "c3494677ed240d91c99a1011ca05bbf9",
                  "delivered",
                  1,
                  "179.90",
                  "21.53",
                  "201.43",
                  "2018-08-02",
                  "2018-08-02",
                  "2018-08-03",
                  "2018-08-17",
                  "2018-08-29"
                ]
              ],
              "datasetInfos": [],
              "dbfsResultPath": null,
              "isJsonSchema": true,
              "metadata": {},
              "overflow": false,
              "plotOptions": {
                "customPlotOptions": {},
                "displayType": "table",
                "pivotAggregation": null,
                "pivotColumns": null,
                "xColumns": null,
                "yColumns": null
              },
              "removedWidgets": [],
              "schema": [
                {
                  "metadata": "{}",
                  "name": "order_id",
                  "type": "\"string\""
                },
                {
                  "metadata": "{}",
                  "name": "customer_id",
                  "type": "\"string\""
                },
                {
                  "metadata": "{}",
                  "name": "order_status",
                  "type": "\"string\""
                },
                {
                  "metadata": "{}",
                  "name": "total_items",
                  "type": "\"integer\""
                },
                {
                  "metadata": "{}",
                  "name": "total_order_item_value",
                  "type": "\"decimal(10,2)\""
                },
                {
                  "metadata": "{}",
                  "name": "total_freight_value",
                  "type": "\"decimal(10,2)\""
                },
                {
                  "metadata": "{}",
                  "name": "total_order_value",
                  "type": "\"decimal(10,2)\""
                },
                {
                  "metadata": "{}",
                  "name": "order_purchase_timestamp_new",
                  "type": "\"date\""
                },
                {
                  "metadata": "{}",
                  "name": "order_approved_at_new",
                  "type": "\"date\""
                },
                {
                  "metadata": "{}",
                  "name": "order_delivered_carrier_date_new",
                  "type": "\"date\""
                },
                {
                  "metadata": "{}",
                  "name": "order_delivered_customer_date_new",
                  "type": "\"date\""
                },
                {
                  "metadata": "{}",
                  "name": "order_estimated_delivery_date_new",
                  "type": "\"date\""
                }
              ],
              "type": "table"
            }
          }
        }
      ],
      "source": [
        "%sql SELECT * FROM Silver.fatopedidos_final LIMIT 15;"
      ]
    }
  ],
  "metadata": {
    "application/vnd.databricks.v1+notebook": {
      "computePreferences": null,
      "dashboards": [],
      "environmentMetadata": {
        "base_environment": "",
        "environment_version": "1"
      },
      "inputWidgetPreferences": null,
      "language": "python",
      "notebookMetadata": {
        "mostRecentlyExecutedCommandWithImplicitDF": {
          "commandId": 2023948640017388,
          "dataframes": [
            "_sqldf"
          ]
        },
        "pythonIndentUnit": 4
      },
      "notebookName": "MVP - Disciplina: Sprint: Engenharia de Dados",
      "widgets": {}
    },
    "colab": {
      "provenance": []
    }
  },
  "nbformat": 4,
  "nbformat_minor": 0
}
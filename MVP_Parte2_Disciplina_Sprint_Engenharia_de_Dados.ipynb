{
  "cells": [
    {
      "cell_type": "markdown",
      "metadata": {
        "application/vnd.databricks.v1+cell": {
          "cellMetadata": {},
          "inputWidgets": {},
          "nuid": "7b117588-8260-4b42-9564-8b51e9883b02",
          "showTitle": false,
          "tableResultSettingsMap": {},
          "title": ""
        },
        "id": "wGVGpXu7xHrq"
      },
      "source": [
        "# Todo o relatório deste MVP consta anexado no diretório do Github."
      ]
    },
    {
      "cell_type": "markdown",
      "metadata": {
        "application/vnd.databricks.v1+cell": {
          "cellMetadata": {
            "byteLimit": 2048000,
            "rowLimit": 10000
          },
          "inputWidgets": {},
          "nuid": "c602286d-3f1d-49ff-808b-968cf3864cbb",
          "showTitle": false,
          "tableResultSettingsMap": {},
          "title": ""
        },
        "id": "_I4T-VxbxHrv"
      },
      "source": [
        "## Camada Gold"
      ]
    },
    {
      "cell_type": "markdown",
      "metadata": {
        "application/vnd.databricks.v1+cell": {
          "cellMetadata": {},
          "inputWidgets": {},
          "nuid": "511b792a-8372-4840-83ae-8235efb705dc",
          "showTitle": false,
          "tableResultSettingsMap": {},
          "title": ""
        },
        "id": "Wtgpbt2TxHrv"
      },
      "source": [
        "Nesta camada “Gold” irei criar uma tabela a partir de Joins das tabelas fundamentais da camada “Silver”, sendo elas a tabela fato de pedidos, DimPagamentos, DimItens, DimProdutos, DimVendedores e DimClientes. A criação desta tabela flat tem como objetivo otimizar a performance de leitura e análise dos dados para este estudo, além de facilitar o seu consumo, permitindo assim responder de forma mais eficiente às perguntas definidas no início do projeto. Ainda assim, em caso de novas demandas analíticas, é possível recorrer à camada Silver, que mantém as tabelas organizadas em um modelo de esquema em floco de neve."
      ]
    },
    {
      "cell_type": "code",
      "execution_count": null,
      "metadata": {
        "application/vnd.databricks.v1+cell": {
          "cellMetadata": {
            "byteLimit": 2048000,
            "implicitDf": true,
            "rowLimit": 10000
          },
          "inputWidgets": {},
          "nuid": "18486ca0-4ead-4b3b-b242-dc2782f1d6f7",
          "showTitle": false,
          "tableResultSettingsMap": {},
          "title": ""
        },
        "id": "wQnZcyF9xHrw",
        "outputId": "00293e21-2e3b-480f-c813-f36ff465b7b3"
      },
      "outputs": [
        {
          "output_type": "display_data",
          "data": {
            "text/html": [
              "<style scoped>\n",
              "  .table-result-container {\n",
              "    max-height: 300px;\n",
              "    overflow: auto;\n",
              "  }\n",
              "  table, th, td {\n",
              "    border: 1px solid black;\n",
              "    border-collapse: collapse;\n",
              "  }\n",
              "  th, td {\n",
              "    padding: 5px;\n",
              "  }\n",
              "  th {\n",
              "    text-align: left;\n",
              "  }\n",
              "</style><div class='table-result-container'><table class='table-result'><thead style='background-color: white'><tr></tr></thead><tbody></tbody></table></div>"
            ]
          },
          "metadata": {
            "application/vnd.databricks.v1+output": {
              "addedWidgets": {},
              "aggData": [],
              "aggError": "",
              "aggOverflow": false,
              "aggSchema": [],
              "aggSeriesLimitReached": false,
              "aggType": "",
              "arguments": {},
              "columnCustomDisplayInfos": {},
              "data": [],
              "datasetInfos": [],
              "dbfsResultPath": null,
              "isJsonSchema": true,
              "metadata": {},
              "overflow": false,
              "plotOptions": {
                "customPlotOptions": {},
                "displayType": "table",
                "pivotAggregation": null,
                "pivotColumns": null,
                "xColumns": null,
                "yColumns": null
              },
              "removedWidgets": [],
              "schema": [],
              "type": "table"
            }
          }
        }
      ],
      "source": [
        "%sql\n",
        "CREATE DATABASE IF NOT EXISTS Gold;"
      ]
    },
    {
      "cell_type": "code",
      "execution_count": null,
      "metadata": {
        "application/vnd.databricks.v1+cell": {
          "cellMetadata": {
            "byteLimit": 2048000,
            "implicitDf": true,
            "rowLimit": 10000
          },
          "inputWidgets": {},
          "nuid": "945f617f-d347-4979-9a88-91e8b6a35b2e",
          "showTitle": false,
          "tableResultSettingsMap": {},
          "title": ""
        },
        "id": "ueujigmSxHrx",
        "outputId": "ff645e72-d97f-42a4-96f8-c028e54659ed"
      },
      "outputs": [
        {
          "output_type": "display_data",
          "data": {
            "text/html": [
              "<style scoped>\n",
              "  .table-result-container {\n",
              "    max-height: 300px;\n",
              "    overflow: auto;\n",
              "  }\n",
              "  table, th, td {\n",
              "    border: 1px solid black;\n",
              "    border-collapse: collapse;\n",
              "  }\n",
              "  th, td {\n",
              "    padding: 5px;\n",
              "  }\n",
              "  th {\n",
              "    text-align: left;\n",
              "  }\n",
              "</style><div class='table-result-container'><table class='table-result'><thead style='background-color: white'><tr><th>order_id</th><th>customer_id</th><th>order_status</th><th>total_items</th><th>total_order_item_value</th><th>total_freight_value</th><th>total_order_value</th><th>order_purchase_timestamp_new</th><th>order_approved_at_new</th><th>order_delivered_carrier_date_new</th><th>order_delivered_customer_date_new</th><th>order_estimated_delivery_date_new</th></tr></thead><tbody><tr><td>b513b10ef81dc22d15e850789a8a96b1</td><td>fa3c9c28979e812523cac4180cf5bbca</td><td>delivered</td><td>1</td><td>179.00</td><td>18.53</td><td>197.53</td><td>2018-02-25</td><td>2018-02-27</td><td>2018-02-27</td><td>2018-03-08</td><td>2018-03-21</td></tr><tr><td>2d58f989c5e9344556ea2a9526699249</td><td>1fc09040150013ea0ef014f02dcb4e97</td><td>delivered</td><td>1</td><td>89.99</td><td>16.39</td><td>106.38</td><td>2017-10-01</td><td>2017-10-01</td><td>2017-10-04</td><td>2017-10-10</td><td>2017-10-27</td></tr><tr><td>a92225110bfd8206a036f272ccf0fb1b</td><td>7f96cdc06aa0cfe77e71187d5035f22f</td><td>delivered</td><td>1</td><td>49.00</td><td>18.23</td><td>67.23</td><td>2018-05-03</td><td>2018-05-03</td><td>2018-05-04</td><td>2018-05-15</td><td>2018-06-04</td></tr><tr><td>d17a342bb9f94d40c3b6df4a600b5cee</td><td>511dfb4f5249ddae8cec62d7c650859c</td><td>delivered</td><td>2</td><td>59.98</td><td>14.78</td><td>74.76</td><td>2018-04-06</td><td>2018-04-06</td><td>2018-04-09</td><td>2018-04-10</td><td>2018-04-24</td></tr><tr><td>8dd9758206f8d9c23baf77b965e1c6dc</td><td>849d4f35271a07987c6af0c676c5ca31</td><td>delivered</td><td>1</td><td>84.99</td><td>15.35</td><td>100.34</td><td>2017-11-28</td><td>2017-11-28</td><td>2017-12-04</td><td>2017-12-19</td><td>2017-12-20</td></tr><tr><td>7c4281b08578a1e5e13e56814b3c6123</td><td>686ba249f6f98cc2610b58e5b9982e6a</td><td>delivered</td><td>1</td><td>157.00</td><td>18.00</td><td>175.00</td><td>2017-07-18</td><td>2017-07-18</td><td>2017-07-19</td><td>2017-07-24</td><td>2017-08-24</td></tr><tr><td>2b9c1a6934f2dd62cbe6df11189fb65f</td><td>82c5e6b98e498b4150818c913f3e9bc7</td><td>delivered</td><td>1</td><td>74.90</td><td>12.65</td><td>87.55</td><td>2018-02-10</td><td>2018-02-10</td><td>2018-02-21</td><td>2018-02-28</td><td>2018-03-14</td></tr><tr><td>0b93ff37e8344c6013bad16484c7fbe4</td><td>41b40faae6aeea7a8b6884948863386e</td><td>delivered</td><td>1</td><td>998.90</td><td>222.38</td><td>1221.28</td><td>2018-07-22</td><td>2018-07-23</td><td>2018-08-02</td><td>2018-08-07</td><td>2018-08-21</td></tr><tr><td>b311d7dd519074ae07f219467efbcc6c</td><td>958cac30fa94b05f7747e91ed8798ef8</td><td>delivered</td><td>1</td><td>79.90</td><td>9.47</td><td>89.37</td><td>2018-06-10</td><td>2018-06-10</td><td>2018-06-19</td><td>2018-06-20</td><td>2018-06-29</td></tr><tr><td>f9b9c3c69ef08b6eda32ed086133abb6</td><td>2ee87cede5826cd6458393028d3ec739</td><td>delivered</td><td>1</td><td>48.90</td><td>9.74</td><td>58.64</td><td>2018-02-14</td><td>2018-02-14</td><td>2018-02-16</td><td>2018-02-19</td><td>2018-03-01</td></tr></tbody></table></div>"
            ]
          },
          "metadata": {
            "application/vnd.databricks.v1+output": {
              "addedWidgets": {},
              "aggData": [],
              "aggError": "",
              "aggOverflow": false,
              "aggSchema": [],
              "aggSeriesLimitReached": false,
              "aggType": "",
              "arguments": {},
              "columnCustomDisplayInfos": {},
              "data": [
                [
                  "b513b10ef81dc22d15e850789a8a96b1",
                  "fa3c9c28979e812523cac4180cf5bbca",
                  "delivered",
                  1,
                  "179.00",
                  "18.53",
                  "197.53",
                  "2018-02-25",
                  "2018-02-27",
                  "2018-02-27",
                  "2018-03-08",
                  "2018-03-21"
                ],
                [
                  "2d58f989c5e9344556ea2a9526699249",
                  "1fc09040150013ea0ef014f02dcb4e97",
                  "delivered",
                  1,
                  "89.99",
                  "16.39",
                  "106.38",
                  "2017-10-01",
                  "2017-10-01",
                  "2017-10-04",
                  "2017-10-10",
                  "2017-10-27"
                ],
                [
                  "a92225110bfd8206a036f272ccf0fb1b",
                  "7f96cdc06aa0cfe77e71187d5035f22f",
                  "delivered",
                  1,
                  "49.00",
                  "18.23",
                  "67.23",
                  "2018-05-03",
                  "2018-05-03",
                  "2018-05-04",
                  "2018-05-15",
                  "2018-06-04"
                ],
                [
                  "d17a342bb9f94d40c3b6df4a600b5cee",
                  "511dfb4f5249ddae8cec62d7c650859c",
                  "delivered",
                  2,
                  "59.98",
                  "14.78",
                  "74.76",
                  "2018-04-06",
                  "2018-04-06",
                  "2018-04-09",
                  "2018-04-10",
                  "2018-04-24"
                ],
                [
                  "8dd9758206f8d9c23baf77b965e1c6dc",
                  "849d4f35271a07987c6af0c676c5ca31",
                  "delivered",
                  1,
                  "84.99",
                  "15.35",
                  "100.34",
                  "2017-11-28",
                  "2017-11-28",
                  "2017-12-04",
                  "2017-12-19",
                  "2017-12-20"
                ],
                [
                  "7c4281b08578a1e5e13e56814b3c6123",
                  "686ba249f6f98cc2610b58e5b9982e6a",
                  "delivered",
                  1,
                  "157.00",
                  "18.00",
                  "175.00",
                  "2017-07-18",
                  "2017-07-18",
                  "2017-07-19",
                  "2017-07-24",
                  "2017-08-24"
                ],
                [
                  "2b9c1a6934f2dd62cbe6df11189fb65f",
                  "82c5e6b98e498b4150818c913f3e9bc7",
                  "delivered",
                  1,
                  "74.90",
                  "12.65",
                  "87.55",
                  "2018-02-10",
                  "2018-02-10",
                  "2018-02-21",
                  "2018-02-28",
                  "2018-03-14"
                ],
                [
                  "0b93ff37e8344c6013bad16484c7fbe4",
                  "41b40faae6aeea7a8b6884948863386e",
                  "delivered",
                  1,
                  "998.90",
                  "222.38",
                  "1221.28",
                  "2018-07-22",
                  "2018-07-23",
                  "2018-08-02",
                  "2018-08-07",
                  "2018-08-21"
                ],
                [
                  "b311d7dd519074ae07f219467efbcc6c",
                  "958cac30fa94b05f7747e91ed8798ef8",
                  "delivered",
                  1,
                  "79.90",
                  "9.47",
                  "89.37",
                  "2018-06-10",
                  "2018-06-10",
                  "2018-06-19",
                  "2018-06-20",
                  "2018-06-29"
                ],
                [
                  "f9b9c3c69ef08b6eda32ed086133abb6",
                  "2ee87cede5826cd6458393028d3ec739",
                  "delivered",
                  1,
                  "48.90",
                  "9.74",
                  "58.64",
                  "2018-02-14",
                  "2018-02-14",
                  "2018-02-16",
                  "2018-02-19",
                  "2018-03-01"
                ]
              ],
              "datasetInfos": [],
              "dbfsResultPath": null,
              "isJsonSchema": true,
              "metadata": {},
              "overflow": false,
              "plotOptions": {
                "customPlotOptions": {},
                "displayType": "table",
                "pivotAggregation": null,
                "pivotColumns": null,
                "xColumns": null,
                "yColumns": null
              },
              "removedWidgets": [],
              "schema": [
                {
                  "metadata": "{}",
                  "name": "order_id",
                  "type": "\"string\""
                },
                {
                  "metadata": "{}",
                  "name": "customer_id",
                  "type": "\"string\""
                },
                {
                  "metadata": "{}",
                  "name": "order_status",
                  "type": "\"string\""
                },
                {
                  "metadata": "{}",
                  "name": "total_items",
                  "type": "\"integer\""
                },
                {
                  "metadata": "{}",
                  "name": "total_order_item_value",
                  "type": "\"decimal(10,2)\""
                },
                {
                  "metadata": "{}",
                  "name": "total_freight_value",
                  "type": "\"decimal(10,2)\""
                },
                {
                  "metadata": "{}",
                  "name": "total_order_value",
                  "type": "\"decimal(10,2)\""
                },
                {
                  "metadata": "{}",
                  "name": "order_purchase_timestamp_new",
                  "type": "\"date\""
                },
                {
                  "metadata": "{}",
                  "name": "order_approved_at_new",
                  "type": "\"date\""
                },
                {
                  "metadata": "{}",
                  "name": "order_delivered_carrier_date_new",
                  "type": "\"date\""
                },
                {
                  "metadata": "{}",
                  "name": "order_delivered_customer_date_new",
                  "type": "\"date\""
                },
                {
                  "metadata": "{}",
                  "name": "order_estimated_delivery_date_new",
                  "type": "\"date\""
                }
              ],
              "type": "table"
            }
          }
        }
      ],
      "source": [
        "%sql SELECT * FROM Silver.fatopedidos_final limit 10;"
      ]
    },
    {
      "cell_type": "markdown",
      "metadata": {
        "application/vnd.databricks.v1+cell": {
          "cellMetadata": {},
          "inputWidgets": {},
          "nuid": "228fe429-09eb-4bbb-9cf5-5fe8dd6426ac",
          "showTitle": false,
          "tableResultSettingsMap": {},
          "title": ""
        },
        "id": "AKdqOdqsxHry"
      },
      "source": [
        "Número de pedidos cancelados"
      ]
    },
    {
      "cell_type": "code",
      "execution_count": null,
      "metadata": {
        "application/vnd.databricks.v1+cell": {
          "cellMetadata": {
            "byteLimit": 2048000,
            "implicitDf": true,
            "rowLimit": 10000
          },
          "inputWidgets": {},
          "nuid": "b8a1b11a-36f3-40b8-b7f3-86f105c0247a",
          "showTitle": false,
          "tableResultSettingsMap": {},
          "title": ""
        },
        "id": "GXhvaA_WxHry",
        "outputId": "4d8d6db5-4149-4703-d002-4dca429d31fb"
      },
      "outputs": [
        {
          "output_type": "display_data",
          "data": {
            "text/html": [
              "<style scoped>\n",
              "  .table-result-container {\n",
              "    max-height: 300px;\n",
              "    overflow: auto;\n",
              "  }\n",
              "  table, th, td {\n",
              "    border: 1px solid black;\n",
              "    border-collapse: collapse;\n",
              "  }\n",
              "  th, td {\n",
              "    padding: 5px;\n",
              "  }\n",
              "  th {\n",
              "    text-align: left;\n",
              "  }\n",
              "</style><div class='table-result-container'><table class='table-result'><thead style='background-color: white'><tr><th>total_cancelados</th></tr></thead><tbody><tr><td>625</td></tr></tbody></table></div>"
            ]
          },
          "metadata": {
            "application/vnd.databricks.v1+output": {
              "addedWidgets": {},
              "aggData": [],
              "aggError": "",
              "aggOverflow": false,
              "aggSchema": [],
              "aggSeriesLimitReached": false,
              "aggType": "",
              "arguments": {},
              "columnCustomDisplayInfos": {},
              "data": [
                [
                  625
                ]
              ],
              "datasetInfos": [],
              "dbfsResultPath": null,
              "isJsonSchema": true,
              "metadata": {},
              "overflow": false,
              "plotOptions": {
                "customPlotOptions": {},
                "displayType": "table",
                "pivotAggregation": null,
                "pivotColumns": null,
                "xColumns": null,
                "yColumns": null
              },
              "removedWidgets": [],
              "schema": [
                {
                  "metadata": "{}",
                  "name": "total_cancelados",
                  "type": "\"long\""
                }
              ],
              "type": "table"
            }
          }
        }
      ],
      "source": [
        "%sql\n",
        "SELECT\n",
        "    COUNT(*) AS total_cancelados\n",
        "FROM\n",
        "    Silver.fatopedidos_final\n",
        "WHERE\n",
        "    order_status = 'canceled';"
      ]
    },
    {
      "cell_type": "markdown",
      "metadata": {
        "application/vnd.databricks.v1+cell": {
          "cellMetadata": {},
          "inputWidgets": {},
          "nuid": "d4df00b7-72b5-46cc-9ca4-ae7f59987c8a",
          "showTitle": false,
          "tableResultSettingsMap": {},
          "title": ""
        },
        "id": "sAJcS-DbxHr2"
      },
      "source": [
        "Taxa de cancelamento"
      ]
    },
    {
      "cell_type": "code",
      "execution_count": null,
      "metadata": {
        "application/vnd.databricks.v1+cell": {
          "cellMetadata": {
            "byteLimit": 2048000,
            "implicitDf": true,
            "rowLimit": 10000
          },
          "inputWidgets": {},
          "nuid": "4dd94adb-896f-4f28-9531-7143d4edb5f0",
          "showTitle": false,
          "tableResultSettingsMap": {},
          "title": ""
        },
        "id": "5wPKl72TxHr2",
        "outputId": "4ae7fce8-1f81-4850-8858-b9664ba215a1"
      },
      "outputs": [
        {
          "output_type": "display_data",
          "data": {
            "text/html": [
              "<style scoped>\n",
              "  .table-result-container {\n",
              "    max-height: 300px;\n",
              "    overflow: auto;\n",
              "  }\n",
              "  table, th, td {\n",
              "    border: 1px solid black;\n",
              "    border-collapse: collapse;\n",
              "  }\n",
              "  th, td {\n",
              "    padding: 5px;\n",
              "  }\n",
              "  th {\n",
              "    text-align: left;\n",
              "  }\n",
              "</style><div class='table-result-container'><table class='table-result'><thead style='background-color: white'><tr><th>taxa_cancelamento</th></tr></thead><tbody><tr><td>0.62851338984926</td></tr></tbody></table></div>"
            ]
          },
          "metadata": {
            "application/vnd.databricks.v1+output": {
              "addedWidgets": {},
              "aggData": [],
              "aggError": "",
              "aggOverflow": false,
              "aggSchema": [],
              "aggSeriesLimitReached": false,
              "aggType": "",
              "arguments": {},
              "columnCustomDisplayInfos": {},
              "data": [
                [
                  "0.62851338984926"
                ]
              ],
              "datasetInfos": [],
              "dbfsResultPath": null,
              "isJsonSchema": true,
              "metadata": {},
              "overflow": false,
              "plotOptions": {
                "customPlotOptions": {},
                "displayType": "table",
                "pivotAggregation": null,
                "pivotColumns": null,
                "xColumns": null,
                "yColumns": null
              },
              "removedWidgets": [],
              "schema": [
                {
                  "metadata": "{}",
                  "name": "taxa_cancelamento",
                  "type": "\"decimal(38,14)\""
                }
              ],
              "type": "table"
            }
          }
        }
      ],
      "source": [
        "%sql\n",
        "SELECT\n",
        "    (COUNT(CASE WHEN order_status = 'canceled' THEN 1 END) * 100.0) / COUNT(*) AS taxa_cancelamento\n",
        "FROM\n",
        "    Silver.fatopedidos_final;"
      ]
    },
    {
      "cell_type": "markdown",
      "metadata": {
        "application/vnd.databricks.v1+cell": {
          "cellMetadata": {},
          "inputWidgets": {},
          "nuid": "a4d0345c-9beb-4834-a5e4-b2ab818af028",
          "showTitle": false,
          "tableResultSettingsMap": {},
          "title": ""
        },
        "id": "w91e0xKTxHr3"
      },
      "source": [
        "Criando tabela com junção entre tabelas para a camada gold"
      ]
    },
    {
      "cell_type": "code",
      "execution_count": null,
      "metadata": {
        "application/vnd.databricks.v1+cell": {
          "cellMetadata": {
            "byteLimit": 2048000,
            "implicitDf": true,
            "rowLimit": 10000
          },
          "inputWidgets": {},
          "nuid": "1d608b80-5f03-4c2b-9d3a-08ea7bf75f40",
          "showTitle": false,
          "tableResultSettingsMap": {},
          "title": ""
        },
        "id": "uIdAEcRnxHr3",
        "outputId": "1bbd8a3e-7256-4bbd-d99f-cf358c1dbdc9"
      },
      "outputs": [
        {
          "output_type": "display_data",
          "data": {
            "text/html": [
              "<style scoped>\n",
              "  .table-result-container {\n",
              "    max-height: 300px;\n",
              "    overflow: auto;\n",
              "  }\n",
              "  table, th, td {\n",
              "    border: 1px solid black;\n",
              "    border-collapse: collapse;\n",
              "  }\n",
              "  th, td {\n",
              "    padding: 5px;\n",
              "  }\n",
              "  th {\n",
              "    text-align: left;\n",
              "  }\n",
              "</style><div class='table-result-container'><table class='table-result'><thead style='background-color: white'><tr><th>num_affected_rows</th><th>num_inserted_rows</th></tr></thead><tbody></tbody></table></div>"
            ]
          },
          "metadata": {
            "application/vnd.databricks.v1+output": {
              "addedWidgets": {},
              "aggData": [],
              "aggError": "",
              "aggOverflow": false,
              "aggSchema": [],
              "aggSeriesLimitReached": false,
              "aggType": "",
              "arguments": {},
              "columnCustomDisplayInfos": {},
              "data": [],
              "datasetInfos": [],
              "dbfsResultPath": null,
              "isJsonSchema": true,
              "metadata": {},
              "overflow": false,
              "plotOptions": {
                "customPlotOptions": {},
                "displayType": "table",
                "pivotAggregation": null,
                "pivotColumns": null,
                "xColumns": null,
                "yColumns": null
              },
              "removedWidgets": [],
              "schema": [
                {
                  "metadata": "{}",
                  "name": "num_affected_rows",
                  "type": "\"long\""
                },
                {
                  "metadata": "{}",
                  "name": "num_inserted_rows",
                  "type": "\"long\""
                }
              ],
              "type": "table"
            }
          }
        }
      ],
      "source": [
        "%sql\n",
        "CREATE OR REPLACE TABLE Gold.dados_agregados\n",
        "USING DELTA\n",
        "AS\n",
        "SELECT\n",
        "    fp.order_id AS order_id,\n",
        "    fp.customer_id AS customer_id,\n",
        "    fp.order_status,\n",
        "    fp.total_items,\n",
        "    fp.total_order_item_value,\n",
        "    fp.total_freight_value,\n",
        "    fp.total_order_value,\n",
        "    fp.order_purchase_timestamp_new,\n",
        "    fp.order_approved_at_new,\n",
        "    fp.order_delivered_carrier_date_new,\n",
        "    fp.order_delivered_customer_date_new,\n",
        "    fp.order_estimated_delivery_date_new,\n",
        "\n",
        "    dt.payment_value,\n",
        "    dt.payment_type,\n",
        "\n",
        "    di.product_id,\n",
        "    di.price,\n",
        "\n",
        "    dp.product_category_name,\n",
        "\n",
        "    dv.seller_id,\n",
        "    dv.seller_city,\n",
        "\n",
        "    dc.customer_unique_id\n",
        "\n",
        "FROM\n",
        "    Silver.fatopedidos_final fp\n",
        "JOIN\n",
        "    Silver.dimpagamentos_final dt ON fp.order_id = dt.order_id\n",
        "JOIN\n",
        "    Silver.dimitens_final di ON fp.order_id = di.order_id\n",
        "JOIN\n",
        "    Silver.DimProdutos dp ON di.product_id = dp.product_id\n",
        "JOIN\n",
        "    Silver.DimVendedores dv ON di.seller_id = dv.seller_id\n",
        "JOIN\n",
        "    Silver.DimClientes dc ON fp.customer_id = dc.customer_id;"
      ]
    },
    {
      "cell_type": "code",
      "execution_count": null,
      "metadata": {
        "application/vnd.databricks.v1+cell": {
          "cellMetadata": {
            "byteLimit": 2048000,
            "implicitDf": true,
            "rowLimit": 10000
          },
          "inputWidgets": {},
          "nuid": "1eb36dfa-3bee-42b7-9011-16b6c8513784",
          "showTitle": false,
          "tableResultSettingsMap": {},
          "title": ""
        },
        "id": "uBVNPsfjxHr4",
        "outputId": "b380e89b-2c22-4ed0-a3e5-1172ff03765f"
      },
      "outputs": [
        {
          "output_type": "display_data",
          "data": {
            "text/html": [
              "<style scoped>\n",
              "  .table-result-container {\n",
              "    max-height: 300px;\n",
              "    overflow: auto;\n",
              "  }\n",
              "  table, th, td {\n",
              "    border: 1px solid black;\n",
              "    border-collapse: collapse;\n",
              "  }\n",
              "  th, td {\n",
              "    padding: 5px;\n",
              "  }\n",
              "  th {\n",
              "    text-align: left;\n",
              "  }\n",
              "</style><div class='table-result-container'><table class='table-result'><thead style='background-color: white'><tr><th>order_id</th><th>customer_id</th><th>order_status</th><th>total_items</th><th>total_order_item_value</th><th>total_freight_value</th><th>total_order_value</th><th>order_purchase_timestamp_new</th><th>order_approved_at_new</th><th>order_delivered_carrier_date_new</th><th>order_delivered_customer_date_new</th><th>order_estimated_delivery_date_new</th><th>payment_value</th><th>payment_type</th><th>product_id</th><th>price</th><th>product_category_name</th><th>seller_id</th><th>seller_city</th><th>customer_unique_id</th></tr></thead><tbody><tr><td>b513b10ef81dc22d15e850789a8a96b1</td><td>fa3c9c28979e812523cac4180cf5bbca</td><td>delivered</td><td>1</td><td>179.00</td><td>18.53</td><td>197.53</td><td>2018-02-25</td><td>2018-02-27</td><td>2018-02-27</td><td>2018-03-08</td><td>2018-03-21</td><td>197.53</td><td>boleto</td><td>f8b624d4e475bb8d1bddf1b65c6a64f6</td><td>179.00</td><td>utilidades_domesticas</td><td>b410bdd36d5db7a65dcd42b7ead933b8</td><td>goiania</td><td>8e45fca580e5130b6f912da95dcf3dd2</td></tr><tr><td>2d58f989c5e9344556ea2a9526699249</td><td>1fc09040150013ea0ef014f02dcb4e97</td><td>delivered</td><td>1</td><td>89.99</td><td>16.39</td><td>106.38</td><td>2017-10-01</td><td>2017-10-01</td><td>2017-10-04</td><td>2017-10-10</td><td>2017-10-27</td><td>106.38</td><td>credit_card</td><td>504f07e36481e5e72043def3d874b92a</td><td>89.99</td><td>esporte_lazer</td><td>2e1c9f22be269ef4643f826c9e650a52</td><td>sao paulo</td><td>d9d377accc816fe2dd7cea89daefdbc3</td></tr><tr><td>a92225110bfd8206a036f272ccf0fb1b</td><td>7f96cdc06aa0cfe77e71187d5035f22f</td><td>delivered</td><td>1</td><td>49.00</td><td>18.23</td><td>67.23</td><td>2018-05-03</td><td>2018-05-03</td><td>2018-05-04</td><td>2018-05-15</td><td>2018-06-04</td><td>67.23</td><td>credit_card</td><td>7f064525eaaa1ce9d22c085f7ff5413a</td><td>49.00</td><td>relogios_presentes</td><td>6560211a19b47992c3666cc44a7e94c0</td><td>sao paulo</td><td>2c1e1a424b3426cfb207bc61849b4203</td></tr><tr><td>d17a342bb9f94d40c3b6df4a600b5cee</td><td>511dfb4f5249ddae8cec62d7c650859c</td><td>delivered</td><td>2</td><td>59.98</td><td>14.78</td><td>74.76</td><td>2018-04-06</td><td>2018-04-06</td><td>2018-04-09</td><td>2018-04-10</td><td>2018-04-24</td><td>74.76</td><td>credit_card</td><td>5df6b48d02fedad4728b254cfcff3cc7</td><td>29.99</td><td>telefonia</td><td>b76dba6c951ab00dc4edf0a1aa88037e</td><td>sao paulo</td><td>9f7e43e32a3faca81cd43ee54af11543</td></tr><tr><td>d17a342bb9f94d40c3b6df4a600b5cee</td><td>511dfb4f5249ddae8cec62d7c650859c</td><td>delivered</td><td>2</td><td>59.98</td><td>14.78</td><td>74.76</td><td>2018-04-06</td><td>2018-04-06</td><td>2018-04-09</td><td>2018-04-10</td><td>2018-04-24</td><td>74.76</td><td>credit_card</td><td>5df6b48d02fedad4728b254cfcff3cc7</td><td>29.99</td><td>telefonia</td><td>b76dba6c951ab00dc4edf0a1aa88037e</td><td>sao paulo</td><td>9f7e43e32a3faca81cd43ee54af11543</td></tr><tr><td>8dd9758206f8d9c23baf77b965e1c6dc</td><td>849d4f35271a07987c6af0c676c5ca31</td><td>delivered</td><td>1</td><td>84.99</td><td>15.35</td><td>100.34</td><td>2017-11-28</td><td>2017-11-28</td><td>2017-12-04</td><td>2017-12-19</td><td>2017-12-20</td><td>17.71</td><td>credit_card</td><td>4c2394abfbac7ff59ec7a420918562fa</td><td>84.99</td><td>beleza_saude</td><td>cc419e0650a3c5ba77189a1882b7556a</td><td>santo andre</td><td>a4d4c09a2fe3081414f20b73ed30d9de</td></tr><tr><td>8dd9758206f8d9c23baf77b965e1c6dc</td><td>849d4f35271a07987c6af0c676c5ca31</td><td>delivered</td><td>1</td><td>84.99</td><td>15.35</td><td>100.34</td><td>2017-11-28</td><td>2017-11-28</td><td>2017-12-04</td><td>2017-12-19</td><td>2017-12-20</td><td>82.63</td><td>voucher</td><td>4c2394abfbac7ff59ec7a420918562fa</td><td>84.99</td><td>beleza_saude</td><td>cc419e0650a3c5ba77189a1882b7556a</td><td>santo andre</td><td>a4d4c09a2fe3081414f20b73ed30d9de</td></tr><tr><td>7c4281b08578a1e5e13e56814b3c6123</td><td>686ba249f6f98cc2610b58e5b9982e6a</td><td>delivered</td><td>1</td><td>157.00</td><td>18.00</td><td>175.00</td><td>2017-07-18</td><td>2017-07-18</td><td>2017-07-19</td><td>2017-07-24</td><td>2017-08-24</td><td>175.00</td><td>credit_card</td><td>3458b4c1fcbe46e2eedb48e00960a60e</td><td>157.00</td><td>cama_mesa_banho</td><td>cfb1a033743668a192316f3c6d1d2671</td><td>votorantim</td><td>70a8db6a5ae17c3a4e5df68bbeae451c</td></tr><tr><td>2b9c1a6934f2dd62cbe6df11189fb65f</td><td>82c5e6b98e498b4150818c913f3e9bc7</td><td>delivered</td><td>1</td><td>74.90</td><td>12.65</td><td>87.55</td><td>2018-02-10</td><td>2018-02-10</td><td>2018-02-21</td><td>2018-02-28</td><td>2018-03-14</td><td>87.55</td><td>credit_card</td><td>e53e557d5a159f5aa2c5e995dfdf244b</td><td>74.90</td><td>informatica_acessorios</td><td>88460e8ebdecbfecb5f9601833981930</td><td>maringa</td><td>0520a11c7af8a73b703f1d2e722c7c8a</td></tr><tr><td>0b93ff37e8344c6013bad16484c7fbe4</td><td>41b40faae6aeea7a8b6884948863386e</td><td>delivered</td><td>1</td><td>998.90</td><td>222.38</td><td>1221.28</td><td>2018-07-22</td><td>2018-07-23</td><td>2018-08-02</td><td>2018-08-07</td><td>2018-08-21</td><td>1221.28</td><td>credit_card</td><td>be7af429d53adfab190dacdaad6a1c9b</td><td>998.90</td><td>papelaria</td><td>b19f3ca2ea475913750f25a5c37c8d8f</td><td>divinopolis</td><td>8733d5194de65480195c9afdc3bf8881</td></tr></tbody></table></div>"
            ]
          },
          "metadata": {
            "application/vnd.databricks.v1+output": {
              "addedWidgets": {},
              "aggData": [],
              "aggError": "",
              "aggOverflow": false,
              "aggSchema": [],
              "aggSeriesLimitReached": false,
              "aggType": "",
              "arguments": {},
              "columnCustomDisplayInfos": {},
              "data": [
                [
                  "b513b10ef81dc22d15e850789a8a96b1",
                  "fa3c9c28979e812523cac4180cf5bbca",
                  "delivered",
                  1,
                  "179.00",
                  "18.53",
                  "197.53",
                  "2018-02-25",
                  "2018-02-27",
                  "2018-02-27",
                  "2018-03-08",
                  "2018-03-21",
                  "197.53",
                  "boleto",
                  "f8b624d4e475bb8d1bddf1b65c6a64f6",
                  "179.00",
                  "utilidades_domesticas",
                  "b410bdd36d5db7a65dcd42b7ead933b8",
                  "goiania",
                  "8e45fca580e5130b6f912da95dcf3dd2"
                ],
                [
                  "2d58f989c5e9344556ea2a9526699249",
                  "1fc09040150013ea0ef014f02dcb4e97",
                  "delivered",
                  1,
                  "89.99",
                  "16.39",
                  "106.38",
                  "2017-10-01",
                  "2017-10-01",
                  "2017-10-04",
                  "2017-10-10",
                  "2017-10-27",
                  "106.38",
                  "credit_card",
                  "504f07e36481e5e72043def3d874b92a",
                  "89.99",
                  "esporte_lazer",
                  "2e1c9f22be269ef4643f826c9e650a52",
                  "sao paulo",
                  "d9d377accc816fe2dd7cea89daefdbc3"
                ],
                [
                  "a92225110bfd8206a036f272ccf0fb1b",
                  "7f96cdc06aa0cfe77e71187d5035f22f",
                  "delivered",
                  1,
                  "49.00",
                  "18.23",
                  "67.23",
                  "2018-05-03",
                  "2018-05-03",
                  "2018-05-04",
                  "2018-05-15",
                  "2018-06-04",
                  "67.23",
                  "credit_card",
                  "7f064525eaaa1ce9d22c085f7ff5413a",
                  "49.00",
                  "relogios_presentes",
                  "6560211a19b47992c3666cc44a7e94c0",
                  "sao paulo",
                  "2c1e1a424b3426cfb207bc61849b4203"
                ],
                [
                  "d17a342bb9f94d40c3b6df4a600b5cee",
                  "511dfb4f5249ddae8cec62d7c650859c",
                  "delivered",
                  2,
                  "59.98",
                  "14.78",
                  "74.76",
                  "2018-04-06",
                  "2018-04-06",
                  "2018-04-09",
                  "2018-04-10",
                  "2018-04-24",
                  "74.76",
                  "credit_card",
                  "5df6b48d02fedad4728b254cfcff3cc7",
                  "29.99",
                  "telefonia",
                  "b76dba6c951ab00dc4edf0a1aa88037e",
                  "sao paulo",
                  "9f7e43e32a3faca81cd43ee54af11543"
                ],
                [
                  "d17a342bb9f94d40c3b6df4a600b5cee",
                  "511dfb4f5249ddae8cec62d7c650859c",
                  "delivered",
                  2,
                  "59.98",
                  "14.78",
                  "74.76",
                  "2018-04-06",
                  "2018-04-06",
                  "2018-04-09",
                  "2018-04-10",
                  "2018-04-24",
                  "74.76",
                  "credit_card",
                  "5df6b48d02fedad4728b254cfcff3cc7",
                  "29.99",
                  "telefonia",
                  "b76dba6c951ab00dc4edf0a1aa88037e",
                  "sao paulo",
                  "9f7e43e32a3faca81cd43ee54af11543"
                ],
                [
                  "8dd9758206f8d9c23baf77b965e1c6dc",
                  "849d4f35271a07987c6af0c676c5ca31",
                  "delivered",
                  1,
                  "84.99",
                  "15.35",
                  "100.34",
                  "2017-11-28",
                  "2017-11-28",
                  "2017-12-04",
                  "2017-12-19",
                  "2017-12-20",
                  "17.71",
                  "credit_card",
                  "4c2394abfbac7ff59ec7a420918562fa",
                  "84.99",
                  "beleza_saude",
                  "cc419e0650a3c5ba77189a1882b7556a",
                  "santo andre",
                  "a4d4c09a2fe3081414f20b73ed30d9de"
                ],
                [
                  "8dd9758206f8d9c23baf77b965e1c6dc",
                  "849d4f35271a07987c6af0c676c5ca31",
                  "delivered",
                  1,
                  "84.99",
                  "15.35",
                  "100.34",
                  "2017-11-28",
                  "2017-11-28",
                  "2017-12-04",
                  "2017-12-19",
                  "2017-12-20",
                  "82.63",
                  "voucher",
                  "4c2394abfbac7ff59ec7a420918562fa",
                  "84.99",
                  "beleza_saude",
                  "cc419e0650a3c5ba77189a1882b7556a",
                  "santo andre",
                  "a4d4c09a2fe3081414f20b73ed30d9de"
                ],
                [
                  "7c4281b08578a1e5e13e56814b3c6123",
                  "686ba249f6f98cc2610b58e5b9982e6a",
                  "delivered",
                  1,
                  "157.00",
                  "18.00",
                  "175.00",
                  "2017-07-18",
                  "2017-07-18",
                  "2017-07-19",
                  "2017-07-24",
                  "2017-08-24",
                  "175.00",
                  "credit_card",
                  "3458b4c1fcbe46e2eedb48e00960a60e",
                  "157.00",
                  "cama_mesa_banho",
                  "cfb1a033743668a192316f3c6d1d2671",
                  "votorantim",
                  "70a8db6a5ae17c3a4e5df68bbeae451c"
                ],
                [
                  "2b9c1a6934f2dd62cbe6df11189fb65f",
                  "82c5e6b98e498b4150818c913f3e9bc7",
                  "delivered",
                  1,
                  "74.90",
                  "12.65",
                  "87.55",
                  "2018-02-10",
                  "2018-02-10",
                  "2018-02-21",
                  "2018-02-28",
                  "2018-03-14",
                  "87.55",
                  "credit_card",
                  "e53e557d5a159f5aa2c5e995dfdf244b",
                  "74.90",
                  "informatica_acessorios",
                  "88460e8ebdecbfecb5f9601833981930",
                  "maringa",
                  "0520a11c7af8a73b703f1d2e722c7c8a"
                ],
                [
                  "0b93ff37e8344c6013bad16484c7fbe4",
                  "41b40faae6aeea7a8b6884948863386e",
                  "delivered",
                  1,
                  "998.90",
                  "222.38",
                  "1221.28",
                  "2018-07-22",
                  "2018-07-23",
                  "2018-08-02",
                  "2018-08-07",
                  "2018-08-21",
                  "1221.28",
                  "credit_card",
                  "be7af429d53adfab190dacdaad6a1c9b",
                  "998.90",
                  "papelaria",
                  "b19f3ca2ea475913750f25a5c37c8d8f",
                  "divinopolis",
                  "8733d5194de65480195c9afdc3bf8881"
                ]
              ],
              "datasetInfos": [],
              "dbfsResultPath": null,
              "isJsonSchema": true,
              "metadata": {},
              "overflow": false,
              "plotOptions": {
                "customPlotOptions": {},
                "displayType": "table",
                "pivotAggregation": null,
                "pivotColumns": null,
                "xColumns": null,
                "yColumns": null
              },
              "removedWidgets": [],
              "schema": [
                {
                  "metadata": "{}",
                  "name": "order_id",
                  "type": "\"string\""
                },
                {
                  "metadata": "{}",
                  "name": "customer_id",
                  "type": "\"string\""
                },
                {
                  "metadata": "{}",
                  "name": "order_status",
                  "type": "\"string\""
                },
                {
                  "metadata": "{}",
                  "name": "total_items",
                  "type": "\"integer\""
                },
                {
                  "metadata": "{}",
                  "name": "total_order_item_value",
                  "type": "\"decimal(10,2)\""
                },
                {
                  "metadata": "{}",
                  "name": "total_freight_value",
                  "type": "\"decimal(10,2)\""
                },
                {
                  "metadata": "{}",
                  "name": "total_order_value",
                  "type": "\"decimal(10,2)\""
                },
                {
                  "metadata": "{}",
                  "name": "order_purchase_timestamp_new",
                  "type": "\"date\""
                },
                {
                  "metadata": "{}",
                  "name": "order_approved_at_new",
                  "type": "\"date\""
                },
                {
                  "metadata": "{}",
                  "name": "order_delivered_carrier_date_new",
                  "type": "\"date\""
                },
                {
                  "metadata": "{}",
                  "name": "order_delivered_customer_date_new",
                  "type": "\"date\""
                },
                {
                  "metadata": "{}",
                  "name": "order_estimated_delivery_date_new",
                  "type": "\"date\""
                },
                {
                  "metadata": "{}",
                  "name": "payment_value",
                  "type": "\"decimal(10,2)\""
                },
                {
                  "metadata": "{}",
                  "name": "payment_type",
                  "type": "\"string\""
                },
                {
                  "metadata": "{}",
                  "name": "product_id",
                  "type": "\"string\""
                },
                {
                  "metadata": "{}",
                  "name": "price",
                  "type": "\"decimal(10,2)\""
                },
                {
                  "metadata": "{}",
                  "name": "product_category_name",
                  "type": "\"string\""
                },
                {
                  "metadata": "{}",
                  "name": "seller_id",
                  "type": "\"string\""
                },
                {
                  "metadata": "{}",
                  "name": "seller_city",
                  "type": "\"string\""
                },
                {
                  "metadata": "{}",
                  "name": "customer_unique_id",
                  "type": "\"string\""
                }
              ],
              "type": "table"
            }
          }
        }
      ],
      "source": [
        "%sql SELECT * FROM Gold.dados_agregados LIMIT 10;"
      ]
    },
    {
      "cell_type": "markdown",
      "metadata": {
        "application/vnd.databricks.v1+cell": {
          "cellMetadata": {},
          "inputWidgets": {},
          "nuid": "448c2b87-c533-4846-9149-63330449da96",
          "showTitle": false,
          "tableResultSettingsMap": {},
          "title": ""
        },
        "id": "GMqC3lduxHr4"
      },
      "source": [
        "Desempenho produtos - categorias que têm as maiores vendas em termos de unidades e valor"
      ]
    },
    {
      "cell_type": "code",
      "execution_count": null,
      "metadata": {
        "application/vnd.databricks.v1+cell": {
          "cellMetadata": {
            "byteLimit": 2048000,
            "implicitDf": true,
            "rowLimit": 10000
          },
          "inputWidgets": {},
          "nuid": "2f02b5f7-b2f4-44c1-8744-06c99543ecae",
          "showTitle": false,
          "tableResultSettingsMap": {},
          "title": ""
        },
        "id": "HiDn_X0pxHr4",
        "outputId": "a39de3e5-1644-4771-b134-e25f62b9ba4b"
      },
      "outputs": [
        {
          "output_type": "display_data",
          "data": {
            "text/html": [
              "<style scoped>\n",
              "  .table-result-container {\n",
              "    max-height: 300px;\n",
              "    overflow: auto;\n",
              "  }\n",
              "  table, th, td {\n",
              "    border: 1px solid black;\n",
              "    border-collapse: collapse;\n",
              "  }\n",
              "  th, td {\n",
              "    padding: 5px;\n",
              "  }\n",
              "  th {\n",
              "    text-align: left;\n",
              "  }\n",
              "</style><div class='table-result-container'><table class='table-result'><thead style='background-color: white'><tr><th>product_category_name</th><th>total_units_sold</th><th>total_sales_value</th></tr></thead><tbody><tr><td>cama_mesa_banho</td><td>17268</td><td>1712553.67</td></tr><tr><td>beleza_saude</td><td>12873</td><td>1657373.12</td></tr><tr><td>informatica_acessorios</td><td>12292</td><td>1585330.45</td></tr><tr><td>moveis_decoracao</td><td>15402</td><td>1430176.39</td></tr><tr><td>relogios_presentes</td><td>7418</td><td>1429216.68</td></tr><tr><td>esporte_lazer</td><td>11604</td><td>1392127.56</td></tr><tr><td>utilidades_domesticas</td><td>11677</td><td>1094758.13</td></tr><tr><td>automotivo</td><td>5714</td><td>852294.33</td></tr><tr><td>ferramentas_jardim</td><td>7682</td><td>838280.75</td></tr><tr><td>cool_stuff</td><td>4591</td><td>779698.00</td></tr><tr><td>moveis_escritorio</td><td>3519</td><td>646826.49</td></tr><tr><td>brinquedos</td><td>4948</td><td>619037.69</td></tr><tr><td>bebes</td><td>3946</td><td>539845.66</td></tr><tr><td>perfumaria</td><td>4307</td><td>506738.66</td></tr><tr><td>telefonia</td><td>5966</td><td>486882.05</td></tr><tr><td>papelaria</td><td>3207</td><td>317440.07</td></tr><tr><td>pet_shop</td><td>2705</td><td>311268.97</td></tr><tr><td>pcs</td><td>284</td><td>279121.55</td></tr><tr><td>eletronicos</td><td>3505</td><td>259857.10</td></tr><tr><td>null</td><td>2277</td><td>252801.71</td></tr></tbody></table></div>"
            ]
          },
          "metadata": {
            "application/vnd.databricks.v1+output": {
              "addedWidgets": {},
              "aggData": [],
              "aggError": "",
              "aggOverflow": false,
              "aggSchema": [],
              "aggSeriesLimitReached": false,
              "aggType": "",
              "arguments": {},
              "columnCustomDisplayInfos": {},
              "data": [
                [
                  "cama_mesa_banho",
                  17268,
                  "1712553.67"
                ],
                [
                  "beleza_saude",
                  12873,
                  "1657373.12"
                ],
                [
                  "informatica_acessorios",
                  12292,
                  "1585330.45"
                ],
                [
                  "moveis_decoracao",
                  15402,
                  "1430176.39"
                ],
                [
                  "relogios_presentes",
                  7418,
                  "1429216.68"
                ],
                [
                  "esporte_lazer",
                  11604,
                  "1392127.56"
                ],
                [
                  "utilidades_domesticas",
                  11677,
                  "1094758.13"
                ],
                [
                  "automotivo",
                  5714,
                  "852294.33"
                ],
                [
                  "ferramentas_jardim",
                  7682,
                  "838280.75"
                ],
                [
                  "cool_stuff",
                  4591,
                  "779698.00"
                ],
                [
                  "moveis_escritorio",
                  3519,
                  "646826.49"
                ],
                [
                  "brinquedos",
                  4948,
                  "619037.69"
                ],
                [
                  "bebes",
                  3946,
                  "539845.66"
                ],
                [
                  "perfumaria",
                  4307,
                  "506738.66"
                ],
                [
                  "telefonia",
                  5966,
                  "486882.05"
                ],
                [
                  "papelaria",
                  3207,
                  "317440.07"
                ],
                [
                  "pet_shop",
                  2705,
                  "311268.97"
                ],
                [
                  "pcs",
                  284,
                  "279121.55"
                ],
                [
                  "eletronicos",
                  3505,
                  "259857.10"
                ],
                [
                  null,
                  2277,
                  "252801.71"
                ]
              ],
              "datasetInfos": [],
              "dbfsResultPath": null,
              "isJsonSchema": true,
              "metadata": {},
              "overflow": false,
              "plotOptions": {
                "customPlotOptions": {},
                "displayType": "table",
                "pivotAggregation": null,
                "pivotColumns": null,
                "xColumns": null,
                "yColumns": null
              },
              "removedWidgets": [],
              "schema": [
                {
                  "metadata": "{}",
                  "name": "product_category_name",
                  "type": "\"string\""
                },
                {
                  "metadata": "{}",
                  "name": "total_units_sold",
                  "type": "\"long\""
                },
                {
                  "metadata": "{}",
                  "name": "total_sales_value",
                  "type": "\"decimal(21,2)\""
                }
              ],
              "type": "table"
            }
          }
        }
      ],
      "source": [
        "%sql\n",
        "SELECT\n",
        "    product_category_name,\n",
        "    SUM(total_items) AS total_units_sold,\n",
        "    ROUND(SUM(payment_value), 2) AS total_sales_value\n",
        "FROM\n",
        "    Gold.dados_agregados\n",
        "GROUP BY\n",
        "    product_category_name\n",
        "ORDER BY\n",
        "    total_sales_value DESC\n",
        "LIMIT 20;"
      ]
    },
    {
      "cell_type": "markdown",
      "metadata": {
        "application/vnd.databricks.v1+cell": {
          "cellMetadata": {},
          "inputWidgets": {},
          "nuid": "ccabd55e-b1b9-40c7-87bb-043c5aa56178",
          "showTitle": false,
          "tableResultSettingsMap": {},
          "title": ""
        },
        "id": "PCyT4YGCxHr5"
      },
      "source": [
        "Categorias que possuem o maior número de cancelamentos"
      ]
    },
    {
      "cell_type": "code",
      "execution_count": null,
      "metadata": {
        "application/vnd.databricks.v1+cell": {
          "cellMetadata": {
            "byteLimit": 2048000,
            "implicitDf": true,
            "rowLimit": 10000
          },
          "inputWidgets": {},
          "nuid": "440a708d-bdb2-4ac2-bb2d-44e4c9b236f1",
          "showTitle": false,
          "tableResultSettingsMap": {},
          "title": ""
        },
        "id": "Ndpid_LVxHr5",
        "outputId": "7a7e2401-3f71-471c-fe80-4e40e8fdc521"
      },
      "outputs": [
        {
          "output_type": "display_data",
          "data": {
            "text/html": [
              "<style scoped>\n",
              "  .table-result-container {\n",
              "    max-height: 300px;\n",
              "    overflow: auto;\n",
              "  }\n",
              "  table, th, td {\n",
              "    border: 1px solid black;\n",
              "    border-collapse: collapse;\n",
              "  }\n",
              "  th, td {\n",
              "    padding: 5px;\n",
              "  }\n",
              "  th {\n",
              "    text-align: left;\n",
              "  }\n",
              "</style><div class='table-result-container'><table class='table-result'><thead style='background-color: white'><tr><th>product_category_name</th><th>cancellation_count</th></tr></thead><tbody><tr><td>utilidades_domesticas</td><td>59</td></tr><tr><td>esporte_lazer</td><td>52</td></tr><tr><td>informatica_acessorios</td><td>46</td></tr><tr><td>beleza_saude</td><td>40</td></tr><tr><td>moveis_decoracao</td><td>37</td></tr><tr><td>brinquedos</td><td>34</td></tr><tr><td>automotivo</td><td>30</td></tr><tr><td>relogios_presentes</td><td>21</td></tr><tr><td>bebes</td><td>20</td></tr><tr><td>ferramentas_jardim</td><td>20</td></tr><tr><td>telefonia</td><td>19</td></tr><tr><td>cama_mesa_banho</td><td>18</td></tr><tr><td>cool_stuff</td><td>17</td></tr><tr><td>null</td><td>15</td></tr><tr><td>perfumaria</td><td>15</td></tr><tr><td>papelaria</td><td>14</td></tr><tr><td>instrumentos_musicais</td><td>11</td></tr><tr><td>eletronicos</td><td>11</td></tr><tr><td>consoles_games</td><td>10</td></tr><tr><td>eletroportateis</td><td>8</td></tr><tr><td>livros_interesse_geral</td><td>7</td></tr><tr><td>fashion_bolsas_e_acessorios</td><td>6</td></tr><tr><td>construcao_ferramentas_seguranca</td><td>5</td></tr><tr><td>pet_shop</td><td>5</td></tr><tr><td>telefonia_fixa</td><td>4</td></tr><tr><td>construcao_ferramentas_jardim</td><td>4</td></tr><tr><td>malas_acessorios</td><td>4</td></tr><tr><td>eletrodomesticos_2</td><td>3</td></tr><tr><td>dvds_blu_ray</td><td>3</td></tr><tr><td>moveis_cozinha_area_de_servico_jantar_e_jardim</td><td>2</td></tr><tr><td>moveis_sala</td><td>2</td></tr><tr><td>eletrodomesticos</td><td>2</td></tr><tr><td>climatizacao</td><td>2</td></tr><tr><td>alimentos_bebidas</td><td>2</td></tr><tr><td>construcao_ferramentas_iluminacao</td><td>2</td></tr><tr><td>construcao_ferramentas_construcao</td><td>2</td></tr><tr><td>fashion_calcados</td><td>2</td></tr><tr><td>artes</td><td>1</td></tr><tr><td>casa_construcao</td><td>1</td></tr><tr><td>portateis_cozinha_e_preparadores_de_alimentos</td><td>1</td></tr><tr><td>moveis_escritorio</td><td>1</td></tr><tr><td>audio</td><td>1</td></tr><tr><td>fashion_roupa_masculina</td><td>1</td></tr><tr><td>fraldas_higiene</td><td>1</td></tr><tr><td>market_place</td><td>1</td></tr><tr><td>bebidas</td><td>1</td></tr><tr><td>pc_gamer</td><td>1</td></tr><tr><td>alimentos</td><td>1</td></tr><tr><td>artigos_de_natal</td><td>1</td></tr></tbody></table></div>"
            ]
          },
          "metadata": {
            "application/vnd.databricks.v1+output": {
              "addedWidgets": {},
              "aggData": [],
              "aggError": "",
              "aggOverflow": false,
              "aggSchema": [],
              "aggSeriesLimitReached": false,
              "aggType": "",
              "arguments": {},
              "columnCustomDisplayInfos": {},
              "data": [
                [
                  "utilidades_domesticas",
                  59
                ],
                [
                  "esporte_lazer",
                  52
                ],
                [
                  "informatica_acessorios",
                  46
                ],
                [
                  "beleza_saude",
                  40
                ],
                [
                  "moveis_decoracao",
                  37
                ],
                [
                  "brinquedos",
                  34
                ],
                [
                  "automotivo",
                  30
                ],
                [
                  "relogios_presentes",
                  21
                ],
                [
                  "bebes",
                  20
                ],
                [
                  "ferramentas_jardim",
                  20
                ],
                [
                  "telefonia",
                  19
                ],
                [
                  "cama_mesa_banho",
                  18
                ],
                [
                  "cool_stuff",
                  17
                ],
                [
                  null,
                  15
                ],
                [
                  "perfumaria",
                  15
                ],
                [
                  "papelaria",
                  14
                ],
                [
                  "instrumentos_musicais",
                  11
                ],
                [
                  "eletronicos",
                  11
                ],
                [
                  "consoles_games",
                  10
                ],
                [
                  "eletroportateis",
                  8
                ],
                [
                  "livros_interesse_geral",
                  7
                ],
                [
                  "fashion_bolsas_e_acessorios",
                  6
                ],
                [
                  "construcao_ferramentas_seguranca",
                  5
                ],
                [
                  "pet_shop",
                  5
                ],
                [
                  "telefonia_fixa",
                  4
                ],
                [
                  "construcao_ferramentas_jardim",
                  4
                ],
                [
                  "malas_acessorios",
                  4
                ],
                [
                  "eletrodomesticos_2",
                  3
                ],
                [
                  "dvds_blu_ray",
                  3
                ],
                [
                  "moveis_cozinha_area_de_servico_jantar_e_jardim",
                  2
                ],
                [
                  "moveis_sala",
                  2
                ],
                [
                  "eletrodomesticos",
                  2
                ],
                [
                  "climatizacao",
                  2
                ],
                [
                  "alimentos_bebidas",
                  2
                ],
                [
                  "construcao_ferramentas_iluminacao",
                  2
                ],
                [
                  "construcao_ferramentas_construcao",
                  2
                ],
                [
                  "fashion_calcados",
                  2
                ],
                [
                  "artes",
                  1
                ],
                [
                  "casa_construcao",
                  1
                ],
                [
                  "portateis_cozinha_e_preparadores_de_alimentos",
                  1
                ],
                [
                  "moveis_escritorio",
                  1
                ],
                [
                  "audio",
                  1
                ],
                [
                  "fashion_roupa_masculina",
                  1
                ],
                [
                  "fraldas_higiene",
                  1
                ],
                [
                  "market_place",
                  1
                ],
                [
                  "bebidas",
                  1
                ],
                [
                  "pc_gamer",
                  1
                ],
                [
                  "alimentos",
                  1
                ],
                [
                  "artigos_de_natal",
                  1
                ]
              ],
              "datasetInfos": [],
              "dbfsResultPath": null,
              "isJsonSchema": true,
              "metadata": {},
              "overflow": false,
              "plotOptions": {
                "customPlotOptions": {},
                "displayType": "table",
                "pivotAggregation": null,
                "pivotColumns": null,
                "xColumns": null,
                "yColumns": null
              },
              "removedWidgets": [],
              "schema": [
                {
                  "metadata": "{}",
                  "name": "product_category_name",
                  "type": "\"string\""
                },
                {
                  "metadata": "{}",
                  "name": "cancellation_count",
                  "type": "\"long\""
                }
              ],
              "type": "table"
            }
          }
        }
      ],
      "source": [
        "%sql\n",
        "SELECT\n",
        "    product_category_name,\n",
        "    COUNT(*) AS cancellation_count\n",
        "FROM\n",
        "    Gold.dados_agregados\n",
        "WHERE\n",
        "    order_status = 'canceled'\n",
        "GROUP BY\n",
        "    product_category_name\n",
        "ORDER BY\n",
        "    cancellation_count DESC;"
      ]
    },
    {
      "cell_type": "markdown",
      "metadata": {
        "application/vnd.databricks.v1+cell": {
          "cellMetadata": {},
          "inputWidgets": {},
          "nuid": "4f318218-885c-48b2-93e8-8b4f9f9dd8ff",
          "showTitle": false,
          "tableResultSettingsMap": {},
          "title": ""
        },
        "id": "aMHdigQdxHr5"
      },
      "source": [
        "Categorias que possuem a maior taxa de cancelamento"
      ]
    },
    {
      "cell_type": "code",
      "execution_count": null,
      "metadata": {
        "application/vnd.databricks.v1+cell": {
          "cellMetadata": {
            "byteLimit": 2048000,
            "implicitDf": true,
            "rowLimit": 10000
          },
          "inputWidgets": {},
          "nuid": "f62a14fd-37b2-43e3-861b-f2397db614eb",
          "showTitle": false,
          "tableResultSettingsMap": {},
          "title": ""
        },
        "id": "QNvh9UlCxHr5",
        "outputId": "6b8c6b9e-3160-4b91-fe91-da97dfb2136c"
      },
      "outputs": [
        {
          "output_type": "display_data",
          "data": {
            "text/html": [
              "<style scoped>\n",
              "  .table-result-container {\n",
              "    max-height: 300px;\n",
              "    overflow: auto;\n",
              "  }\n",
              "  table, th, td {\n",
              "    border: 1px solid black;\n",
              "    border-collapse: collapse;\n",
              "  }\n",
              "  th, td {\n",
              "    padding: 5px;\n",
              "  }\n",
              "  th {\n",
              "    text-align: left;\n",
              "  }\n",
              "</style><div class='table-result-container'><table class='table-result'><thead style='background-color: white'><tr><th>product_category_name</th><th>cancellation_count</th><th>total_orders</th><th>cancellation_rate</th></tr></thead><tbody><tr><td>pc_gamer</td><td>1</td><td>10</td><td>10.00</td></tr><tr><td>portateis_cozinha_e_preparadores_de_alimentos</td><td>1</td><td>15</td><td>6.67</td></tr><tr><td>dvds_blu_ray</td><td>3</td><td>71</td><td>4.23</td></tr><tr><td>fraldas_higiene</td><td>1</td><td>39</td><td>2.56</td></tr><tr><td>construcao_ferramentas_seguranca</td><td>5</td><td>199</td><td>2.51</td></tr><tr><td>construcao_ferramentas_jardim</td><td>4</td><td>245</td><td>1.63</td></tr><tr><td>instrumentos_musicais</td><td>11</td><td>718</td><td>1.53</td></tr><tr><td>telefonia_fixa</td><td>4</td><td>271</td><td>1.48</td></tr><tr><td>livros_interesse_geral</td><td>7</td><td>565</td><td>1.24</td></tr><tr><td>eletroportateis</td><td>8</td><td>701</td><td>1.14</td></tr><tr><td>eletrodomesticos_2</td><td>3</td><td>268</td><td>1.12</td></tr><tr><td>null</td><td>15</td><td>1698</td><td>0.88</td></tr><tr><td>consoles_games</td><td>10</td><td>1191</td><td>0.84</td></tr><tr><td>brinquedos</td><td>34</td><td>4273</td><td>0.80</td></tr><tr><td>utilidades_domesticas</td><td>59</td><td>7355</td><td>0.80</td></tr></tbody></table></div>"
            ]
          },
          "metadata": {
            "application/vnd.databricks.v1+output": {
              "addedWidgets": {},
              "aggData": [],
              "aggError": "",
              "aggOverflow": false,
              "aggSchema": [],
              "aggSeriesLimitReached": false,
              "aggType": "",
              "arguments": {},
              "columnCustomDisplayInfos": {},
              "data": [
                [
                  "pc_gamer",
                  1,
                  10,
                  "10.00"
                ],
                [
                  "portateis_cozinha_e_preparadores_de_alimentos",
                  1,
                  15,
                  "6.67"
                ],
                [
                  "dvds_blu_ray",
                  3,
                  71,
                  "4.23"
                ],
                [
                  "fraldas_higiene",
                  1,
                  39,
                  "2.56"
                ],
                [
                  "construcao_ferramentas_seguranca",
                  5,
                  199,
                  "2.51"
                ],
                [
                  "construcao_ferramentas_jardim",
                  4,
                  245,
                  "1.63"
                ],
                [
                  "instrumentos_musicais",
                  11,
                  718,
                  "1.53"
                ],
                [
                  "telefonia_fixa",
                  4,
                  271,
                  "1.48"
                ],
                [
                  "livros_interesse_geral",
                  7,
                  565,
                  "1.24"
                ],
                [
                  "eletroportateis",
                  8,
                  701,
                  "1.14"
                ],
                [
                  "eletrodomesticos_2",
                  3,
                  268,
                  "1.12"
                ],
                [
                  null,
                  15,
                  1698,
                  "0.88"
                ],
                [
                  "consoles_games",
                  10,
                  1191,
                  "0.84"
                ],
                [
                  "brinquedos",
                  34,
                  4273,
                  "0.80"
                ],
                [
                  "utilidades_domesticas",
                  59,
                  7355,
                  "0.80"
                ]
              ],
              "datasetInfos": [],
              "dbfsResultPath": null,
              "isJsonSchema": true,
              "metadata": {},
              "overflow": false,
              "plotOptions": {
                "customPlotOptions": {},
                "displayType": "table",
                "pivotAggregation": null,
                "pivotColumns": null,
                "xColumns": null,
                "yColumns": null
              },
              "removedWidgets": [],
              "schema": [
                {
                  "metadata": "{}",
                  "name": "product_category_name",
                  "type": "\"string\""
                },
                {
                  "metadata": "{}",
                  "name": "cancellation_count",
                  "type": "\"long\""
                },
                {
                  "metadata": "{}",
                  "name": "total_orders",
                  "type": "\"long\""
                },
                {
                  "metadata": "{}",
                  "name": "cancellation_rate",
                  "type": "\"decimal(27,2)\""
                }
              ],
              "type": "table"
            }
          }
        }
      ],
      "source": [
        "%sql\n",
        "SELECT\n",
        "    product_category_name,\n",
        "    COUNT(CASE WHEN order_status = 'canceled' THEN 1 END) AS cancellation_count,\n",
        "    COUNT(*) AS total_orders,\n",
        "    ROUND((COUNT(CASE WHEN order_status = 'canceled' THEN 1 END) * 100.0) / COUNT(*), 2) AS cancellation_rate\n",
        "FROM\n",
        "    Gold.dados_agregados\n",
        "GROUP BY\n",
        "    product_category_name\n",
        "ORDER BY\n",
        "    cancellation_rate DESC\n",
        "    LIMIT 15;"
      ]
    },
    {
      "cell_type": "markdown",
      "metadata": {
        "application/vnd.databricks.v1+cell": {
          "cellMetadata": {},
          "inputWidgets": {},
          "nuid": "7aa63d91-7213-4588-a4d3-c51f78caf651",
          "showTitle": false,
          "tableResultSettingsMap": {},
          "title": ""
        },
        "id": "dQWrruRCxHr6"
      },
      "source": [
        "Taxa de cancelamento por cidade"
      ]
    },
    {
      "cell_type": "code",
      "execution_count": null,
      "metadata": {
        "application/vnd.databricks.v1+cell": {
          "cellMetadata": {
            "byteLimit": 2048000,
            "implicitDf": true,
            "rowLimit": 10000
          },
          "inputWidgets": {},
          "nuid": "658d665b-068f-4812-acd6-4a1c4b198d7e",
          "showTitle": false,
          "tableResultSettingsMap": {},
          "title": ""
        },
        "id": "ebgPMaerxHr6",
        "outputId": "20456975-84a2-4cf3-c1aa-4089f09e5050"
      },
      "outputs": [
        {
          "output_type": "display_data",
          "data": {
            "text/html": [
              "<style scoped>\n",
              "  .table-result-container {\n",
              "    max-height: 300px;\n",
              "    overflow: auto;\n",
              "  }\n",
              "  table, th, td {\n",
              "    border: 1px solid black;\n",
              "    border-collapse: collapse;\n",
              "  }\n",
              "  th, td {\n",
              "    padding: 5px;\n",
              "  }\n",
              "  th {\n",
              "    text-align: left;\n",
              "  }\n",
              "</style><div class='table-result-container'><table class='table-result'><thead style='background-color: white'><tr><th>seller_city</th><th>num_cancellations</th><th>num_orders</th><th>cancellation_rate</th></tr></thead><tbody><tr><td>sao paulo</td><td>168</td><td>29157</td><td>0.57619096614878</td></tr><tr><td>santo andre</td><td>19</td><td>3095</td><td>0.61389337641357</td></tr><tr><td>campinas</td><td>16</td><td>1455</td><td>1.09965635738832</td></tr><tr><td>belo horizonte</td><td>16</td><td>2679</td><td>0.59723777528929</td></tr><tr><td>sorocaba</td><td>15</td><td>639</td><td>2.34741784037559</td></tr><tr><td>curitiba</td><td>14</td><td>3134</td><td>0.44671346522017</td></tr><tr><td>rio de janeiro</td><td>14</td><td>2529</td><td>0.55357848952155</td></tr><tr><td>guarulhos</td><td>13</td><td>2438</td><td>0.53322395406071</td></tr><tr><td>sao jose do rio preto</td><td>11</td><td>2682</td><td>0.41014168530947</td></tr><tr><td>sao jose dos campos</td><td>11</td><td>828</td><td>1.32850241545894</td></tr><tr><td>ibitinga</td><td>10</td><td>8242</td><td>0.12132977432662</td></tr><tr><td>florianopolis</td><td>10</td><td>259</td><td>3.86100386100386</td></tr><tr><td>ribeirao preto</td><td>10</td><td>2364</td><td>0.42301184433164</td></tr><tr><td>pederneiras</td><td>9</td><td>17</td><td>52.94117647058824</td></tr><tr><td>petropolis</td><td>8</td><td>870</td><td>0.91954022988506</td></tr></tbody></table></div>"
            ]
          },
          "metadata": {
            "application/vnd.databricks.v1+output": {
              "addedWidgets": {},
              "aggData": [],
              "aggError": "",
              "aggOverflow": false,
              "aggSchema": [],
              "aggSeriesLimitReached": false,
              "aggType": "",
              "arguments": {},
              "columnCustomDisplayInfos": {},
              "data": [
                [
                  "sao paulo",
                  168,
                  29157,
                  "0.57619096614878"
                ],
                [
                  "santo andre",
                  19,
                  3095,
                  "0.61389337641357"
                ],
                [
                  "campinas",
                  16,
                  1455,
                  "1.09965635738832"
                ],
                [
                  "belo horizonte",
                  16,
                  2679,
                  "0.59723777528929"
                ],
                [
                  "sorocaba",
                  15,
                  639,
                  "2.34741784037559"
                ],
                [
                  "curitiba",
                  14,
                  3134,
                  "0.44671346522017"
                ],
                [
                  "rio de janeiro",
                  14,
                  2529,
                  "0.55357848952155"
                ],
                [
                  "guarulhos",
                  13,
                  2438,
                  "0.53322395406071"
                ],
                [
                  "sao jose do rio preto",
                  11,
                  2682,
                  "0.41014168530947"
                ],
                [
                  "sao jose dos campos",
                  11,
                  828,
                  "1.32850241545894"
                ],
                [
                  "ibitinga",
                  10,
                  8242,
                  "0.12132977432662"
                ],
                [
                  "florianopolis",
                  10,
                  259,
                  "3.86100386100386"
                ],
                [
                  "ribeirao preto",
                  10,
                  2364,
                  "0.42301184433164"
                ],
                [
                  "pederneiras",
                  9,
                  17,
                  "52.94117647058824"
                ],
                [
                  "petropolis",
                  8,
                  870,
                  "0.91954022988506"
                ]
              ],
              "datasetInfos": [],
              "dbfsResultPath": null,
              "isJsonSchema": true,
              "metadata": {},
              "overflow": false,
              "plotOptions": {
                "customPlotOptions": {},
                "displayType": "table",
                "pivotAggregation": null,
                "pivotColumns": null,
                "xColumns": null,
                "yColumns": null
              },
              "removedWidgets": [],
              "schema": [
                {
                  "metadata": "{}",
                  "name": "seller_city",
                  "type": "\"string\""
                },
                {
                  "metadata": "{}",
                  "name": "num_cancellations",
                  "type": "\"long\""
                },
                {
                  "metadata": "{}",
                  "name": "num_orders",
                  "type": "\"long\""
                },
                {
                  "metadata": "{}",
                  "name": "cancellation_rate",
                  "type": "\"decimal(38,14)\""
                }
              ],
              "type": "table"
            }
          }
        }
      ],
      "source": [
        "%sql\n",
        "SELECT\n",
        "    seller_city,\n",
        "    COUNT(CASE WHEN order_status = 'canceled' THEN 1 END) AS num_cancellations,\n",
        "    COUNT(*) AS num_orders,\n",
        "    (COUNT(CASE WHEN order_status = 'canceled' THEN 1 END) * 100.0) / COUNT(*) AS cancellation_rate\n",
        "FROM\n",
        "    Gold.dados_agregados\n",
        "GROUP BY\n",
        "    seller_city\n",
        "ORDER BY\n",
        "    num_cancellations DESC\n",
        "    LIMIT 15;"
      ]
    },
    {
      "cell_type": "markdown",
      "metadata": {
        "application/vnd.databricks.v1+cell": {
          "cellMetadata": {},
          "inputWidgets": {},
          "nuid": "191f529b-311e-41d3-a9e9-bcd0e639f2e2",
          "showTitle": false,
          "tableResultSettingsMap": {},
          "title": ""
        },
        "id": "XFhf4v3vxHr6"
      },
      "source": [
        "Tempo de entrega vs cancelamento - Tempo entre aprovação do pagamento e entrega ao cliente"
      ]
    },
    {
      "cell_type": "code",
      "execution_count": null,
      "metadata": {
        "application/vnd.databricks.v1+cell": {
          "cellMetadata": {
            "byteLimit": 2048000,
            "implicitDf": true,
            "rowLimit": 10000
          },
          "inputWidgets": {},
          "nuid": "ef698d94-af1f-403e-9d28-e9a909efc663",
          "showTitle": false,
          "tableResultSettingsMap": {},
          "title": ""
        },
        "id": "VRGjgP3nxHr6",
        "outputId": "54fe4777-67cd-4aa2-c216-d8f7e24be2f6"
      },
      "outputs": [
        {
          "output_type": "display_data",
          "data": {
            "text/html": [
              "<style scoped>\n",
              "  .table-result-container {\n",
              "    max-height: 300px;\n",
              "    overflow: auto;\n",
              "  }\n",
              "  table, th, td {\n",
              "    border: 1px solid black;\n",
              "    border-collapse: collapse;\n",
              "  }\n",
              "  th, td {\n",
              "    padding: 5px;\n",
              "  }\n",
              "  th {\n",
              "    text-align: left;\n",
              "  }\n",
              "</style><div class='table-result-container'><table class='table-result'><thead style='background-color: white'><tr><th>order_id</th><th>order_status</th><th>order_approved_at_new</th><th>order_delivered_customer_date_new</th><th>delivery_time_days</th><th>is_cancelled</th></tr></thead><tbody><tr><td>65d1e226dfaeb8cdc42f665422522d14</td><td>canceled</td><td>2016-10-04</td><td>2016-11-08</td><td>35</td><td>1</td></tr><tr><td>1950d777989f6a877539f53795b4c3c3</td><td>canceled</td><td>2018-02-19</td><td>2018-03-21</td><td>30</td><td>1</td></tr><tr><td>2c45c33d2f9cb8ff8b1c86cc28c11c30</td><td>canceled</td><td>2016-10-10</td><td>2016-11-09</td><td>30</td><td>1</td></tr><tr><td>8beb59392e21af5eb9547ae1a9938d06</td><td>canceled</td><td>2016-10-09</td><td>2016-10-19</td><td>10</td><td>1</td></tr><tr><td>dabf2b0e35b423f94618bf965fcb7514</td><td>canceled</td><td>2016-10-09</td><td>2016-10-16</td><td>7</td><td>1</td></tr><tr><td>770d331c84e5b214bd9dc70a10b829d0</td><td>canceled</td><td>2016-10-07</td><td>2016-10-14</td><td>7</td><td>1</td></tr><tr><td>dabf2b0e35b423f94618bf965fcb7514</td><td>canceled</td><td>2016-10-09</td><td>2016-10-16</td><td>7</td><td>1</td></tr></tbody></table></div>"
            ]
          },
          "metadata": {
            "application/vnd.databricks.v1+output": {
              "addedWidgets": {},
              "aggData": [],
              "aggError": "",
              "aggOverflow": false,
              "aggSchema": [],
              "aggSeriesLimitReached": false,
              "aggType": "",
              "arguments": {},
              "columnCustomDisplayInfos": {},
              "data": [
                [
                  "65d1e226dfaeb8cdc42f665422522d14",
                  "canceled",
                  "2016-10-04",
                  "2016-11-08",
                  35,
                  1
                ],
                [
                  "1950d777989f6a877539f53795b4c3c3",
                  "canceled",
                  "2018-02-19",
                  "2018-03-21",
                  30,
                  1
                ],
                [
                  "2c45c33d2f9cb8ff8b1c86cc28c11c30",
                  "canceled",
                  "2016-10-10",
                  "2016-11-09",
                  30,
                  1
                ],
                [
                  "8beb59392e21af5eb9547ae1a9938d06",
                  "canceled",
                  "2016-10-09",
                  "2016-10-19",
                  10,
                  1
                ],
                [
                  "dabf2b0e35b423f94618bf965fcb7514",
                  "canceled",
                  "2016-10-09",
                  "2016-10-16",
                  7,
                  1
                ],
                [
                  "770d331c84e5b214bd9dc70a10b829d0",
                  "canceled",
                  "2016-10-07",
                  "2016-10-14",
                  7,
                  1
                ],
                [
                  "dabf2b0e35b423f94618bf965fcb7514",
                  "canceled",
                  "2016-10-09",
                  "2016-10-16",
                  7,
                  1
                ]
              ],
              "datasetInfos": [],
              "dbfsResultPath": null,
              "isJsonSchema": true,
              "metadata": {},
              "overflow": false,
              "plotOptions": {
                "customPlotOptions": {},
                "displayType": "table",
                "pivotAggregation": null,
                "pivotColumns": null,
                "xColumns": null,
                "yColumns": null
              },
              "removedWidgets": [],
              "schema": [
                {
                  "metadata": "{}",
                  "name": "order_id",
                  "type": "\"string\""
                },
                {
                  "metadata": "{}",
                  "name": "order_status",
                  "type": "\"string\""
                },
                {
                  "metadata": "{}",
                  "name": "order_approved_at_new",
                  "type": "\"date\""
                },
                {
                  "metadata": "{}",
                  "name": "order_delivered_customer_date_new",
                  "type": "\"date\""
                },
                {
                  "metadata": "{}",
                  "name": "delivery_time_days",
                  "type": "\"integer\""
                },
                {
                  "metadata": "{}",
                  "name": "is_cancelled",
                  "type": "\"integer\""
                }
              ],
              "type": "table"
            }
          }
        }
      ],
      "source": [
        "%sql\n",
        "SELECT -- Análise do tempo de entrega e sua relação com o cancelamento de pedidos\n",
        "    order_id,\n",
        "    order_status,\n",
        "    order_approved_at_new,\n",
        "    order_delivered_customer_date_new,\n",
        "    DATEDIFF(order_delivered_customer_date_new, order_approved_at_new) AS delivery_time_days,\n",
        "    CASE\n",
        "        WHEN order_status = 'canceled' THEN 1\n",
        "        ELSE 0\n",
        "    END AS is_cancelled\n",
        "FROM\n",
        "    Gold.dados_agregados\n",
        "WHERE\n",
        "    order_status = 'canceled'\n",
        "    AND order_delivered_customer_date_new IS NOT NULL\n",
        "    AND order_approved_at_new IS NOT NULL\n",
        "ORDER BY\n",
        "    delivery_time_days DESC;"
      ]
    },
    {
      "cell_type": "markdown",
      "metadata": {
        "application/vnd.databricks.v1+cell": {
          "cellMetadata": {},
          "inputWidgets": {},
          "nuid": "bee4d44c-062b-465e-84cc-3abe71d2f902",
          "showTitle": false,
          "tableResultSettingsMap": {},
          "title": ""
        },
        "id": "bBRdcdmHxHr7"
      },
      "source": [
        "Tempo de entrega ao transportador vs cancelamento - Tempo entre aprovação do pagamento e entrega ao transportador"
      ]
    },
    {
      "cell_type": "code",
      "execution_count": null,
      "metadata": {
        "application/vnd.databricks.v1+cell": {
          "cellMetadata": {
            "byteLimit": 2048000,
            "implicitDf": true,
            "rowLimit": 10000
          },
          "inputWidgets": {},
          "nuid": "dfb3c67c-8775-49ac-9484-211fed0bb9d5",
          "showTitle": false,
          "tableResultSettingsMap": {},
          "title": ""
        },
        "id": "6FHrtgFPxHr7",
        "outputId": "473aa5d1-d127-40b5-fd45-3572a32bac3b"
      },
      "outputs": [
        {
          "output_type": "display_data",
          "data": {
            "text/html": [
              "<style scoped>\n",
              "  .table-result-container {\n",
              "    max-height: 300px;\n",
              "    overflow: auto;\n",
              "  }\n",
              "  table, th, td {\n",
              "    border: 1px solid black;\n",
              "    border-collapse: collapse;\n",
              "  }\n",
              "  th, td {\n",
              "    padding: 5px;\n",
              "  }\n",
              "  th {\n",
              "    text-align: left;\n",
              "  }\n",
              "</style><div class='table-result-container'><table class='table-result'><thead style='background-color: white'><tr><th>order_id</th><th>order_status</th><th>order_approved_at_new</th><th>order_delivered_carrier_date_new</th><th>deliverytot_time_days</th><th>is_cancelled</th></tr></thead><tbody><tr><td>1def7af24cb7182497acfd953f6dd88b</td><td>canceled</td><td>2017-12-23</td><td>2018-01-30</td><td>38</td><td>1</td></tr><tr><td>65d1e226dfaeb8cdc42f665422522d14</td><td>canceled</td><td>2016-10-04</td><td>2016-10-25</td><td>21</td><td>1</td></tr><tr><td>2c0032906c603dcc21cd954828fa77d0</td><td>canceled</td><td>2018-02-06</td><td>2018-02-16</td><td>10</td><td>1</td></tr><tr><td>47e96b5cb6f0592d336b6bf8a817d1c3</td><td>canceled</td><td>2018-01-22</td><td>2018-02-01</td><td>10</td><td>1</td></tr><tr><td>9ec3685b1f21c7dfff4f656392b186dd</td><td>canceled</td><td>2018-02-20</td><td>2018-02-27</td><td>7</td><td>1</td></tr><tr><td>854f8cb8dacdc3abc4cce7a7df6fcc1f</td><td>canceled</td><td>2018-02-02</td><td>2018-02-08</td><td>6</td><td>1</td></tr><tr><td>854f8cb8dacdc3abc4cce7a7df6fcc1f</td><td>canceled</td><td>2018-02-02</td><td>2018-02-08</td><td>6</td><td>1</td></tr><tr><td>fe9fae71b4fa7d05f1934adc54391f8d</td><td>canceled</td><td>2018-02-15</td><td>2018-02-21</td><td>6</td><td>1</td></tr><tr><td>4472eca3b65b1dca5e0d59c0e4e0c6bc</td><td>canceled</td><td>2018-02-10</td><td>2018-02-15</td><td>5</td><td>1</td></tr><tr><td>8beb59392e21af5eb9547ae1a9938d06</td><td>canceled</td><td>2016-10-09</td><td>2016-10-14</td><td>5</td><td>1</td></tr><tr><td>5abf37ab57e23f69a9c8ab98c4800273</td><td>canceled</td><td>2018-01-28</td><td>2018-02-01</td><td>4</td><td>1</td></tr><tr><td>2c45c33d2f9cb8ff8b1c86cc28c11c30</td><td>canceled</td><td>2016-10-10</td><td>2016-10-14</td><td>4</td><td>1</td></tr><tr><td>dabf2b0e35b423f94618bf965fcb7514</td><td>canceled</td><td>2016-10-09</td><td>2016-10-13</td><td>4</td><td>1</td></tr><tr><td>2db84a082bda455eb1da10727e7ca621</td><td>canceled</td><td>2018-02-02</td><td>2018-02-06</td><td>4</td><td>1</td></tr><tr><td>dabf2b0e35b423f94618bf965fcb7514</td><td>canceled</td><td>2016-10-09</td><td>2016-10-13</td><td>4</td><td>1</td></tr></tbody></table></div>"
            ]
          },
          "metadata": {
            "application/vnd.databricks.v1+output": {
              "addedWidgets": {},
              "aggData": [],
              "aggError": "",
              "aggOverflow": false,
              "aggSchema": [],
              "aggSeriesLimitReached": false,
              "aggType": "",
              "arguments": {},
              "columnCustomDisplayInfos": {},
              "data": [
                [
                  "1def7af24cb7182497acfd953f6dd88b",
                  "canceled",
                  "2017-12-23",
                  "2018-01-30",
                  38,
                  1
                ],
                [
                  "65d1e226dfaeb8cdc42f665422522d14",
                  "canceled",
                  "2016-10-04",
                  "2016-10-25",
                  21,
                  1
                ],
                [
                  "2c0032906c603dcc21cd954828fa77d0",
                  "canceled",
                  "2018-02-06",
                  "2018-02-16",
                  10,
                  1
                ],
                [
                  "47e96b5cb6f0592d336b6bf8a817d1c3",
                  "canceled",
                  "2018-01-22",
                  "2018-02-01",
                  10,
                  1
                ],
                [
                  "9ec3685b1f21c7dfff4f656392b186dd",
                  "canceled",
                  "2018-02-20",
                  "2018-02-27",
                  7,
                  1
                ],
                [
                  "854f8cb8dacdc3abc4cce7a7df6fcc1f",
                  "canceled",
                  "2018-02-02",
                  "2018-02-08",
                  6,
                  1
                ],
                [
                  "854f8cb8dacdc3abc4cce7a7df6fcc1f",
                  "canceled",
                  "2018-02-02",
                  "2018-02-08",
                  6,
                  1
                ],
                [
                  "fe9fae71b4fa7d05f1934adc54391f8d",
                  "canceled",
                  "2018-02-15",
                  "2018-02-21",
                  6,
                  1
                ],
                [
                  "4472eca3b65b1dca5e0d59c0e4e0c6bc",
                  "canceled",
                  "2018-02-10",
                  "2018-02-15",
                  5,
                  1
                ],
                [
                  "8beb59392e21af5eb9547ae1a9938d06",
                  "canceled",
                  "2016-10-09",
                  "2016-10-14",
                  5,
                  1
                ],
                [
                  "5abf37ab57e23f69a9c8ab98c4800273",
                  "canceled",
                  "2018-01-28",
                  "2018-02-01",
                  4,
                  1
                ],
                [
                  "2c45c33d2f9cb8ff8b1c86cc28c11c30",
                  "canceled",
                  "2016-10-10",
                  "2016-10-14",
                  4,
                  1
                ],
                [
                  "dabf2b0e35b423f94618bf965fcb7514",
                  "canceled",
                  "2016-10-09",
                  "2016-10-13",
                  4,
                  1
                ],
                [
                  "2db84a082bda455eb1da10727e7ca621",
                  "canceled",
                  "2018-02-02",
                  "2018-02-06",
                  4,
                  1
                ],
                [
                  "dabf2b0e35b423f94618bf965fcb7514",
                  "canceled",
                  "2016-10-09",
                  "2016-10-13",
                  4,
                  1
                ]
              ],
              "datasetInfos": [],
              "dbfsResultPath": null,
              "isJsonSchema": true,
              "metadata": {},
              "overflow": false,
              "plotOptions": {
                "customPlotOptions": {},
                "displayType": "table",
                "pivotAggregation": null,
                "pivotColumns": null,
                "xColumns": null,
                "yColumns": null
              },
              "removedWidgets": [],
              "schema": [
                {
                  "metadata": "{}",
                  "name": "order_id",
                  "type": "\"string\""
                },
                {
                  "metadata": "{}",
                  "name": "order_status",
                  "type": "\"string\""
                },
                {
                  "metadata": "{}",
                  "name": "order_approved_at_new",
                  "type": "\"date\""
                },
                {
                  "metadata": "{}",
                  "name": "order_delivered_carrier_date_new",
                  "type": "\"date\""
                },
                {
                  "metadata": "{}",
                  "name": "deliverytot_time_days",
                  "type": "\"integer\""
                },
                {
                  "metadata": "{}",
                  "name": "is_cancelled",
                  "type": "\"integer\""
                }
              ],
              "type": "table"
            }
          }
        }
      ],
      "source": [
        "%sql\n",
        "SELECT\n",
        "    order_id,\n",
        "    order_status,\n",
        "    order_approved_at_new,\n",
        "    order_delivered_carrier_date_new,\n",
        "    DATEDIFF(order_delivered_carrier_date_new, order_approved_at_new) AS deliverytot_time_days,\n",
        "    CASE\n",
        "        WHEN order_status = 'canceled' THEN 1\n",
        "        ELSE 0\n",
        "    END AS is_cancelled\n",
        "FROM\n",
        "    Gold.dados_agregados\n",
        "WHERE\n",
        "    order_status = 'canceled'\n",
        "    AND order_delivered_carrier_date_new IS NOT NULL\n",
        "    AND order_approved_at_new IS NOT NULL\n",
        "ORDER BY\n",
        "    deliverytot_time_days DESC\n",
        "    LIMIT 15;"
      ]
    },
    {
      "cell_type": "markdown",
      "metadata": {
        "application/vnd.databricks.v1+cell": {
          "cellMetadata": {},
          "inputWidgets": {},
          "nuid": "618759ff-f6b4-42ff-b6ea-4c68d1c8be74",
          "showTitle": false,
          "tableResultSettingsMap": {},
          "title": ""
        },
        "id": "ofzLVJezxHr7"
      },
      "source": [
        "Tempo de entrega médio de pedidos cancelados versus não cancelados"
      ]
    },
    {
      "cell_type": "code",
      "execution_count": null,
      "metadata": {
        "application/vnd.databricks.v1+cell": {
          "cellMetadata": {
            "byteLimit": 2048000,
            "implicitDf": true,
            "rowLimit": 10000
          },
          "inputWidgets": {},
          "nuid": "63407956-b5c9-44f7-b8b6-0aa025583cc3",
          "showTitle": false,
          "tableResultSettingsMap": {},
          "title": ""
        },
        "id": "MhUt5BE2xHr7",
        "outputId": "00e532a8-d101-44fc-a219-72b28b0af726"
      },
      "outputs": [
        {
          "output_type": "display_data",
          "data": {
            "text/html": [
              "<style scoped>\n",
              "  .table-result-container {\n",
              "    max-height: 300px;\n",
              "    overflow: auto;\n",
              "  }\n",
              "  table, th, td {\n",
              "    border: 1px solid black;\n",
              "    border-collapse: collapse;\n",
              "  }\n",
              "  th, td {\n",
              "    padding: 5px;\n",
              "  }\n",
              "  th {\n",
              "    text-align: left;\n",
              "  }\n",
              "</style><div class='table-result-container'><table class='table-result'><thead style='background-color: white'><tr><th>pedido_status</th><th>avg_delivery_time_days</th></tr></thead><tbody><tr><td>Não Cancelado</td><td>11.904914269815324</td></tr><tr><td>Cancelado</td><td>18.0</td></tr></tbody></table></div>"
            ]
          },
          "metadata": {
            "application/vnd.databricks.v1+output": {
              "addedWidgets": {},
              "aggData": [],
              "aggError": "",
              "aggOverflow": false,
              "aggSchema": [],
              "aggSeriesLimitReached": false,
              "aggType": "",
              "arguments": {},
              "columnCustomDisplayInfos": {},
              "data": [
                [
                  "Não Cancelado",
                  11.904914269815324
                ],
                [
                  "Cancelado",
                  18
                ]
              ],
              "datasetInfos": [],
              "dbfsResultPath": null,
              "isJsonSchema": true,
              "metadata": {},
              "overflow": false,
              "plotOptions": {
                "customPlotOptions": {},
                "displayType": "table",
                "pivotAggregation": null,
                "pivotColumns": null,
                "xColumns": null,
                "yColumns": null
              },
              "removedWidgets": [],
              "schema": [
                {
                  "metadata": "{}",
                  "name": "pedido_status",
                  "type": "\"string\""
                },
                {
                  "metadata": "{}",
                  "name": "avg_delivery_time_days",
                  "type": "\"double\""
                }
              ],
              "type": "table"
            }
          }
        }
      ],
      "source": [
        "%sql\n",
        "SELECT\n",
        "    CASE\n",
        "        WHEN order_status = 'canceled' THEN 'Cancelado'\n",
        "        ELSE 'Não Cancelado'\n",
        "    END AS pedido_status,\n",
        "    AVG(DATEDIFF(order_delivered_customer_date_new, order_approved_at_new)) AS avg_delivery_time_days\n",
        "FROM\n",
        "    Gold.dados_agregados\n",
        "WHERE\n",
        "    order_delivered_customer_date_new IS NOT NULL\n",
        "    AND order_approved_at_new IS NOT NULL\n",
        "GROUP BY\n",
        "    pedido_status;"
      ]
    },
    {
      "cell_type": "markdown",
      "metadata": {
        "application/vnd.databricks.v1+cell": {
          "cellMetadata": {},
          "inputWidgets": {},
          "nuid": "fe7def5c-9258-4ef6-996c-849f2616546c",
          "showTitle": false,
          "tableResultSettingsMap": {},
          "title": ""
        },
        "id": "DhOHgGjCxHr8"
      },
      "source": [
        "Tempo de entrega vs cancelamento - Comparação entre a data estimada de entrega e a data real de entrega"
      ]
    },
    {
      "cell_type": "code",
      "execution_count": null,
      "metadata": {
        "application/vnd.databricks.v1+cell": {
          "cellMetadata": {
            "byteLimit": 2048000,
            "implicitDf": true,
            "rowLimit": 10000
          },
          "inputWidgets": {},
          "nuid": "27fe0384-b2a1-4b14-bee7-23db8012109e",
          "showTitle": false,
          "tableResultSettingsMap": {},
          "title": ""
        },
        "id": "NIrpk4csxHr8",
        "outputId": "c5d9dcab-145c-4c43-b92f-9fdfa3eecd2e"
      },
      "outputs": [
        {
          "output_type": "display_data",
          "data": {
            "text/html": [
              "<style scoped>\n",
              "  .table-result-container {\n",
              "    max-height: 300px;\n",
              "    overflow: auto;\n",
              "  }\n",
              "  table, th, td {\n",
              "    border: 1px solid black;\n",
              "    border-collapse: collapse;\n",
              "  }\n",
              "  th, td {\n",
              "    padding: 5px;\n",
              "  }\n",
              "  th {\n",
              "    text-align: left;\n",
              "  }\n",
              "</style><div class='table-result-container'><table class='table-result'><thead style='background-color: white'><tr><th>order_id</th><th>order_status</th><th>order_estimated_delivery_date_new</th><th>order_delivered_customer_date_new</th><th>delay_days</th></tr></thead><tbody><tr><td>1950d777989f6a877539f53795b4c3c3</td><td>canceled</td><td>2018-03-09</td><td>2018-03-21</td><td>12</td></tr><tr><td>65d1e226dfaeb8cdc42f665422522d14</td><td>canceled</td><td>2016-11-25</td><td>2016-11-08</td><td>-17</td></tr><tr><td>2c45c33d2f9cb8ff8b1c86cc28c11c30</td><td>canceled</td><td>2016-12-08</td><td>2016-11-09</td><td>-29</td></tr><tr><td>8beb59392e21af5eb9547ae1a9938d06</td><td>canceled</td><td>2016-11-30</td><td>2016-10-19</td><td>-42</td></tr><tr><td>dabf2b0e35b423f94618bf965fcb7514</td><td>canceled</td><td>2016-11-30</td><td>2016-10-16</td><td>-45</td></tr><tr><td>dabf2b0e35b423f94618bf965fcb7514</td><td>canceled</td><td>2016-11-30</td><td>2016-10-16</td><td>-45</td></tr><tr><td>770d331c84e5b214bd9dc70a10b829d0</td><td>canceled</td><td>2016-11-29</td><td>2016-10-14</td><td>-46</td></tr><tr><td>fa6d0c0ef7a7849ab7847303d458df3c</td><td>canceled</td><td>2018-03-14</td><td>null</td><td>null</td></tr><tr><td>3a129877493c8189c59c60eb71d97c29</td><td>canceled</td><td>2018-02-23</td><td>null</td><td>null</td></tr><tr><td>7c0659561e8e95e839b8a4f9f4b6fab9</td><td>canceled</td><td>2018-06-04</td><td>null</td><td>null</td></tr><tr><td>821c1b3c87d17a24efad81096bee5f09</td><td>canceled</td><td>2017-11-03</td><td>null</td><td>null</td></tr><tr><td>a9c8ac0c26c178f0ad33618f96225a01</td><td>canceled</td><td>2018-08-07</td><td>null</td><td>null</td></tr><tr><td>3a129877493c8189c59c60eb71d97c29</td><td>canceled</td><td>2018-02-23</td><td>null</td><td>null</td></tr><tr><td>a9c8ac0c26c178f0ad33618f96225a01</td><td>canceled</td><td>2018-08-07</td><td>null</td><td>null</td></tr><tr><td>5a8a4dc28b16fb90469ad749f9535773</td><td>canceled</td><td>2018-03-23</td><td>null</td><td>null</td></tr></tbody></table></div>"
            ]
          },
          "metadata": {
            "application/vnd.databricks.v1+output": {
              "addedWidgets": {},
              "aggData": [],
              "aggError": "",
              "aggOverflow": false,
              "aggSchema": [],
              "aggSeriesLimitReached": false,
              "aggType": "",
              "arguments": {},
              "columnCustomDisplayInfos": {},
              "data": [
                [
                  "1950d777989f6a877539f53795b4c3c3",
                  "canceled",
                  "2018-03-09",
                  "2018-03-21",
                  12
                ],
                [
                  "65d1e226dfaeb8cdc42f665422522d14",
                  "canceled",
                  "2016-11-25",
                  "2016-11-08",
                  -17
                ],
                [
                  "2c45c33d2f9cb8ff8b1c86cc28c11c30",
                  "canceled",
                  "2016-12-08",
                  "2016-11-09",
                  -29
                ],
                [
                  "8beb59392e21af5eb9547ae1a9938d06",
                  "canceled",
                  "2016-11-30",
                  "2016-10-19",
                  -42
                ],
                [
                  "dabf2b0e35b423f94618bf965fcb7514",
                  "canceled",
                  "2016-11-30",
                  "2016-10-16",
                  -45
                ],
                [
                  "dabf2b0e35b423f94618bf965fcb7514",
                  "canceled",
                  "2016-11-30",
                  "2016-10-16",
                  -45
                ],
                [
                  "770d331c84e5b214bd9dc70a10b829d0",
                  "canceled",
                  "2016-11-29",
                  "2016-10-14",
                  -46
                ],
                [
                  "fa6d0c0ef7a7849ab7847303d458df3c",
                  "canceled",
                  "2018-03-14",
                  null,
                  null
                ],
                [
                  "3a129877493c8189c59c60eb71d97c29",
                  "canceled",
                  "2018-02-23",
                  null,
                  null
                ],
                [
                  "7c0659561e8e95e839b8a4f9f4b6fab9",
                  "canceled",
                  "2018-06-04",
                  null,
                  null
                ],
                [
                  "821c1b3c87d17a24efad81096bee5f09",
                  "canceled",
                  "2017-11-03",
                  null,
                  null
                ],
                [
                  "a9c8ac0c26c178f0ad33618f96225a01",
                  "canceled",
                  "2018-08-07",
                  null,
                  null
                ],
                [
                  "3a129877493c8189c59c60eb71d97c29",
                  "canceled",
                  "2018-02-23",
                  null,
                  null
                ],
                [
                  "a9c8ac0c26c178f0ad33618f96225a01",
                  "canceled",
                  "2018-08-07",
                  null,
                  null
                ],
                [
                  "5a8a4dc28b16fb90469ad749f9535773",
                  "canceled",
                  "2018-03-23",
                  null,
                  null
                ]
              ],
              "datasetInfos": [],
              "dbfsResultPath": null,
              "isJsonSchema": true,
              "metadata": {},
              "overflow": false,
              "plotOptions": {
                "customPlotOptions": {},
                "displayType": "table",
                "pivotAggregation": null,
                "pivotColumns": null,
                "xColumns": null,
                "yColumns": null
              },
              "removedWidgets": [],
              "schema": [
                {
                  "metadata": "{}",
                  "name": "order_id",
                  "type": "\"string\""
                },
                {
                  "metadata": "{}",
                  "name": "order_status",
                  "type": "\"string\""
                },
                {
                  "metadata": "{}",
                  "name": "order_estimated_delivery_date_new",
                  "type": "\"date\""
                },
                {
                  "metadata": "{}",
                  "name": "order_delivered_customer_date_new",
                  "type": "\"date\""
                },
                {
                  "metadata": "{}",
                  "name": "delay_days",
                  "type": "\"integer\""
                }
              ],
              "type": "table"
            }
          }
        }
      ],
      "source": [
        "%sql\n",
        "SELECT\n",
        "    order_id,\n",
        "    order_status,\n",
        "    order_estimated_delivery_date_new,\n",
        "    order_delivered_customer_date_new,\n",
        "    DATEDIFF(order_delivered_customer_date_new, order_estimated_delivery_date_new) AS delay_days\n",
        "FROM\n",
        "    Gold.dados_agregados\n",
        "WHERE\n",
        "    order_status = 'canceled'\n",
        "ORDER BY\n",
        "    delay_days DESC\n",
        "LIMIT 15;"
      ]
    },
    {
      "cell_type": "markdown",
      "metadata": {
        "application/vnd.databricks.v1+cell": {
          "cellMetadata": {},
          "inputWidgets": {},
          "nuid": "db21bdce-cb4c-4d54-949d-602a0d1de1f4",
          "showTitle": false,
          "tableResultSettingsMap": {},
          "title": ""
        },
        "id": "kRuI6AmnxHr8"
      },
      "source": [
        "Podemos verificar a partir da consulta acima que muitos pedidos que constam como cancelados, não chegaram a ser entregues aos clientes, resultando na lógica de que o cancelamento não foi realizado por insatisfação pelo produto, mas sim outros fatores."
      ]
    },
    {
      "cell_type": "markdown",
      "metadata": {
        "application/vnd.databricks.v1+cell": {
          "cellMetadata": {},
          "inputWidgets": {},
          "nuid": "2ec3bd09-890d-4704-8614-22bdb6208d99",
          "showTitle": false,
          "tableResultSettingsMap": {},
          "title": ""
        },
        "id": "qE0mX6NHxHr8"
      },
      "source": [
        "Faixa de preço do produto x taxa de cancelamento"
      ]
    },
    {
      "cell_type": "code",
      "execution_count": null,
      "metadata": {
        "application/vnd.databricks.v1+cell": {
          "cellMetadata": {
            "byteLimit": 2048000,
            "implicitDf": true,
            "rowLimit": 10000
          },
          "inputWidgets": {},
          "nuid": "c34a3cfc-3846-48cc-9af6-cfb985389f62",
          "showTitle": false,
          "tableResultSettingsMap": {},
          "title": ""
        },
        "id": "TSl880TtxHr9",
        "outputId": "3db1a2f3-dd82-4730-d82a-17f4ad6059cc"
      },
      "outputs": [
        {
          "output_type": "display_data",
          "data": {
            "text/html": [
              "<style scoped>\n",
              "  .table-result-container {\n",
              "    max-height: 300px;\n",
              "    overflow: auto;\n",
              "  }\n",
              "  table, th, td {\n",
              "    border: 1px solid black;\n",
              "    border-collapse: collapse;\n",
              "  }\n",
              "  th, td {\n",
              "    padding: 5px;\n",
              "  }\n",
              "  th {\n",
              "    text-align: left;\n",
              "  }\n",
              "</style><div class='table-result-container'><table class='table-result'><thead style='background-color: white'><tr><th>price_range</th><th>cancellation_count</th><th>total_orders</th><th>cancellation_rate_c</th></tr></thead><tbody><tr><td>201+</td><td>116</td><td>14002</td><td>0.83</td></tr><tr><td>0-50</td><td>187</td><td>41079</td><td>0.46</td></tr><tr><td>101-200</td><td>120</td><td>27923</td><td>0.43</td></tr><tr><td>51-100</td><td>143</td><td>34597</td><td>0.41</td></tr></tbody></table></div>"
            ]
          },
          "metadata": {
            "application/vnd.databricks.v1+output": {
              "addedWidgets": {},
              "aggData": [],
              "aggError": "",
              "aggOverflow": false,
              "aggSchema": [],
              "aggSeriesLimitReached": false,
              "aggType": "",
              "arguments": {},
              "columnCustomDisplayInfos": {},
              "data": [
                [
                  "201+",
                  116,
                  14002,
                  "0.83"
                ],
                [
                  "0-50",
                  187,
                  41079,
                  "0.46"
                ],
                [
                  "101-200",
                  120,
                  27923,
                  "0.43"
                ],
                [
                  "51-100",
                  143,
                  34597,
                  "0.41"
                ]
              ],
              "datasetInfos": [],
              "dbfsResultPath": null,
              "isJsonSchema": true,
              "metadata": {},
              "overflow": false,
              "plotOptions": {
                "customPlotOptions": {},
                "displayType": "table",
                "pivotAggregation": null,
                "pivotColumns": null,
                "xColumns": null,
                "yColumns": null
              },
              "removedWidgets": [],
              "schema": [
                {
                  "metadata": "{}",
                  "name": "price_range",
                  "type": "\"string\""
                },
                {
                  "metadata": "{}",
                  "name": "cancellation_count",
                  "type": "\"long\""
                },
                {
                  "metadata": "{}",
                  "name": "total_orders",
                  "type": "\"long\""
                },
                {
                  "metadata": "{}",
                  "name": "cancellation_rate_c",
                  "type": "\"decimal(27,2)\""
                }
              ],
              "type": "table"
            }
          }
        }
      ],
      "source": [
        "%sql\n",
        "SELECT\n",
        "    CASE\n",
        "        WHEN price <= 50 THEN '0-50'\n",
        "        WHEN price > 50 AND price <= 100 THEN '51-100'\n",
        "        WHEN price > 100 AND price <= 200 THEN '101-200'\n",
        "        WHEN price > 200 THEN '201+'\n",
        "        ELSE 'Sem Preço'\n",
        "    END AS price_range,\n",
        "    COUNT(CASE WHEN order_status = 'canceled' THEN 1 END) AS cancellation_count,\n",
        "    COUNT(*) AS total_orders,\n",
        "    ROUND((COUNT(CASE WHEN order_status = 'canceled' THEN 1 END) * 100.0) / COUNT(*), 2) AS cancellation_rate_c\n",
        "FROM\n",
        "    Gold.dados_agregados\n",
        "GROUP BY\n",
        "    price_range\n",
        "ORDER BY\n",
        "    cancellation_rate_c DESC;"
      ]
    },
    {
      "cell_type": "markdown",
      "metadata": {
        "application/vnd.databricks.v1+cell": {
          "cellMetadata": {},
          "inputWidgets": {},
          "nuid": "172a78a5-958a-4681-bd7f-b311fc896b17",
          "showTitle": false,
          "tableResultSettingsMap": {},
          "title": ""
        },
        "id": "jduVk713xHr9"
      },
      "source": [
        "Tipo de pagamento x taxa de cancelamento de pedidos"
      ]
    },
    {
      "cell_type": "code",
      "execution_count": null,
      "metadata": {
        "application/vnd.databricks.v1+cell": {
          "cellMetadata": {
            "byteLimit": 2048000,
            "implicitDf": true,
            "rowLimit": 10000
          },
          "inputWidgets": {},
          "nuid": "f3145e86-0123-42af-8f70-22ea0b6c76c0",
          "showTitle": false,
          "tableResultSettingsMap": {},
          "title": ""
        },
        "id": "jtxonQ0hxHr9",
        "outputId": "50a469b7-bf86-485e-a25a-6ef5d54a7e29"
      },
      "outputs": [
        {
          "output_type": "display_data",
          "data": {
            "text/html": [
              "<style scoped>\n",
              "  .table-result-container {\n",
              "    max-height: 300px;\n",
              "    overflow: auto;\n",
              "  }\n",
              "  table, th, td {\n",
              "    border: 1px solid black;\n",
              "    border-collapse: collapse;\n",
              "  }\n",
              "  th, td {\n",
              "    padding: 5px;\n",
              "  }\n",
              "  th {\n",
              "    text-align: left;\n",
              "  }\n",
              "</style><div class='table-result-container'><table class='table-result'><thead style='background-color: white'><tr><th>payment_type</th><th>cancellation_count</th><th>total_orders</th><th>cancellation_rate_pay</th></tr></thead><tbody><tr><td>credit_card</td><td>435</td><td>86769</td><td>0.50</td></tr><tr><td>voucher</td><td>29</td><td>6274</td><td>0.46</td></tr><tr><td>boleto</td><td>96</td><td>22867</td><td>0.42</td></tr><tr><td>debit_card</td><td>6</td><td>1691</td><td>0.35</td></tr></tbody></table></div>"
            ]
          },
          "metadata": {
            "application/vnd.databricks.v1+output": {
              "addedWidgets": {},
              "aggData": [],
              "aggError": "",
              "aggOverflow": false,
              "aggSchema": [],
              "aggSeriesLimitReached": false,
              "aggType": "",
              "arguments": {},
              "columnCustomDisplayInfos": {},
              "data": [
                [
                  "credit_card",
                  435,
                  86769,
                  "0.50"
                ],
                [
                  "voucher",
                  29,
                  6274,
                  "0.46"
                ],
                [
                  "boleto",
                  96,
                  22867,
                  "0.42"
                ],
                [
                  "debit_card",
                  6,
                  1691,
                  "0.35"
                ]
              ],
              "datasetInfos": [],
              "dbfsResultPath": null,
              "isJsonSchema": true,
              "metadata": {},
              "overflow": false,
              "plotOptions": {
                "customPlotOptions": {},
                "displayType": "table",
                "pivotAggregation": null,
                "pivotColumns": null,
                "xColumns": null,
                "yColumns": null
              },
              "removedWidgets": [],
              "schema": [
                {
                  "metadata": "{}",
                  "name": "payment_type",
                  "type": "\"string\""
                },
                {
                  "metadata": "{}",
                  "name": "cancellation_count",
                  "type": "\"long\""
                },
                {
                  "metadata": "{}",
                  "name": "total_orders",
                  "type": "\"long\""
                },
                {
                  "metadata": "{}",
                  "name": "cancellation_rate_pay",
                  "type": "\"decimal(27,2)\""
                }
              ],
              "type": "table"
            }
          }
        }
      ],
      "source": [
        "%sql\n",
        "SELECT\n",
        "    payment_type,\n",
        "    COUNT(CASE WHEN order_status = 'canceled' THEN 1 END) AS cancellation_count,\n",
        "    COUNT(*) AS total_orders,\n",
        "    ROUND((COUNT(CASE WHEN order_status = 'canceled' THEN 1 END) * 100.0) / COUNT(*), 2) AS cancellation_rate_pay\n",
        "FROM\n",
        "    Gold.dados_agregados\n",
        "GROUP BY\n",
        "    payment_type\n",
        "ORDER BY\n",
        "    cancellation_rate_pay DESC;"
      ]
    },
    {
      "cell_type": "markdown",
      "metadata": {
        "application/vnd.databricks.v1+cell": {
          "cellMetadata": {},
          "inputWidgets": {},
          "nuid": "53a41863-7143-4cec-a2e1-0e9355bd7f10",
          "showTitle": false,
          "tableResultSettingsMap": {},
          "title": ""
        },
        "id": "vf-YvxinxHr-"
      },
      "source": [
        "Cancelamentos x descontos"
      ]
    },
    {
      "cell_type": "code",
      "execution_count": null,
      "metadata": {
        "application/vnd.databricks.v1+cell": {
          "cellMetadata": {
            "byteLimit": 2048000,
            "implicitDf": true,
            "rowLimit": 10000
          },
          "inputWidgets": {},
          "nuid": "c214ae89-98af-4937-b818-ae70a06923fe",
          "showTitle": false,
          "tableResultSettingsMap": {},
          "title": ""
        },
        "id": "AkWTlmBrxHr-",
        "outputId": "6b0ad21b-af63-40b7-e800-658116beff49"
      },
      "outputs": [
        {
          "output_type": "display_data",
          "data": {
            "text/html": [
              "<style scoped>\n",
              "  .table-result-container {\n",
              "    max-height: 300px;\n",
              "    overflow: auto;\n",
              "  }\n",
              "  table, th, td {\n",
              "    border: 1px solid black;\n",
              "    border-collapse: collapse;\n",
              "  }\n",
              "  th, td {\n",
              "    padding: 5px;\n",
              "  }\n",
              "  th {\n",
              "    text-align: left;\n",
              "  }\n",
              "</style><div class='table-result-container'><table class='table-result'><thead style='background-color: white'><tr><th>customer_unique_id</th><th>order_id</th><th>desconto</th><th>percentual_desconto</th></tr></thead><tbody><tr><td>2592816433dfbb3051af91ba91625de5</td><td>1057bf6391c17f9b6960dd996029e1dc</td><td>166.34</td><td>99.80</td></tr><tr><td>2592816433dfbb3051af91ba91625de5</td><td>1057bf6391c17f9b6960dd996029e1dc</td><td>157.21</td><td>94.32</td></tr><tr><td>15d1c313b6721f3ecc985a3832c6b757</td><td>2b020fc22c27548cc22ee8447edad356</td><td>100.00</td><td>93.37</td></tr><tr><td>c5877771ec620bea58cd167a3ddc1adc</td><td>ec07c952b2e699cd885db38a3c9362f9</td><td>102.39</td><td>93.33</td></tr><tr><td>8964628f0dd7ab0fe0751abedcbd317d</td><td>847e04c1fabd29748790e74c1430c603</td><td>45.34</td><td>92.32</td></tr><tr><td>2592816433dfbb3051af91ba91625de5</td><td>1057bf6391c17f9b6960dd996029e1dc</td><td>151.71</td><td>91.02</td></tr><tr><td>60b2ec19b8c18082cdb5180106a97cb5</td><td>83e6338b5cf25dcf222551cb8da8d0d6</td><td>2442.82</td><td>90.72</td></tr><tr><td>2592816433dfbb3051af91ba91625de5</td><td>1057bf6391c17f9b6960dd996029e1dc</td><td>150.52</td><td>90.31</td></tr><tr><td>2592816433dfbb3051af91ba91625de5</td><td>1057bf6391c17f9b6960dd996029e1dc</td><td>148.55</td><td>89.13</td></tr><tr><td>daba2e7a00c149161c68cbb18db656a9</td><td>854f8cb8dacdc3abc4cce7a7df6fcc1f</td><td>59.24</td><td>87.76</td></tr><tr><td>2592816433dfbb3051af91ba91625de5</td><td>1057bf6391c17f9b6960dd996029e1dc</td><td>146.13</td><td>87.68</td></tr><tr><td>23a08414260ab2e277906e5a5851793b</td><td>c08dd05931abd8cb08aad3d31e39bfed</td><td>1220.45</td><td>85.73</td></tr><tr><td>2592816433dfbb3051af91ba91625de5</td><td>1057bf6391c17f9b6960dd996029e1dc</td><td>142.45</td><td>85.47</td></tr><tr><td>f50ca6544a0ed8a52cc964e15cbe9cf9</td><td>fb265b2dc558a56445dfc48f8224e201</td><td>108.60</td><td>82.82</td></tr><tr><td>2592816433dfbb3051af91ba91625de5</td><td>1057bf6391c17f9b6960dd996029e1dc</td><td>137.24</td><td>82.34</td></tr></tbody></table></div>"
            ]
          },
          "metadata": {
            "application/vnd.databricks.v1+output": {
              "addedWidgets": {},
              "aggData": [],
              "aggError": "",
              "aggOverflow": false,
              "aggSchema": [],
              "aggSeriesLimitReached": false,
              "aggType": "",
              "arguments": {},
              "columnCustomDisplayInfos": {},
              "data": [
                [
                  "2592816433dfbb3051af91ba91625de5",
                  "1057bf6391c17f9b6960dd996029e1dc",
                  "166.34",
                  "99.80"
                ],
                [
                  "2592816433dfbb3051af91ba91625de5",
                  "1057bf6391c17f9b6960dd996029e1dc",
                  "157.21",
                  "94.32"
                ],
                [
                  "15d1c313b6721f3ecc985a3832c6b757",
                  "2b020fc22c27548cc22ee8447edad356",
                  "100.00",
                  "93.37"
                ],
                [
                  "c5877771ec620bea58cd167a3ddc1adc",
                  "ec07c952b2e699cd885db38a3c9362f9",
                  "102.39",
                  "93.33"
                ],
                [
                  "8964628f0dd7ab0fe0751abedcbd317d",
                  "847e04c1fabd29748790e74c1430c603",
                  "45.34",
                  "92.32"
                ],
                [
                  "2592816433dfbb3051af91ba91625de5",
                  "1057bf6391c17f9b6960dd996029e1dc",
                  "151.71",
                  "91.02"
                ],
                [
                  "60b2ec19b8c18082cdb5180106a97cb5",
                  "83e6338b5cf25dcf222551cb8da8d0d6",
                  "2442.82",
                  "90.72"
                ],
                [
                  "2592816433dfbb3051af91ba91625de5",
                  "1057bf6391c17f9b6960dd996029e1dc",
                  "150.52",
                  "90.31"
                ],
                [
                  "2592816433dfbb3051af91ba91625de5",
                  "1057bf6391c17f9b6960dd996029e1dc",
                  "148.55",
                  "89.13"
                ],
                [
                  "daba2e7a00c149161c68cbb18db656a9",
                  "854f8cb8dacdc3abc4cce7a7df6fcc1f",
                  "59.24",
                  "87.76"
                ],
                [
                  "2592816433dfbb3051af91ba91625de5",
                  "1057bf6391c17f9b6960dd996029e1dc",
                  "146.13",
                  "87.68"
                ],
                [
                  "23a08414260ab2e277906e5a5851793b",
                  "c08dd05931abd8cb08aad3d31e39bfed",
                  "1220.45",
                  "85.73"
                ],
                [
                  "2592816433dfbb3051af91ba91625de5",
                  "1057bf6391c17f9b6960dd996029e1dc",
                  "142.45",
                  "85.47"
                ],
                [
                  "f50ca6544a0ed8a52cc964e15cbe9cf9",
                  "fb265b2dc558a56445dfc48f8224e201",
                  "108.60",
                  "82.82"
                ],
                [
                  "2592816433dfbb3051af91ba91625de5",
                  "1057bf6391c17f9b6960dd996029e1dc",
                  "137.24",
                  "82.34"
                ]
              ],
              "datasetInfos": [],
              "dbfsResultPath": null,
              "isJsonSchema": true,
              "metadata": {},
              "overflow": false,
              "plotOptions": {
                "customPlotOptions": {},
                "displayType": "table",
                "pivotAggregation": null,
                "pivotColumns": null,
                "xColumns": null,
                "yColumns": null
              },
              "removedWidgets": [],
              "schema": [
                {
                  "metadata": "{}",
                  "name": "customer_unique_id",
                  "type": "\"string\""
                },
                {
                  "metadata": "{}",
                  "name": "order_id",
                  "type": "\"string\""
                },
                {
                  "metadata": "{}",
                  "name": "desconto",
                  "type": "\"decimal(11,2)\""
                },
                {
                  "metadata": "{}",
                  "name": "percentual_desconto",
                  "type": "\"decimal(18,2)\""
                }
              ],
              "type": "table"
            }
          }
        }
      ],
      "source": [
        "%sql\n",
        "WITH cancelamentos_com_desconto AS (\n",
        "    SELECT\n",
        "        customer_unique_id,\n",
        "        order_id,\n",
        "        payment_value,\n",
        "        total_order_value,\n",
        "        (total_order_value - payment_value) AS desconto,\n",
        "        order_status\n",
        "    FROM\n",
        "        Gold.dados_agregados\n",
        "    WHERE\n",
        "        total_order_value > 0\n",
        "        AND order_status = 'canceled'\n",
        "        AND (total_order_value - payment_value) > 0\n",
        ")\n",
        "\n",
        "SELECT\n",
        "    customer_unique_id,\n",
        "    order_id,\n",
        "    desconto,\n",
        "    ROUND((desconto * 100.0) / total_order_value, 2) AS percentual_desconto\n",
        "FROM\n",
        "    cancelamentos_com_desconto\n",
        "ORDER BY\n",
        "    percentual_desconto DESC\n",
        "LIMIT 15;"
      ]
    },
    {
      "cell_type": "markdown",
      "metadata": {
        "application/vnd.databricks.v1+cell": {
          "cellMetadata": {},
          "inputWidgets": {},
          "nuid": "7fc19a7c-7a2f-493d-8e56-2b5bc001b2bc",
          "showTitle": false,
          "tableResultSettingsMap": {},
          "title": ""
        },
        "id": "S2Bie5LVxHr_"
      },
      "source": [
        "Taxa de cancelamento de pedidos por cliente"
      ]
    },
    {
      "cell_type": "code",
      "execution_count": null,
      "metadata": {
        "application/vnd.databricks.v1+cell": {
          "cellMetadata": {
            "byteLimit": 2048000,
            "implicitDf": true,
            "rowLimit": 10000
          },
          "inputWidgets": {},
          "nuid": "62d1622b-9fdb-405d-b9e4-32aa7e53767a",
          "showTitle": false,
          "tableResultSettingsMap": {},
          "title": ""
        },
        "id": "QGVRzmTNxHr_",
        "outputId": "2f17efd2-8dd1-4af2-f0b4-7dafa6c724ab"
      },
      "outputs": [
        {
          "output_type": "display_data",
          "data": {
            "text/html": [
              "<style scoped>\n",
              "  .table-result-container {\n",
              "    max-height: 300px;\n",
              "    overflow: auto;\n",
              "  }\n",
              "  table, th, td {\n",
              "    border: 1px solid black;\n",
              "    border-collapse: collapse;\n",
              "  }\n",
              "  th, td {\n",
              "    padding: 5px;\n",
              "  }\n",
              "  th {\n",
              "    text-align: left;\n",
              "  }\n",
              "</style><div class='table-result-container'><table class='table-result'><thead style='background-color: white'><tr><th>customer_unique_id</th><th>total_orders</th><th>canceled_orders</th><th>cancellation_rate</th></tr></thead><tbody><tr><td>22af178809fa6887af2cc4f7d7bdc0bc</td><td>6</td><td>6</td><td>100.00</td></tr><tr><td>a28a87da2cbdedcaeef1958a821308ad</td><td>1</td><td>1</td><td>100.00</td></tr><tr><td>76e697cd6a76cf072e9307fa9f4a6026</td><td>1</td><td>1</td><td>100.00</td></tr><tr><td>b2bb87ebda9c0aad99e72716de580b63</td><td>1</td><td>1</td><td>100.00</td></tr><tr><td>8baf40106768ade624db23a1fd11808e</td><td>1</td><td>1</td><td>100.00</td></tr><tr><td>c1242a4d8e2d5dde133a8c46d5b22975</td><td>1</td><td>1</td><td>100.00</td></tr><tr><td>786abe8655280c105e08af1030cd3738</td><td>1</td><td>1</td><td>100.00</td></tr><tr><td>8cfb20eff1ce8185a15ab1df1a8969e3</td><td>1</td><td>1</td><td>100.00</td></tr><tr><td>25c00b3bb56030f1ac1f254da33f3b0c</td><td>1</td><td>1</td><td>100.00</td></tr><tr><td>10246c1deb72f0dac263516219a06bd4</td><td>1</td><td>1</td><td>100.00</td></tr><tr><td>a4a9f56f9f405802035afba6bc2576ba</td><td>1</td><td>1</td><td>100.00</td></tr><tr><td>ae55a9f971dc788a3285d257a2abacc5</td><td>1</td><td>1</td><td>100.00</td></tr><tr><td>e3fe811011101628e80a7953f1244c8d</td><td>5</td><td>5</td><td>100.00</td></tr><tr><td>4be7401277e805bf714401f604eac2aa</td><td>1</td><td>1</td><td>100.00</td></tr><tr><td>39e441e925537ef195f789be824ffc07</td><td>1</td><td>1</td><td>100.00</td></tr></tbody></table></div>"
            ]
          },
          "metadata": {
            "application/vnd.databricks.v1+output": {
              "addedWidgets": {},
              "aggData": [],
              "aggError": "",
              "aggOverflow": false,
              "aggSchema": [],
              "aggSeriesLimitReached": false,
              "aggType": "",
              "arguments": {},
              "columnCustomDisplayInfos": {},
              "data": [
                [
                  "22af178809fa6887af2cc4f7d7bdc0bc",
                  6,
                  6,
                  "100.00"
                ],
                [
                  "a28a87da2cbdedcaeef1958a821308ad",
                  1,
                  1,
                  "100.00"
                ],
                [
                  "76e697cd6a76cf072e9307fa9f4a6026",
                  1,
                  1,
                  "100.00"
                ],
                [
                  "b2bb87ebda9c0aad99e72716de580b63",
                  1,
                  1,
                  "100.00"
                ],
                [
                  "8baf40106768ade624db23a1fd11808e",
                  1,
                  1,
                  "100.00"
                ],
                [
                  "c1242a4d8e2d5dde133a8c46d5b22975",
                  1,
                  1,
                  "100.00"
                ],
                [
                  "786abe8655280c105e08af1030cd3738",
                  1,
                  1,
                  "100.00"
                ],
                [
                  "8cfb20eff1ce8185a15ab1df1a8969e3",
                  1,
                  1,
                  "100.00"
                ],
                [
                  "25c00b3bb56030f1ac1f254da33f3b0c",
                  1,
                  1,
                  "100.00"
                ],
                [
                  "10246c1deb72f0dac263516219a06bd4",
                  1,
                  1,
                  "100.00"
                ],
                [
                  "a4a9f56f9f405802035afba6bc2576ba",
                  1,
                  1,
                  "100.00"
                ],
                [
                  "ae55a9f971dc788a3285d257a2abacc5",
                  1,
                  1,
                  "100.00"
                ],
                [
                  "e3fe811011101628e80a7953f1244c8d",
                  5,
                  5,
                  "100.00"
                ],
                [
                  "4be7401277e805bf714401f604eac2aa",
                  1,
                  1,
                  "100.00"
                ],
                [
                  "39e441e925537ef195f789be824ffc07",
                  1,
                  1,
                  "100.00"
                ]
              ],
              "datasetInfos": [],
              "dbfsResultPath": null,
              "isJsonSchema": true,
              "metadata": {},
              "overflow": false,
              "plotOptions": {
                "customPlotOptions": {},
                "displayType": "table",
                "pivotAggregation": null,
                "pivotColumns": null,
                "xColumns": null,
                "yColumns": null
              },
              "removedWidgets": [],
              "schema": [
                {
                  "metadata": "{}",
                  "name": "customer_unique_id",
                  "type": "\"string\""
                },
                {
                  "metadata": "{}",
                  "name": "total_orders",
                  "type": "\"long\""
                },
                {
                  "metadata": "{}",
                  "name": "canceled_orders",
                  "type": "\"long\""
                },
                {
                  "metadata": "{}",
                  "name": "cancellation_rate",
                  "type": "\"decimal(27,2)\""
                }
              ],
              "type": "table"
            }
          }
        }
      ],
      "source": [
        "%sql\n",
        "WITH cancelamentos_cliente AS (\n",
        "    SELECT\n",
        "        customer_unique_id,\n",
        "        COUNT(*) AS total_orders,\n",
        "        COUNT(CASE WHEN order_status = 'canceled' THEN 1 END) AS canceled_orders\n",
        "    FROM\n",
        "        Gold.dados_agregados\n",
        "    GROUP BY\n",
        "        customer_unique_id\n",
        ")\n",
        "\n",
        "SELECT\n",
        "    customer_unique_id,\n",
        "    total_orders,\n",
        "    canceled_orders,\n",
        "    ROUND((canceled_orders * 100.0) / total_orders, 2) AS cancellation_rate\n",
        "FROM\n",
        "    cancelamentos_cliente\n",
        "WHERE\n",
        "    canceled_orders > 0\n",
        "ORDER BY\n",
        "    cancellation_rate DESC\n",
        "LIMIT 15;"
      ]
    },
    {
      "cell_type": "code",
      "execution_count": null,
      "metadata": {
        "application/vnd.databricks.v1+cell": {
          "cellMetadata": {
            "byteLimit": 2048000,
            "implicitDf": true,
            "rowLimit": 10000
          },
          "inputWidgets": {},
          "nuid": "3e8c7ce8-b2e9-4a45-a3ab-711802523c55",
          "showTitle": false,
          "tableResultSettingsMap": {},
          "title": ""
        },
        "id": "VKArQKKTxHr_",
        "outputId": "712a0ac7-7d79-430c-e2a0-e38f14be98d2"
      },
      "outputs": [
        {
          "output_type": "display_data",
          "data": {
            "text/html": [
              "<style scoped>\n",
              "  .table-result-container {\n",
              "    max-height: 300px;\n",
              "    overflow: auto;\n",
              "  }\n",
              "  table, th, td {\n",
              "    border: 1px solid black;\n",
              "    border-collapse: collapse;\n",
              "  }\n",
              "  th, td {\n",
              "    padding: 5px;\n",
              "  }\n",
              "  th {\n",
              "    text-align: left;\n",
              "  }\n",
              "</style><div class='table-result-container'><table class='table-result'><thead style='background-color: white'><tr></tr></thead><tbody></tbody></table></div>"
            ]
          },
          "metadata": {
            "application/vnd.databricks.v1+output": {
              "addedWidgets": {},
              "aggData": [],
              "aggError": "",
              "aggOverflow": false,
              "aggSchema": [],
              "aggSeriesLimitReached": false,
              "aggType": "",
              "arguments": {},
              "columnCustomDisplayInfos": {},
              "data": [],
              "datasetInfos": [],
              "dbfsResultPath": null,
              "isJsonSchema": true,
              "metadata": {},
              "overflow": false,
              "plotOptions": {
                "customPlotOptions": {},
                "displayType": "table",
                "pivotAggregation": null,
                "pivotColumns": null,
                "xColumns": null,
                "yColumns": null
              },
              "removedWidgets": [],
              "schema": [],
              "type": "table"
            }
          }
        }
      ],
      "source": [
        "%sql\n",
        "CREATE OR REPLACE TEMP VIEW tabela_com_descontos AS\n",
        "SELECT\n",
        "    order_id,\n",
        "    payment_value,\n",
        "    total_order_value,\n",
        "    (total_order_value - payment_value) AS desconto,\n",
        "    order_status\n",
        "FROM\n",
        "    Gold.dados_agregados;"
      ]
    },
    {
      "cell_type": "code",
      "execution_count": null,
      "metadata": {
        "application/vnd.databricks.v1+cell": {
          "cellMetadata": {
            "byteLimit": 2048000,
            "implicitDf": true,
            "rowLimit": 10000
          },
          "inputWidgets": {},
          "nuid": "9198636f-7f1f-43e3-9747-2f640c4499f8",
          "showTitle": false,
          "tableResultSettingsMap": {},
          "title": ""
        },
        "id": "kuf3LfsJxHsA",
        "outputId": "a100e3c5-9bfa-4186-dde5-230948419dc4"
      },
      "outputs": [
        {
          "output_type": "display_data",
          "data": {
            "text/html": [
              "<style scoped>\n",
              "  .table-result-container {\n",
              "    max-height: 300px;\n",
              "    overflow: auto;\n",
              "  }\n",
              "  table, th, td {\n",
              "    border: 1px solid black;\n",
              "    border-collapse: collapse;\n",
              "  }\n",
              "  th, td {\n",
              "    padding: 5px;\n",
              "  }\n",
              "  th {\n",
              "    text-align: left;\n",
              "  }\n",
              "</style><div class='table-result-container'><table class='table-result'><thead style='background-color: white'><tr><th>order_id</th><th>payment_value</th><th>total_order_value</th><th>desconto</th><th>order_status</th></tr></thead><tbody><tr><td>83e6338b5cf25dcf222551cb8da8d0d6</td><td>250.00</td><td>2692.82</td><td>2442.82</td><td>canceled</td></tr><tr><td>c08dd05931abd8cb08aad3d31e39bfed</td><td>203.07</td><td>1423.52</td><td>1220.45</td><td>canceled</td></tr><tr><td>83e6338b5cf25dcf222551cb8da8d0d6</td><td>2442.82</td><td>2692.82</td><td>250.00</td><td>canceled</td></tr><tr><td>eb0393138e2e8b7164947608489f069e</td><td>100.00</td><td>325.86</td><td>225.86</td><td>canceled</td></tr><tr><td>c08dd05931abd8cb08aad3d31e39bfed</td><td>1220.45</td><td>1423.52</td><td>203.07</td><td>canceled</td></tr><tr><td>1057bf6391c17f9b6960dd996029e1dc</td><td>0.33</td><td>166.67</td><td>166.34</td><td>canceled</td></tr><tr><td>1057bf6391c17f9b6960dd996029e1dc</td><td>9.46</td><td>166.67</td><td>157.21</td><td>canceled</td></tr><tr><td>1057bf6391c17f9b6960dd996029e1dc</td><td>14.96</td><td>166.67</td><td>151.71</td><td>canceled</td></tr><tr><td>1057bf6391c17f9b6960dd996029e1dc</td><td>16.15</td><td>166.67</td><td>150.52</td><td>canceled</td></tr><tr><td>1057bf6391c17f9b6960dd996029e1dc</td><td>18.12</td><td>166.67</td><td>148.55</td><td>canceled</td></tr><tr><td>1057bf6391c17f9b6960dd996029e1dc</td><td>20.54</td><td>166.67</td><td>146.13</td><td>canceled</td></tr><tr><td>1057bf6391c17f9b6960dd996029e1dc</td><td>24.22</td><td>166.67</td><td>142.45</td><td>canceled</td></tr><tr><td>1057bf6391c17f9b6960dd996029e1dc</td><td>29.43</td><td>166.67</td><td>137.24</td><td>canceled</td></tr><tr><td>1057bf6391c17f9b6960dd996029e1dc</td><td>33.46</td><td>166.67</td><td>133.21</td><td>canceled</td></tr><tr><td>fb265b2dc558a56445dfc48f8224e201</td><td>22.52</td><td>131.12</td><td>108.60</td><td>canceled</td></tr></tbody></table></div>"
            ]
          },
          "metadata": {
            "application/vnd.databricks.v1+output": {
              "addedWidgets": {},
              "aggData": [],
              "aggError": "",
              "aggOverflow": false,
              "aggSchema": [],
              "aggSeriesLimitReached": false,
              "aggType": "",
              "arguments": {},
              "columnCustomDisplayInfos": {},
              "data": [
                [
                  "83e6338b5cf25dcf222551cb8da8d0d6",
                  "250.00",
                  "2692.82",
                  "2442.82",
                  "canceled"
                ],
                [
                  "c08dd05931abd8cb08aad3d31e39bfed",
                  "203.07",
                  "1423.52",
                  "1220.45",
                  "canceled"
                ],
                [
                  "83e6338b5cf25dcf222551cb8da8d0d6",
                  "2442.82",
                  "2692.82",
                  "250.00",
                  "canceled"
                ],
                [
                  "eb0393138e2e8b7164947608489f069e",
                  "100.00",
                  "325.86",
                  "225.86",
                  "canceled"
                ],
                [
                  "c08dd05931abd8cb08aad3d31e39bfed",
                  "1220.45",
                  "1423.52",
                  "203.07",
                  "canceled"
                ],
                [
                  "1057bf6391c17f9b6960dd996029e1dc",
                  "0.33",
                  "166.67",
                  "166.34",
                  "canceled"
                ],
                [
                  "1057bf6391c17f9b6960dd996029e1dc",
                  "9.46",
                  "166.67",
                  "157.21",
                  "canceled"
                ],
                [
                  "1057bf6391c17f9b6960dd996029e1dc",
                  "14.96",
                  "166.67",
                  "151.71",
                  "canceled"
                ],
                [
                  "1057bf6391c17f9b6960dd996029e1dc",
                  "16.15",
                  "166.67",
                  "150.52",
                  "canceled"
                ],
                [
                  "1057bf6391c17f9b6960dd996029e1dc",
                  "18.12",
                  "166.67",
                  "148.55",
                  "canceled"
                ],
                [
                  "1057bf6391c17f9b6960dd996029e1dc",
                  "20.54",
                  "166.67",
                  "146.13",
                  "canceled"
                ],
                [
                  "1057bf6391c17f9b6960dd996029e1dc",
                  "24.22",
                  "166.67",
                  "142.45",
                  "canceled"
                ],
                [
                  "1057bf6391c17f9b6960dd996029e1dc",
                  "29.43",
                  "166.67",
                  "137.24",
                  "canceled"
                ],
                [
                  "1057bf6391c17f9b6960dd996029e1dc",
                  "33.46",
                  "166.67",
                  "133.21",
                  "canceled"
                ],
                [
                  "fb265b2dc558a56445dfc48f8224e201",
                  "22.52",
                  "131.12",
                  "108.60",
                  "canceled"
                ]
              ],
              "datasetInfos": [],
              "dbfsResultPath": null,
              "isJsonSchema": true,
              "metadata": {},
              "overflow": false,
              "plotOptions": {
                "customPlotOptions": {},
                "displayType": "table",
                "pivotAggregation": null,
                "pivotColumns": null,
                "xColumns": null,
                "yColumns": null
              },
              "removedWidgets": [],
              "schema": [
                {
                  "metadata": "{}",
                  "name": "order_id",
                  "type": "\"string\""
                },
                {
                  "metadata": "{}",
                  "name": "payment_value",
                  "type": "\"decimal(10,2)\""
                },
                {
                  "metadata": "{}",
                  "name": "total_order_value",
                  "type": "\"decimal(10,2)\""
                },
                {
                  "metadata": "{}",
                  "name": "desconto",
                  "type": "\"decimal(11,2)\""
                },
                {
                  "metadata": "{}",
                  "name": "order_status",
                  "type": "\"string\""
                }
              ],
              "type": "table"
            }
          }
        }
      ],
      "source": [
        "%sql\n",
        "SELECT * FROM tabela_com_descontos WHERE order_status = 'canceled'\n",
        "ORDER BY desconto DESC\n",
        "LIMIT 15;"
      ]
    },
    {
      "cell_type": "markdown",
      "metadata": {
        "application/vnd.databricks.v1+cell": {
          "cellMetadata": {},
          "inputWidgets": {},
          "nuid": "d9ad5666-f4f9-4940-b01c-7a31d84ea5f7",
          "showTitle": false,
          "tableResultSettingsMap": {},
          "title": ""
        },
        "id": "47gYW14oxHsF"
      },
      "source": [
        "Carregando tabela de descontos em um Pandas Dataframe"
      ]
    },
    {
      "cell_type": "code",
      "execution_count": null,
      "metadata": {
        "application/vnd.databricks.v1+cell": {
          "cellMetadata": {
            "byteLimit": 2048000,
            "rowLimit": 10000
          },
          "inputWidgets": {},
          "nuid": "27bc6903-995e-4245-9dcd-290125e411b0",
          "showTitle": false,
          "tableResultSettingsMap": {},
          "title": ""
        },
        "id": "Y0OX2lXvxHsF",
        "outputId": "1a3d8c4f-14ad-4330-dc5f-1637525ba0fd"
      },
      "outputs": [
        {
          "output_type": "stream",
          "name": "stderr",
          "text": [
            "/databricks/spark/python/pyspark/sql/pandas/utils.py:124: UserWarning: The conversion of DecimalType columns is inefficient and may take a long time. Column names: [payment_value, total_order_value, desconto] If those columns are not necessary, you may consider dropping them or converting to primitive types before the conversion.\n  warnings.warn(\n"
          ]
        },
        {
          "output_type": "display_data",
          "data": {
            "text/html": [
              "<div>\n",
              "<style scoped>\n",
              "    .dataframe tbody tr th:only-of-type {\n",
              "        vertical-align: middle;\n",
              "    }\n",
              "\n",
              "    .dataframe tbody tr th {\n",
              "        vertical-align: top;\n",
              "    }\n",
              "\n",
              "    .dataframe thead th {\n",
              "        text-align: right;\n",
              "    }\n",
              "</style>\n",
              "<table border=\"1\" class=\"dataframe\">\n",
              "  <thead>\n",
              "    <tr style=\"text-align: right;\">\n",
              "      <th></th>\n",
              "      <th>order_id</th>\n",
              "      <th>payment_value</th>\n",
              "      <th>total_order_value</th>\n",
              "      <th>desconto</th>\n",
              "      <th>order_status</th>\n",
              "    </tr>\n",
              "  </thead>\n",
              "  <tbody>\n",
              "    <tr>\n",
              "      <th>0</th>\n",
              "      <td>bec5a824282dde8cdfe6aaf6b6525a6c</td>\n",
              "      <td>62.01</td>\n",
              "      <td>62.01</td>\n",
              "      <td>0.00</td>\n",
              "      <td>delivered</td>\n",
              "    </tr>\n",
              "    <tr>\n",
              "      <th>1</th>\n",
              "      <td>675b1c40d6b0d4397714c1087eeafb01</td>\n",
              "      <td>22.51</td>\n",
              "      <td>22.51</td>\n",
              "      <td>0.00</td>\n",
              "      <td>delivered</td>\n",
              "    </tr>\n",
              "    <tr>\n",
              "      <th>2</th>\n",
              "      <td>927ace45edbc6f486fa5656683aa791d</td>\n",
              "      <td>106.54</td>\n",
              "      <td>106.54</td>\n",
              "      <td>0.00</td>\n",
              "      <td>delivered</td>\n",
              "    </tr>\n",
              "    <tr>\n",
              "      <th>3</th>\n",
              "      <td>0baa56401ae212e308d73cba2911ae20</td>\n",
              "      <td>87.22</td>\n",
              "      <td>87.22</td>\n",
              "      <td>0.00</td>\n",
              "      <td>delivered</td>\n",
              "    </tr>\n",
              "    <tr>\n",
              "      <th>4</th>\n",
              "      <td>0baa56401ae212e308d73cba2911ae20</td>\n",
              "      <td>87.22</td>\n",
              "      <td>87.22</td>\n",
              "      <td>0.00</td>\n",
              "      <td>delivered</td>\n",
              "    </tr>\n",
              "  </tbody>\n",
              "</table>\n",
              "</div>"
            ]
          },
          "metadata": {
            "application/vnd.databricks.v1+output": {
              "addedWidgets": {},
              "arguments": {},
              "data": "<div>\n<style scoped>\n    .dataframe tbody tr th:only-of-type {\n        vertical-align: middle;\n    }\n\n    .dataframe tbody tr th {\n        vertical-align: top;\n    }\n\n    .dataframe thead th {\n        text-align: right;\n    }\n</style>\n<table border=\"1\" class=\"dataframe\">\n  <thead>\n    <tr style=\"text-align: right;\">\n      <th></th>\n      <th>order_id</th>\n      <th>payment_value</th>\n      <th>total_order_value</th>\n      <th>desconto</th>\n      <th>order_status</th>\n    </tr>\n  </thead>\n  <tbody>\n    <tr>\n      <th>0</th>\n      <td>bec5a824282dde8cdfe6aaf6b6525a6c</td>\n      <td>62.01</td>\n      <td>62.01</td>\n      <td>0.00</td>\n      <td>delivered</td>\n    </tr>\n    <tr>\n      <th>1</th>\n      <td>675b1c40d6b0d4397714c1087eeafb01</td>\n      <td>22.51</td>\n      <td>22.51</td>\n      <td>0.00</td>\n      <td>delivered</td>\n    </tr>\n    <tr>\n      <th>2</th>\n      <td>927ace45edbc6f486fa5656683aa791d</td>\n      <td>106.54</td>\n      <td>106.54</td>\n      <td>0.00</td>\n      <td>delivered</td>\n    </tr>\n    <tr>\n      <th>3</th>\n      <td>0baa56401ae212e308d73cba2911ae20</td>\n      <td>87.22</td>\n      <td>87.22</td>\n      <td>0.00</td>\n      <td>delivered</td>\n    </tr>\n    <tr>\n      <th>4</th>\n      <td>0baa56401ae212e308d73cba2911ae20</td>\n      <td>87.22</td>\n      <td>87.22</td>\n      <td>0.00</td>\n      <td>delivered</td>\n    </tr>\n  </tbody>\n</table>\n</div>",
              "datasetInfos": [],
              "metadata": {},
              "removedWidgets": [],
              "textData": null,
              "type": "htmlSandbox"
            }
          }
        }
      ],
      "source": [
        "df_pandas = spark.table(\"tabela_com_descontos\").toPandas()\n",
        "\n",
        "df_pandas.head()"
      ]
    },
    {
      "cell_type": "markdown",
      "metadata": {
        "application/vnd.databricks.v1+cell": {
          "cellMetadata": {},
          "inputWidgets": {},
          "nuid": "4dee27ab-d319-402a-ad8c-3bacdbbcb314",
          "showTitle": false,
          "tableResultSettingsMap": {},
          "title": ""
        },
        "id": "J2garVRuxHsF"
      },
      "source": [
        "Filtrando dataframe"
      ]
    },
    {
      "cell_type": "code",
      "execution_count": null,
      "metadata": {
        "application/vnd.databricks.v1+cell": {
          "cellMetadata": {
            "byteLimit": 2048000,
            "rowLimit": 10000
          },
          "inputWidgets": {},
          "nuid": "83bd8f1d-4ed3-4d9b-b6ec-5cc4b943a4a7",
          "showTitle": false,
          "tableResultSettingsMap": {},
          "title": ""
        },
        "id": "3rTFhny0xHsF"
      },
      "outputs": [],
      "source": [
        "df_filtered = df_pandas[df_pandas['order_status'].isin(['delivered', 'canceled'])]"
      ]
    },
    {
      "cell_type": "markdown",
      "metadata": {
        "application/vnd.databricks.v1+cell": {
          "cellMetadata": {},
          "inputWidgets": {},
          "nuid": "b87a137b-1d41-4317-90f2-abde194fb982",
          "showTitle": false,
          "tableResultSettingsMap": {},
          "title": ""
        },
        "id": "OppEMDogxHsF"
      },
      "source": [
        "Visualizando a distribuição dos descontos para pedidos cancelados x entregues"
      ]
    },
    {
      "cell_type": "code",
      "execution_count": null,
      "metadata": {
        "application/vnd.databricks.v1+cell": {
          "cellMetadata": {
            "byteLimit": 2048000,
            "rowLimit": 10000
          },
          "inputWidgets": {},
          "nuid": "096907f3-3e86-44ae-a00d-f87ae3f4479b",
          "showTitle": false,
          "tableResultSettingsMap": {},
          "title": ""
        },
        "id": "LlJhBEuIxHsF",
        "outputId": "19c7a242-3e46-41b0-d532-4ab60f9297a3"
      },
      "outputs": [
        {
          "output_type": "stream",
          "name": "stderr",
          "text": [
            "<command-13254518166462>:5: SettingWithCopyWarning: \nA value is trying to be set on a copy of a slice from a DataFrame.\nTry using .loc[row_indexer,col_indexer] = value instead\n\nSee the caveats in the documentation: https://pandas.pydata.org/pandas-docs/stable/user_guide/indexing.html#returning-a-view-versus-a-copy\n  df_filtered['point_size'] = df_filtered['order_status'].apply(lambda x: 10 if x == 'canceled' else 3)\n"
          ]
        },
        {
          "output_type": "display_data",
          "data": {
            "image/png": "[encoded data removed]"
          },
          "metadata": {
            "application/vnd.databricks.v1+output": {
              "addedWidgets": {},
              "arguments": {},
              "data": "data:image/png;base64,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\n",
              "datasetInfos": [],
              "metadata": {},
              "removedWidgets": [],
              "type": "image"
            }
          }
        }
      ],
      "source": [
        "import seaborn as sns\n",
        "import matplotlib.pyplot as plt\n",
        "\n",
        "\n",
        "df_filtered['point_size'] = df_filtered['order_status'].apply(lambda x: 10 if x == 'canceled' else 3)\n",
        "\n",
        "plt.figure(figsize=(10, 6))\n",
        "sns.scatterplot(x='desconto', y='payment_value', data=df_filtered, hue='order_status', palette='coolwarm', size='point_size', sizes=(10, 100))\n",
        "\n",
        "\n",
        "plt.title('Valor Pagamento x Desconto (Status: Delivered vs Canceled)', fontsize=14)\n",
        "plt.xlabel('Desconto (R$)', fontsize=12)\n",
        "plt.ylabel('Valor de Pagamento (R$)', fontsize=12)\n",
        "\n",
        "\n",
        "plt.show()"
      ]
    },
    {
      "cell_type": "markdown",
      "metadata": {
        "application/vnd.databricks.v1+cell": {
          "cellMetadata": {},
          "inputWidgets": {},
          "nuid": "876358d2-fbc2-4934-a968-6db9f4f95956",
          "showTitle": false,
          "tableResultSettingsMap": {},
          "title": ""
        },
        "id": "nE2LfvH1xHsG"
      },
      "source": [
        "Foi verificado se os cancelamentos podem estar ligados a compras com descontos concedidos. Porém, a grande maioria dos pedidos cancelados não obteve descontos, podendo ser um incentivo para o cliente retornar a finalizar alguma outra compra, e até mesmo um motivador para futuros clientes, principalmente para aqueles que desejam comprar produtos com valores mais altos."
      ]
    }
  ],
  "metadata": {
    "application/vnd.databricks.v1+notebook": {
      "computePreferences": null,
      "dashboards": [],
      "environmentMetadata": {
        "base_environment": "",
        "environment_version": "1"
      },
      "inputWidgetPreferences": null,
      "language": "python",
      "notebookMetadata": {
        "mostRecentlyExecutedCommandWithImplicitDF": {
          "commandId": 13254518166468,
          "dataframes": [
            "_sqldf"
          ]
        },
        "pythonIndentUnit": 4
      },
      "notebookName": "MVP - Parte 2 - Disciplina: Sprint: Engenharia de Dados",
      "widgets": {}
    },
    "colab": {
      "provenance": []
    }
  },
  "nbformat": 4,
  "nbformat_minor": 0
}